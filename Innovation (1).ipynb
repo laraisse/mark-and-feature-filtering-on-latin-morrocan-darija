{
  "nbformat": 4,
  "nbformat_minor": 0,
  "metadata": {
    "colab": {
      "provenance": []
    },
    "kernelspec": {
      "name": "python3",
      "display_name": "Python 3"
    },
    "language_info": {
      "name": "python"
    },
    "widgets": {
      "application/vnd.jupyter.widget-state+json": {
        "643fde85ed794870b551af13b4340e65": {
          "model_module": "@jupyter-widgets/controls",
          "model_name": "HBoxModel",
          "model_module_version": "1.5.0",
          "state": {
            "_dom_classes": [],
            "_model_module": "@jupyter-widgets/controls",
            "_model_module_version": "1.5.0",
            "_model_name": "HBoxModel",
            "_view_count": null,
            "_view_module": "@jupyter-widgets/controls",
            "_view_module_version": "1.5.0",
            "_view_name": "HBoxView",
            "box_style": "",
            "children": [
              "IPY_MODEL_afbb9832e7ab469cad998452c06adbad",
              "IPY_MODEL_cb4581abb1c04815b52c5d188c2a0313",
              "IPY_MODEL_b054b07c031d4bf4b979aa91e7abb46f"
            ],
            "layout": "IPY_MODEL_d7f42fe687814a18841465a59adfbe50"
          }
        },
        "afbb9832e7ab469cad998452c06adbad": {
          "model_module": "@jupyter-widgets/controls",
          "model_name": "HTMLModel",
          "model_module_version": "1.5.0",
          "state": {
            "_dom_classes": [],
            "_model_module": "@jupyter-widgets/controls",
            "_model_module_version": "1.5.0",
            "_model_name": "HTMLModel",
            "_view_count": null,
            "_view_module": "@jupyter-widgets/controls",
            "_view_module_version": "1.5.0",
            "_view_name": "HTMLView",
            "description": "",
            "description_tooltip": null,
            "layout": "IPY_MODEL_a2d00245d43649a0baa6824579afef63",
            "placeholder": "​",
            "style": "IPY_MODEL_2722eb7a354f4ea8a8346fba7fda5fa6",
            "value": "modules.json: 100%"
          }
        },
        "cb4581abb1c04815b52c5d188c2a0313": {
          "model_module": "@jupyter-widgets/controls",
          "model_name": "FloatProgressModel",
          "model_module_version": "1.5.0",
          "state": {
            "_dom_classes": [],
            "_model_module": "@jupyter-widgets/controls",
            "_model_module_version": "1.5.0",
            "_model_name": "FloatProgressModel",
            "_view_count": null,
            "_view_module": "@jupyter-widgets/controls",
            "_view_module_version": "1.5.0",
            "_view_name": "ProgressView",
            "bar_style": "success",
            "description": "",
            "description_tooltip": null,
            "layout": "IPY_MODEL_48d5e325b86d466f8a625031ba29f853",
            "max": 349,
            "min": 0,
            "orientation": "horizontal",
            "style": "IPY_MODEL_bbd7dca740b54892896f769b8c544b3c",
            "value": 349
          }
        },
        "b054b07c031d4bf4b979aa91e7abb46f": {
          "model_module": "@jupyter-widgets/controls",
          "model_name": "HTMLModel",
          "model_module_version": "1.5.0",
          "state": {
            "_dom_classes": [],
            "_model_module": "@jupyter-widgets/controls",
            "_model_module_version": "1.5.0",
            "_model_name": "HTMLModel",
            "_view_count": null,
            "_view_module": "@jupyter-widgets/controls",
            "_view_module_version": "1.5.0",
            "_view_name": "HTMLView",
            "description": "",
            "description_tooltip": null,
            "layout": "IPY_MODEL_ec60f0e134fc406faa2caa8354baa429",
            "placeholder": "​",
            "style": "IPY_MODEL_fa2b2c8f125945678aead403abf62dcc",
            "value": " 349/349 [00:00&lt;00:00, 15.0kB/s]"
          }
        },
        "d7f42fe687814a18841465a59adfbe50": {
          "model_module": "@jupyter-widgets/base",
          "model_name": "LayoutModel",
          "model_module_version": "1.2.0",
          "state": {
            "_model_module": "@jupyter-widgets/base",
            "_model_module_version": "1.2.0",
            "_model_name": "LayoutModel",
            "_view_count": null,
            "_view_module": "@jupyter-widgets/base",
            "_view_module_version": "1.2.0",
            "_view_name": "LayoutView",
            "align_content": null,
            "align_items": null,
            "align_self": null,
            "border": null,
            "bottom": null,
            "display": null,
            "flex": null,
            "flex_flow": null,
            "grid_area": null,
            "grid_auto_columns": null,
            "grid_auto_flow": null,
            "grid_auto_rows": null,
            "grid_column": null,
            "grid_gap": null,
            "grid_row": null,
            "grid_template_areas": null,
            "grid_template_columns": null,
            "grid_template_rows": null,
            "height": null,
            "justify_content": null,
            "justify_items": null,
            "left": null,
            "margin": null,
            "max_height": null,
            "max_width": null,
            "min_height": null,
            "min_width": null,
            "object_fit": null,
            "object_position": null,
            "order": null,
            "overflow": null,
            "overflow_x": null,
            "overflow_y": null,
            "padding": null,
            "right": null,
            "top": null,
            "visibility": null,
            "width": null
          }
        },
        "a2d00245d43649a0baa6824579afef63": {
          "model_module": "@jupyter-widgets/base",
          "model_name": "LayoutModel",
          "model_module_version": "1.2.0",
          "state": {
            "_model_module": "@jupyter-widgets/base",
            "_model_module_version": "1.2.0",
            "_model_name": "LayoutModel",
            "_view_count": null,
            "_view_module": "@jupyter-widgets/base",
            "_view_module_version": "1.2.0",
            "_view_name": "LayoutView",
            "align_content": null,
            "align_items": null,
            "align_self": null,
            "border": null,
            "bottom": null,
            "display": null,
            "flex": null,
            "flex_flow": null,
            "grid_area": null,
            "grid_auto_columns": null,
            "grid_auto_flow": null,
            "grid_auto_rows": null,
            "grid_column": null,
            "grid_gap": null,
            "grid_row": null,
            "grid_template_areas": null,
            "grid_template_columns": null,
            "grid_template_rows": null,
            "height": null,
            "justify_content": null,
            "justify_items": null,
            "left": null,
            "margin": null,
            "max_height": null,
            "max_width": null,
            "min_height": null,
            "min_width": null,
            "object_fit": null,
            "object_position": null,
            "order": null,
            "overflow": null,
            "overflow_x": null,
            "overflow_y": null,
            "padding": null,
            "right": null,
            "top": null,
            "visibility": null,
            "width": null
          }
        },
        "2722eb7a354f4ea8a8346fba7fda5fa6": {
          "model_module": "@jupyter-widgets/controls",
          "model_name": "DescriptionStyleModel",
          "model_module_version": "1.5.0",
          "state": {
            "_model_module": "@jupyter-widgets/controls",
            "_model_module_version": "1.5.0",
            "_model_name": "DescriptionStyleModel",
            "_view_count": null,
            "_view_module": "@jupyter-widgets/base",
            "_view_module_version": "1.2.0",
            "_view_name": "StyleView",
            "description_width": ""
          }
        },
        "48d5e325b86d466f8a625031ba29f853": {
          "model_module": "@jupyter-widgets/base",
          "model_name": "LayoutModel",
          "model_module_version": "1.2.0",
          "state": {
            "_model_module": "@jupyter-widgets/base",
            "_model_module_version": "1.2.0",
            "_model_name": "LayoutModel",
            "_view_count": null,
            "_view_module": "@jupyter-widgets/base",
            "_view_module_version": "1.2.0",
            "_view_name": "LayoutView",
            "align_content": null,
            "align_items": null,
            "align_self": null,
            "border": null,
            "bottom": null,
            "display": null,
            "flex": null,
            "flex_flow": null,
            "grid_area": null,
            "grid_auto_columns": null,
            "grid_auto_flow": null,
            "grid_auto_rows": null,
            "grid_column": null,
            "grid_gap": null,
            "grid_row": null,
            "grid_template_areas": null,
            "grid_template_columns": null,
            "grid_template_rows": null,
            "height": null,
            "justify_content": null,
            "justify_items": null,
            "left": null,
            "margin": null,
            "max_height": null,
            "max_width": null,
            "min_height": null,
            "min_width": null,
            "object_fit": null,
            "object_position": null,
            "order": null,
            "overflow": null,
            "overflow_x": null,
            "overflow_y": null,
            "padding": null,
            "right": null,
            "top": null,
            "visibility": null,
            "width": null
          }
        },
        "bbd7dca740b54892896f769b8c544b3c": {
          "model_module": "@jupyter-widgets/controls",
          "model_name": "ProgressStyleModel",
          "model_module_version": "1.5.0",
          "state": {
            "_model_module": "@jupyter-widgets/controls",
            "_model_module_version": "1.5.0",
            "_model_name": "ProgressStyleModel",
            "_view_count": null,
            "_view_module": "@jupyter-widgets/base",
            "_view_module_version": "1.2.0",
            "_view_name": "StyleView",
            "bar_color": null,
            "description_width": ""
          }
        },
        "ec60f0e134fc406faa2caa8354baa429": {
          "model_module": "@jupyter-widgets/base",
          "model_name": "LayoutModel",
          "model_module_version": "1.2.0",
          "state": {
            "_model_module": "@jupyter-widgets/base",
            "_model_module_version": "1.2.0",
            "_model_name": "LayoutModel",
            "_view_count": null,
            "_view_module": "@jupyter-widgets/base",
            "_view_module_version": "1.2.0",
            "_view_name": "LayoutView",
            "align_content": null,
            "align_items": null,
            "align_self": null,
            "border": null,
            "bottom": null,
            "display": null,
            "flex": null,
            "flex_flow": null,
            "grid_area": null,
            "grid_auto_columns": null,
            "grid_auto_flow": null,
            "grid_auto_rows": null,
            "grid_column": null,
            "grid_gap": null,
            "grid_row": null,
            "grid_template_areas": null,
            "grid_template_columns": null,
            "grid_template_rows": null,
            "height": null,
            "justify_content": null,
            "justify_items": null,
            "left": null,
            "margin": null,
            "max_height": null,
            "max_width": null,
            "min_height": null,
            "min_width": null,
            "object_fit": null,
            "object_position": null,
            "order": null,
            "overflow": null,
            "overflow_x": null,
            "overflow_y": null,
            "padding": null,
            "right": null,
            "top": null,
            "visibility": null,
            "width": null
          }
        },
        "fa2b2c8f125945678aead403abf62dcc": {
          "model_module": "@jupyter-widgets/controls",
          "model_name": "DescriptionStyleModel",
          "model_module_version": "1.5.0",
          "state": {
            "_model_module": "@jupyter-widgets/controls",
            "_model_module_version": "1.5.0",
            "_model_name": "DescriptionStyleModel",
            "_view_count": null,
            "_view_module": "@jupyter-widgets/base",
            "_view_module_version": "1.2.0",
            "_view_name": "StyleView",
            "description_width": ""
          }
        },
        "fd1d8dc420d94c7dace8045c66b34a8b": {
          "model_module": "@jupyter-widgets/controls",
          "model_name": "HBoxModel",
          "model_module_version": "1.5.0",
          "state": {
            "_dom_classes": [],
            "_model_module": "@jupyter-widgets/controls",
            "_model_module_version": "1.5.0",
            "_model_name": "HBoxModel",
            "_view_count": null,
            "_view_module": "@jupyter-widgets/controls",
            "_view_module_version": "1.5.0",
            "_view_name": "HBoxView",
            "box_style": "",
            "children": [
              "IPY_MODEL_e0f6eb3a57ee4312a6c0ce55b8d7c9e5",
              "IPY_MODEL_96632c2423a44213934b9826564e34ad",
              "IPY_MODEL_451f9e05731b4cac96e86db1baf83863"
            ],
            "layout": "IPY_MODEL_d3a0034da85e451aaf4f0b7510d0cfc6"
          }
        },
        "e0f6eb3a57ee4312a6c0ce55b8d7c9e5": {
          "model_module": "@jupyter-widgets/controls",
          "model_name": "HTMLModel",
          "model_module_version": "1.5.0",
          "state": {
            "_dom_classes": [],
            "_model_module": "@jupyter-widgets/controls",
            "_model_module_version": "1.5.0",
            "_model_name": "HTMLModel",
            "_view_count": null,
            "_view_module": "@jupyter-widgets/controls",
            "_view_module_version": "1.5.0",
            "_view_name": "HTMLView",
            "description": "",
            "description_tooltip": null,
            "layout": "IPY_MODEL_148a38a0f80043c1beb90c868d8c4edb",
            "placeholder": "​",
            "style": "IPY_MODEL_7c8f1c6dd29b4aa6aafca24fd4699146",
            "value": "config_sentence_transformers.json: 100%"
          }
        },
        "96632c2423a44213934b9826564e34ad": {
          "model_module": "@jupyter-widgets/controls",
          "model_name": "FloatProgressModel",
          "model_module_version": "1.5.0",
          "state": {
            "_dom_classes": [],
            "_model_module": "@jupyter-widgets/controls",
            "_model_module_version": "1.5.0",
            "_model_name": "FloatProgressModel",
            "_view_count": null,
            "_view_module": "@jupyter-widgets/controls",
            "_view_module_version": "1.5.0",
            "_view_name": "ProgressView",
            "bar_style": "success",
            "description": "",
            "description_tooltip": null,
            "layout": "IPY_MODEL_e890796fc7db4f7e8fd77c52ff51d121",
            "max": 116,
            "min": 0,
            "orientation": "horizontal",
            "style": "IPY_MODEL_49abbb43a18f4eb893d4b2b75f1e1801",
            "value": 116
          }
        },
        "451f9e05731b4cac96e86db1baf83863": {
          "model_module": "@jupyter-widgets/controls",
          "model_name": "HTMLModel",
          "model_module_version": "1.5.0",
          "state": {
            "_dom_classes": [],
            "_model_module": "@jupyter-widgets/controls",
            "_model_module_version": "1.5.0",
            "_model_name": "HTMLModel",
            "_view_count": null,
            "_view_module": "@jupyter-widgets/controls",
            "_view_module_version": "1.5.0",
            "_view_name": "HTMLView",
            "description": "",
            "description_tooltip": null,
            "layout": "IPY_MODEL_aa9984009f1e445e8704833bb546866c",
            "placeholder": "​",
            "style": "IPY_MODEL_2258075539ba4a21af00b64aecd61385",
            "value": " 116/116 [00:00&lt;00:00, 5.92kB/s]"
          }
        },
        "d3a0034da85e451aaf4f0b7510d0cfc6": {
          "model_module": "@jupyter-widgets/base",
          "model_name": "LayoutModel",
          "model_module_version": "1.2.0",
          "state": {
            "_model_module": "@jupyter-widgets/base",
            "_model_module_version": "1.2.0",
            "_model_name": "LayoutModel",
            "_view_count": null,
            "_view_module": "@jupyter-widgets/base",
            "_view_module_version": "1.2.0",
            "_view_name": "LayoutView",
            "align_content": null,
            "align_items": null,
            "align_self": null,
            "border": null,
            "bottom": null,
            "display": null,
            "flex": null,
            "flex_flow": null,
            "grid_area": null,
            "grid_auto_columns": null,
            "grid_auto_flow": null,
            "grid_auto_rows": null,
            "grid_column": null,
            "grid_gap": null,
            "grid_row": null,
            "grid_template_areas": null,
            "grid_template_columns": null,
            "grid_template_rows": null,
            "height": null,
            "justify_content": null,
            "justify_items": null,
            "left": null,
            "margin": null,
            "max_height": null,
            "max_width": null,
            "min_height": null,
            "min_width": null,
            "object_fit": null,
            "object_position": null,
            "order": null,
            "overflow": null,
            "overflow_x": null,
            "overflow_y": null,
            "padding": null,
            "right": null,
            "top": null,
            "visibility": null,
            "width": null
          }
        },
        "148a38a0f80043c1beb90c868d8c4edb": {
          "model_module": "@jupyter-widgets/base",
          "model_name": "LayoutModel",
          "model_module_version": "1.2.0",
          "state": {
            "_model_module": "@jupyter-widgets/base",
            "_model_module_version": "1.2.0",
            "_model_name": "LayoutModel",
            "_view_count": null,
            "_view_module": "@jupyter-widgets/base",
            "_view_module_version": "1.2.0",
            "_view_name": "LayoutView",
            "align_content": null,
            "align_items": null,
            "align_self": null,
            "border": null,
            "bottom": null,
            "display": null,
            "flex": null,
            "flex_flow": null,
            "grid_area": null,
            "grid_auto_columns": null,
            "grid_auto_flow": null,
            "grid_auto_rows": null,
            "grid_column": null,
            "grid_gap": null,
            "grid_row": null,
            "grid_template_areas": null,
            "grid_template_columns": null,
            "grid_template_rows": null,
            "height": null,
            "justify_content": null,
            "justify_items": null,
            "left": null,
            "margin": null,
            "max_height": null,
            "max_width": null,
            "min_height": null,
            "min_width": null,
            "object_fit": null,
            "object_position": null,
            "order": null,
            "overflow": null,
            "overflow_x": null,
            "overflow_y": null,
            "padding": null,
            "right": null,
            "top": null,
            "visibility": null,
            "width": null
          }
        },
        "7c8f1c6dd29b4aa6aafca24fd4699146": {
          "model_module": "@jupyter-widgets/controls",
          "model_name": "DescriptionStyleModel",
          "model_module_version": "1.5.0",
          "state": {
            "_model_module": "@jupyter-widgets/controls",
            "_model_module_version": "1.5.0",
            "_model_name": "DescriptionStyleModel",
            "_view_count": null,
            "_view_module": "@jupyter-widgets/base",
            "_view_module_version": "1.2.0",
            "_view_name": "StyleView",
            "description_width": ""
          }
        },
        "e890796fc7db4f7e8fd77c52ff51d121": {
          "model_module": "@jupyter-widgets/base",
          "model_name": "LayoutModel",
          "model_module_version": "1.2.0",
          "state": {
            "_model_module": "@jupyter-widgets/base",
            "_model_module_version": "1.2.0",
            "_model_name": "LayoutModel",
            "_view_count": null,
            "_view_module": "@jupyter-widgets/base",
            "_view_module_version": "1.2.0",
            "_view_name": "LayoutView",
            "align_content": null,
            "align_items": null,
            "align_self": null,
            "border": null,
            "bottom": null,
            "display": null,
            "flex": null,
            "flex_flow": null,
            "grid_area": null,
            "grid_auto_columns": null,
            "grid_auto_flow": null,
            "grid_auto_rows": null,
            "grid_column": null,
            "grid_gap": null,
            "grid_row": null,
            "grid_template_areas": null,
            "grid_template_columns": null,
            "grid_template_rows": null,
            "height": null,
            "justify_content": null,
            "justify_items": null,
            "left": null,
            "margin": null,
            "max_height": null,
            "max_width": null,
            "min_height": null,
            "min_width": null,
            "object_fit": null,
            "object_position": null,
            "order": null,
            "overflow": null,
            "overflow_x": null,
            "overflow_y": null,
            "padding": null,
            "right": null,
            "top": null,
            "visibility": null,
            "width": null
          }
        },
        "49abbb43a18f4eb893d4b2b75f1e1801": {
          "model_module": "@jupyter-widgets/controls",
          "model_name": "ProgressStyleModel",
          "model_module_version": "1.5.0",
          "state": {
            "_model_module": "@jupyter-widgets/controls",
            "_model_module_version": "1.5.0",
            "_model_name": "ProgressStyleModel",
            "_view_count": null,
            "_view_module": "@jupyter-widgets/base",
            "_view_module_version": "1.2.0",
            "_view_name": "StyleView",
            "bar_color": null,
            "description_width": ""
          }
        },
        "aa9984009f1e445e8704833bb546866c": {
          "model_module": "@jupyter-widgets/base",
          "model_name": "LayoutModel",
          "model_module_version": "1.2.0",
          "state": {
            "_model_module": "@jupyter-widgets/base",
            "_model_module_version": "1.2.0",
            "_model_name": "LayoutModel",
            "_view_count": null,
            "_view_module": "@jupyter-widgets/base",
            "_view_module_version": "1.2.0",
            "_view_name": "LayoutView",
            "align_content": null,
            "align_items": null,
            "align_self": null,
            "border": null,
            "bottom": null,
            "display": null,
            "flex": null,
            "flex_flow": null,
            "grid_area": null,
            "grid_auto_columns": null,
            "grid_auto_flow": null,
            "grid_auto_rows": null,
            "grid_column": null,
            "grid_gap": null,
            "grid_row": null,
            "grid_template_areas": null,
            "grid_template_columns": null,
            "grid_template_rows": null,
            "height": null,
            "justify_content": null,
            "justify_items": null,
            "left": null,
            "margin": null,
            "max_height": null,
            "max_width": null,
            "min_height": null,
            "min_width": null,
            "object_fit": null,
            "object_position": null,
            "order": null,
            "overflow": null,
            "overflow_x": null,
            "overflow_y": null,
            "padding": null,
            "right": null,
            "top": null,
            "visibility": null,
            "width": null
          }
        },
        "2258075539ba4a21af00b64aecd61385": {
          "model_module": "@jupyter-widgets/controls",
          "model_name": "DescriptionStyleModel",
          "model_module_version": "1.5.0",
          "state": {
            "_model_module": "@jupyter-widgets/controls",
            "_model_module_version": "1.5.0",
            "_model_name": "DescriptionStyleModel",
            "_view_count": null,
            "_view_module": "@jupyter-widgets/base",
            "_view_module_version": "1.2.0",
            "_view_name": "StyleView",
            "description_width": ""
          }
        },
        "6dc73af6db374469843965f823f1517b": {
          "model_module": "@jupyter-widgets/controls",
          "model_name": "HBoxModel",
          "model_module_version": "1.5.0",
          "state": {
            "_dom_classes": [],
            "_model_module": "@jupyter-widgets/controls",
            "_model_module_version": "1.5.0",
            "_model_name": "HBoxModel",
            "_view_count": null,
            "_view_module": "@jupyter-widgets/controls",
            "_view_module_version": "1.5.0",
            "_view_name": "HBoxView",
            "box_style": "",
            "children": [
              "IPY_MODEL_531c4aedfe8f4424a88ccf2c8bffd13e",
              "IPY_MODEL_20491ef8869847ac85c8dd521e095431",
              "IPY_MODEL_59f3b5faf7884d0d94389cd1465675b8"
            ],
            "layout": "IPY_MODEL_3e31665bdcf34fea956020a9a587f13f"
          }
        },
        "531c4aedfe8f4424a88ccf2c8bffd13e": {
          "model_module": "@jupyter-widgets/controls",
          "model_name": "HTMLModel",
          "model_module_version": "1.5.0",
          "state": {
            "_dom_classes": [],
            "_model_module": "@jupyter-widgets/controls",
            "_model_module_version": "1.5.0",
            "_model_name": "HTMLModel",
            "_view_count": null,
            "_view_module": "@jupyter-widgets/controls",
            "_view_module_version": "1.5.0",
            "_view_name": "HTMLView",
            "description": "",
            "description_tooltip": null,
            "layout": "IPY_MODEL_0c387cf62cf44acab5f3886ea47e6d34",
            "placeholder": "​",
            "style": "IPY_MODEL_d3b34b03c50f4183809a45bee0982a03",
            "value": "README.md: 100%"
          }
        },
        "20491ef8869847ac85c8dd521e095431": {
          "model_module": "@jupyter-widgets/controls",
          "model_name": "FloatProgressModel",
          "model_module_version": "1.5.0",
          "state": {
            "_dom_classes": [],
            "_model_module": "@jupyter-widgets/controls",
            "_model_module_version": "1.5.0",
            "_model_name": "FloatProgressModel",
            "_view_count": null,
            "_view_module": "@jupyter-widgets/controls",
            "_view_module_version": "1.5.0",
            "_view_name": "ProgressView",
            "bar_style": "success",
            "description": "",
            "description_tooltip": null,
            "layout": "IPY_MODEL_cd289653898f48d685244d070166dc0f",
            "max": 10659,
            "min": 0,
            "orientation": "horizontal",
            "style": "IPY_MODEL_262209cb7a454bc7b0a7b4b25a4336b6",
            "value": 10659
          }
        },
        "59f3b5faf7884d0d94389cd1465675b8": {
          "model_module": "@jupyter-widgets/controls",
          "model_name": "HTMLModel",
          "model_module_version": "1.5.0",
          "state": {
            "_dom_classes": [],
            "_model_module": "@jupyter-widgets/controls",
            "_model_module_version": "1.5.0",
            "_model_name": "HTMLModel",
            "_view_count": null,
            "_view_module": "@jupyter-widgets/controls",
            "_view_module_version": "1.5.0",
            "_view_name": "HTMLView",
            "description": "",
            "description_tooltip": null,
            "layout": "IPY_MODEL_5d1dd9b2f10640bdbee7b3d10e20e91f",
            "placeholder": "​",
            "style": "IPY_MODEL_fa618d128b824561a0a117cb3c680dad",
            "value": " 10.7k/10.7k [00:00&lt;00:00, 695kB/s]"
          }
        },
        "3e31665bdcf34fea956020a9a587f13f": {
          "model_module": "@jupyter-widgets/base",
          "model_name": "LayoutModel",
          "model_module_version": "1.2.0",
          "state": {
            "_model_module": "@jupyter-widgets/base",
            "_model_module_version": "1.2.0",
            "_model_name": "LayoutModel",
            "_view_count": null,
            "_view_module": "@jupyter-widgets/base",
            "_view_module_version": "1.2.0",
            "_view_name": "LayoutView",
            "align_content": null,
            "align_items": null,
            "align_self": null,
            "border": null,
            "bottom": null,
            "display": null,
            "flex": null,
            "flex_flow": null,
            "grid_area": null,
            "grid_auto_columns": null,
            "grid_auto_flow": null,
            "grid_auto_rows": null,
            "grid_column": null,
            "grid_gap": null,
            "grid_row": null,
            "grid_template_areas": null,
            "grid_template_columns": null,
            "grid_template_rows": null,
            "height": null,
            "justify_content": null,
            "justify_items": null,
            "left": null,
            "margin": null,
            "max_height": null,
            "max_width": null,
            "min_height": null,
            "min_width": null,
            "object_fit": null,
            "object_position": null,
            "order": null,
            "overflow": null,
            "overflow_x": null,
            "overflow_y": null,
            "padding": null,
            "right": null,
            "top": null,
            "visibility": null,
            "width": null
          }
        },
        "0c387cf62cf44acab5f3886ea47e6d34": {
          "model_module": "@jupyter-widgets/base",
          "model_name": "LayoutModel",
          "model_module_version": "1.2.0",
          "state": {
            "_model_module": "@jupyter-widgets/base",
            "_model_module_version": "1.2.0",
            "_model_name": "LayoutModel",
            "_view_count": null,
            "_view_module": "@jupyter-widgets/base",
            "_view_module_version": "1.2.0",
            "_view_name": "LayoutView",
            "align_content": null,
            "align_items": null,
            "align_self": null,
            "border": null,
            "bottom": null,
            "display": null,
            "flex": null,
            "flex_flow": null,
            "grid_area": null,
            "grid_auto_columns": null,
            "grid_auto_flow": null,
            "grid_auto_rows": null,
            "grid_column": null,
            "grid_gap": null,
            "grid_row": null,
            "grid_template_areas": null,
            "grid_template_columns": null,
            "grid_template_rows": null,
            "height": null,
            "justify_content": null,
            "justify_items": null,
            "left": null,
            "margin": null,
            "max_height": null,
            "max_width": null,
            "min_height": null,
            "min_width": null,
            "object_fit": null,
            "object_position": null,
            "order": null,
            "overflow": null,
            "overflow_x": null,
            "overflow_y": null,
            "padding": null,
            "right": null,
            "top": null,
            "visibility": null,
            "width": null
          }
        },
        "d3b34b03c50f4183809a45bee0982a03": {
          "model_module": "@jupyter-widgets/controls",
          "model_name": "DescriptionStyleModel",
          "model_module_version": "1.5.0",
          "state": {
            "_model_module": "@jupyter-widgets/controls",
            "_model_module_version": "1.5.0",
            "_model_name": "DescriptionStyleModel",
            "_view_count": null,
            "_view_module": "@jupyter-widgets/base",
            "_view_module_version": "1.2.0",
            "_view_name": "StyleView",
            "description_width": ""
          }
        },
        "cd289653898f48d685244d070166dc0f": {
          "model_module": "@jupyter-widgets/base",
          "model_name": "LayoutModel",
          "model_module_version": "1.2.0",
          "state": {
            "_model_module": "@jupyter-widgets/base",
            "_model_module_version": "1.2.0",
            "_model_name": "LayoutModel",
            "_view_count": null,
            "_view_module": "@jupyter-widgets/base",
            "_view_module_version": "1.2.0",
            "_view_name": "LayoutView",
            "align_content": null,
            "align_items": null,
            "align_self": null,
            "border": null,
            "bottom": null,
            "display": null,
            "flex": null,
            "flex_flow": null,
            "grid_area": null,
            "grid_auto_columns": null,
            "grid_auto_flow": null,
            "grid_auto_rows": null,
            "grid_column": null,
            "grid_gap": null,
            "grid_row": null,
            "grid_template_areas": null,
            "grid_template_columns": null,
            "grid_template_rows": null,
            "height": null,
            "justify_content": null,
            "justify_items": null,
            "left": null,
            "margin": null,
            "max_height": null,
            "max_width": null,
            "min_height": null,
            "min_width": null,
            "object_fit": null,
            "object_position": null,
            "order": null,
            "overflow": null,
            "overflow_x": null,
            "overflow_y": null,
            "padding": null,
            "right": null,
            "top": null,
            "visibility": null,
            "width": null
          }
        },
        "262209cb7a454bc7b0a7b4b25a4336b6": {
          "model_module": "@jupyter-widgets/controls",
          "model_name": "ProgressStyleModel",
          "model_module_version": "1.5.0",
          "state": {
            "_model_module": "@jupyter-widgets/controls",
            "_model_module_version": "1.5.0",
            "_model_name": "ProgressStyleModel",
            "_view_count": null,
            "_view_module": "@jupyter-widgets/base",
            "_view_module_version": "1.2.0",
            "_view_name": "StyleView",
            "bar_color": null,
            "description_width": ""
          }
        },
        "5d1dd9b2f10640bdbee7b3d10e20e91f": {
          "model_module": "@jupyter-widgets/base",
          "model_name": "LayoutModel",
          "model_module_version": "1.2.0",
          "state": {
            "_model_module": "@jupyter-widgets/base",
            "_model_module_version": "1.2.0",
            "_model_name": "LayoutModel",
            "_view_count": null,
            "_view_module": "@jupyter-widgets/base",
            "_view_module_version": "1.2.0",
            "_view_name": "LayoutView",
            "align_content": null,
            "align_items": null,
            "align_self": null,
            "border": null,
            "bottom": null,
            "display": null,
            "flex": null,
            "flex_flow": null,
            "grid_area": null,
            "grid_auto_columns": null,
            "grid_auto_flow": null,
            "grid_auto_rows": null,
            "grid_column": null,
            "grid_gap": null,
            "grid_row": null,
            "grid_template_areas": null,
            "grid_template_columns": null,
            "grid_template_rows": null,
            "height": null,
            "justify_content": null,
            "justify_items": null,
            "left": null,
            "margin": null,
            "max_height": null,
            "max_width": null,
            "min_height": null,
            "min_width": null,
            "object_fit": null,
            "object_position": null,
            "order": null,
            "overflow": null,
            "overflow_x": null,
            "overflow_y": null,
            "padding": null,
            "right": null,
            "top": null,
            "visibility": null,
            "width": null
          }
        },
        "fa618d128b824561a0a117cb3c680dad": {
          "model_module": "@jupyter-widgets/controls",
          "model_name": "DescriptionStyleModel",
          "model_module_version": "1.5.0",
          "state": {
            "_model_module": "@jupyter-widgets/controls",
            "_model_module_version": "1.5.0",
            "_model_name": "DescriptionStyleModel",
            "_view_count": null,
            "_view_module": "@jupyter-widgets/base",
            "_view_module_version": "1.2.0",
            "_view_name": "StyleView",
            "description_width": ""
          }
        },
        "0d4c7ca783da49b0b1af5e3d6cc12994": {
          "model_module": "@jupyter-widgets/controls",
          "model_name": "HBoxModel",
          "model_module_version": "1.5.0",
          "state": {
            "_dom_classes": [],
            "_model_module": "@jupyter-widgets/controls",
            "_model_module_version": "1.5.0",
            "_model_name": "HBoxModel",
            "_view_count": null,
            "_view_module": "@jupyter-widgets/controls",
            "_view_module_version": "1.5.0",
            "_view_name": "HBoxView",
            "box_style": "",
            "children": [
              "IPY_MODEL_ab035367e1284fffbf7e08b1237eab8a",
              "IPY_MODEL_80ced574dd5643ceac27b38ee43a3d31",
              "IPY_MODEL_338484f8a55f4ea6b592205a371092a8"
            ],
            "layout": "IPY_MODEL_aed1b73425ab4fbbba444575aafbe0c4"
          }
        },
        "ab035367e1284fffbf7e08b1237eab8a": {
          "model_module": "@jupyter-widgets/controls",
          "model_name": "HTMLModel",
          "model_module_version": "1.5.0",
          "state": {
            "_dom_classes": [],
            "_model_module": "@jupyter-widgets/controls",
            "_model_module_version": "1.5.0",
            "_model_name": "HTMLModel",
            "_view_count": null,
            "_view_module": "@jupyter-widgets/controls",
            "_view_module_version": "1.5.0",
            "_view_name": "HTMLView",
            "description": "",
            "description_tooltip": null,
            "layout": "IPY_MODEL_194ab40a5b70465b94fc81ee4f931b42",
            "placeholder": "​",
            "style": "IPY_MODEL_39e50194fb7e4c2faabac99da50626ff",
            "value": "sentence_bert_config.json: 100%"
          }
        },
        "80ced574dd5643ceac27b38ee43a3d31": {
          "model_module": "@jupyter-widgets/controls",
          "model_name": "FloatProgressModel",
          "model_module_version": "1.5.0",
          "state": {
            "_dom_classes": [],
            "_model_module": "@jupyter-widgets/controls",
            "_model_module_version": "1.5.0",
            "_model_name": "FloatProgressModel",
            "_view_count": null,
            "_view_module": "@jupyter-widgets/controls",
            "_view_module_version": "1.5.0",
            "_view_name": "ProgressView",
            "bar_style": "success",
            "description": "",
            "description_tooltip": null,
            "layout": "IPY_MODEL_9dcb082d5dec4539a80d5c5de980156a",
            "max": 53,
            "min": 0,
            "orientation": "horizontal",
            "style": "IPY_MODEL_e76114ca1acc418dad582e5bd3bf98fc",
            "value": 53
          }
        },
        "338484f8a55f4ea6b592205a371092a8": {
          "model_module": "@jupyter-widgets/controls",
          "model_name": "HTMLModel",
          "model_module_version": "1.5.0",
          "state": {
            "_dom_classes": [],
            "_model_module": "@jupyter-widgets/controls",
            "_model_module_version": "1.5.0",
            "_model_name": "HTMLModel",
            "_view_count": null,
            "_view_module": "@jupyter-widgets/controls",
            "_view_module_version": "1.5.0",
            "_view_name": "HTMLView",
            "description": "",
            "description_tooltip": null,
            "layout": "IPY_MODEL_54190100fe5641b1ac483f3614fe2667",
            "placeholder": "​",
            "style": "IPY_MODEL_23f1fe87ef4a4de990d9ac835411c7b4",
            "value": " 53.0/53.0 [00:00&lt;00:00, 3.06kB/s]"
          }
        },
        "aed1b73425ab4fbbba444575aafbe0c4": {
          "model_module": "@jupyter-widgets/base",
          "model_name": "LayoutModel",
          "model_module_version": "1.2.0",
          "state": {
            "_model_module": "@jupyter-widgets/base",
            "_model_module_version": "1.2.0",
            "_model_name": "LayoutModel",
            "_view_count": null,
            "_view_module": "@jupyter-widgets/base",
            "_view_module_version": "1.2.0",
            "_view_name": "LayoutView",
            "align_content": null,
            "align_items": null,
            "align_self": null,
            "border": null,
            "bottom": null,
            "display": null,
            "flex": null,
            "flex_flow": null,
            "grid_area": null,
            "grid_auto_columns": null,
            "grid_auto_flow": null,
            "grid_auto_rows": null,
            "grid_column": null,
            "grid_gap": null,
            "grid_row": null,
            "grid_template_areas": null,
            "grid_template_columns": null,
            "grid_template_rows": null,
            "height": null,
            "justify_content": null,
            "justify_items": null,
            "left": null,
            "margin": null,
            "max_height": null,
            "max_width": null,
            "min_height": null,
            "min_width": null,
            "object_fit": null,
            "object_position": null,
            "order": null,
            "overflow": null,
            "overflow_x": null,
            "overflow_y": null,
            "padding": null,
            "right": null,
            "top": null,
            "visibility": null,
            "width": null
          }
        },
        "194ab40a5b70465b94fc81ee4f931b42": {
          "model_module": "@jupyter-widgets/base",
          "model_name": "LayoutModel",
          "model_module_version": "1.2.0",
          "state": {
            "_model_module": "@jupyter-widgets/base",
            "_model_module_version": "1.2.0",
            "_model_name": "LayoutModel",
            "_view_count": null,
            "_view_module": "@jupyter-widgets/base",
            "_view_module_version": "1.2.0",
            "_view_name": "LayoutView",
            "align_content": null,
            "align_items": null,
            "align_self": null,
            "border": null,
            "bottom": null,
            "display": null,
            "flex": null,
            "flex_flow": null,
            "grid_area": null,
            "grid_auto_columns": null,
            "grid_auto_flow": null,
            "grid_auto_rows": null,
            "grid_column": null,
            "grid_gap": null,
            "grid_row": null,
            "grid_template_areas": null,
            "grid_template_columns": null,
            "grid_template_rows": null,
            "height": null,
            "justify_content": null,
            "justify_items": null,
            "left": null,
            "margin": null,
            "max_height": null,
            "max_width": null,
            "min_height": null,
            "min_width": null,
            "object_fit": null,
            "object_position": null,
            "order": null,
            "overflow": null,
            "overflow_x": null,
            "overflow_y": null,
            "padding": null,
            "right": null,
            "top": null,
            "visibility": null,
            "width": null
          }
        },
        "39e50194fb7e4c2faabac99da50626ff": {
          "model_module": "@jupyter-widgets/controls",
          "model_name": "DescriptionStyleModel",
          "model_module_version": "1.5.0",
          "state": {
            "_model_module": "@jupyter-widgets/controls",
            "_model_module_version": "1.5.0",
            "_model_name": "DescriptionStyleModel",
            "_view_count": null,
            "_view_module": "@jupyter-widgets/base",
            "_view_module_version": "1.2.0",
            "_view_name": "StyleView",
            "description_width": ""
          }
        },
        "9dcb082d5dec4539a80d5c5de980156a": {
          "model_module": "@jupyter-widgets/base",
          "model_name": "LayoutModel",
          "model_module_version": "1.2.0",
          "state": {
            "_model_module": "@jupyter-widgets/base",
            "_model_module_version": "1.2.0",
            "_model_name": "LayoutModel",
            "_view_count": null,
            "_view_module": "@jupyter-widgets/base",
            "_view_module_version": "1.2.0",
            "_view_name": "LayoutView",
            "align_content": null,
            "align_items": null,
            "align_self": null,
            "border": null,
            "bottom": null,
            "display": null,
            "flex": null,
            "flex_flow": null,
            "grid_area": null,
            "grid_auto_columns": null,
            "grid_auto_flow": null,
            "grid_auto_rows": null,
            "grid_column": null,
            "grid_gap": null,
            "grid_row": null,
            "grid_template_areas": null,
            "grid_template_columns": null,
            "grid_template_rows": null,
            "height": null,
            "justify_content": null,
            "justify_items": null,
            "left": null,
            "margin": null,
            "max_height": null,
            "max_width": null,
            "min_height": null,
            "min_width": null,
            "object_fit": null,
            "object_position": null,
            "order": null,
            "overflow": null,
            "overflow_x": null,
            "overflow_y": null,
            "padding": null,
            "right": null,
            "top": null,
            "visibility": null,
            "width": null
          }
        },
        "e76114ca1acc418dad582e5bd3bf98fc": {
          "model_module": "@jupyter-widgets/controls",
          "model_name": "ProgressStyleModel",
          "model_module_version": "1.5.0",
          "state": {
            "_model_module": "@jupyter-widgets/controls",
            "_model_module_version": "1.5.0",
            "_model_name": "ProgressStyleModel",
            "_view_count": null,
            "_view_module": "@jupyter-widgets/base",
            "_view_module_version": "1.2.0",
            "_view_name": "StyleView",
            "bar_color": null,
            "description_width": ""
          }
        },
        "54190100fe5641b1ac483f3614fe2667": {
          "model_module": "@jupyter-widgets/base",
          "model_name": "LayoutModel",
          "model_module_version": "1.2.0",
          "state": {
            "_model_module": "@jupyter-widgets/base",
            "_model_module_version": "1.2.0",
            "_model_name": "LayoutModel",
            "_view_count": null,
            "_view_module": "@jupyter-widgets/base",
            "_view_module_version": "1.2.0",
            "_view_name": "LayoutView",
            "align_content": null,
            "align_items": null,
            "align_self": null,
            "border": null,
            "bottom": null,
            "display": null,
            "flex": null,
            "flex_flow": null,
            "grid_area": null,
            "grid_auto_columns": null,
            "grid_auto_flow": null,
            "grid_auto_rows": null,
            "grid_column": null,
            "grid_gap": null,
            "grid_row": null,
            "grid_template_areas": null,
            "grid_template_columns": null,
            "grid_template_rows": null,
            "height": null,
            "justify_content": null,
            "justify_items": null,
            "left": null,
            "margin": null,
            "max_height": null,
            "max_width": null,
            "min_height": null,
            "min_width": null,
            "object_fit": null,
            "object_position": null,
            "order": null,
            "overflow": null,
            "overflow_x": null,
            "overflow_y": null,
            "padding": null,
            "right": null,
            "top": null,
            "visibility": null,
            "width": null
          }
        },
        "23f1fe87ef4a4de990d9ac835411c7b4": {
          "model_module": "@jupyter-widgets/controls",
          "model_name": "DescriptionStyleModel",
          "model_module_version": "1.5.0",
          "state": {
            "_model_module": "@jupyter-widgets/controls",
            "_model_module_version": "1.5.0",
            "_model_name": "DescriptionStyleModel",
            "_view_count": null,
            "_view_module": "@jupyter-widgets/base",
            "_view_module_version": "1.2.0",
            "_view_name": "StyleView",
            "description_width": ""
          }
        },
        "302ed5c35df64e3faf033331aab46716": {
          "model_module": "@jupyter-widgets/controls",
          "model_name": "HBoxModel",
          "model_module_version": "1.5.0",
          "state": {
            "_dom_classes": [],
            "_model_module": "@jupyter-widgets/controls",
            "_model_module_version": "1.5.0",
            "_model_name": "HBoxModel",
            "_view_count": null,
            "_view_module": "@jupyter-widgets/controls",
            "_view_module_version": "1.5.0",
            "_view_name": "HBoxView",
            "box_style": "",
            "children": [
              "IPY_MODEL_12009321a4774ad3b539c7c059e6ea17",
              "IPY_MODEL_41ff1f3f6c9447bf81065e2630cefe5a",
              "IPY_MODEL_2728534c903c41f2aaf4e30dc547e177"
            ],
            "layout": "IPY_MODEL_cc77c1eeb2da45d2aece2e875581bc2d"
          }
        },
        "12009321a4774ad3b539c7c059e6ea17": {
          "model_module": "@jupyter-widgets/controls",
          "model_name": "HTMLModel",
          "model_module_version": "1.5.0",
          "state": {
            "_dom_classes": [],
            "_model_module": "@jupyter-widgets/controls",
            "_model_module_version": "1.5.0",
            "_model_name": "HTMLModel",
            "_view_count": null,
            "_view_module": "@jupyter-widgets/controls",
            "_view_module_version": "1.5.0",
            "_view_name": "HTMLView",
            "description": "",
            "description_tooltip": null,
            "layout": "IPY_MODEL_81cd2e7a0a6a49c688477d599a472a72",
            "placeholder": "​",
            "style": "IPY_MODEL_4e02e19101ee429a85d77fe716de2ed9",
            "value": "config.json: 100%"
          }
        },
        "41ff1f3f6c9447bf81065e2630cefe5a": {
          "model_module": "@jupyter-widgets/controls",
          "model_name": "FloatProgressModel",
          "model_module_version": "1.5.0",
          "state": {
            "_dom_classes": [],
            "_model_module": "@jupyter-widgets/controls",
            "_model_module_version": "1.5.0",
            "_model_name": "FloatProgressModel",
            "_view_count": null,
            "_view_module": "@jupyter-widgets/controls",
            "_view_module_version": "1.5.0",
            "_view_name": "ProgressView",
            "bar_style": "success",
            "description": "",
            "description_tooltip": null,
            "layout": "IPY_MODEL_87a58d72f5224120949c4e8bf50ac7b3",
            "max": 612,
            "min": 0,
            "orientation": "horizontal",
            "style": "IPY_MODEL_7af68724fd35414e86d1449055ef608c",
            "value": 612
          }
        },
        "2728534c903c41f2aaf4e30dc547e177": {
          "model_module": "@jupyter-widgets/controls",
          "model_name": "HTMLModel",
          "model_module_version": "1.5.0",
          "state": {
            "_dom_classes": [],
            "_model_module": "@jupyter-widgets/controls",
            "_model_module_version": "1.5.0",
            "_model_name": "HTMLModel",
            "_view_count": null,
            "_view_module": "@jupyter-widgets/controls",
            "_view_module_version": "1.5.0",
            "_view_name": "HTMLView",
            "description": "",
            "description_tooltip": null,
            "layout": "IPY_MODEL_b931de9b97a64d04a0ec30856a751385",
            "placeholder": "​",
            "style": "IPY_MODEL_0ad074fe09454bfabdf938f80cde3fc4",
            "value": " 612/612 [00:00&lt;00:00, 26.7kB/s]"
          }
        },
        "cc77c1eeb2da45d2aece2e875581bc2d": {
          "model_module": "@jupyter-widgets/base",
          "model_name": "LayoutModel",
          "model_module_version": "1.2.0",
          "state": {
            "_model_module": "@jupyter-widgets/base",
            "_model_module_version": "1.2.0",
            "_model_name": "LayoutModel",
            "_view_count": null,
            "_view_module": "@jupyter-widgets/base",
            "_view_module_version": "1.2.0",
            "_view_name": "LayoutView",
            "align_content": null,
            "align_items": null,
            "align_self": null,
            "border": null,
            "bottom": null,
            "display": null,
            "flex": null,
            "flex_flow": null,
            "grid_area": null,
            "grid_auto_columns": null,
            "grid_auto_flow": null,
            "grid_auto_rows": null,
            "grid_column": null,
            "grid_gap": null,
            "grid_row": null,
            "grid_template_areas": null,
            "grid_template_columns": null,
            "grid_template_rows": null,
            "height": null,
            "justify_content": null,
            "justify_items": null,
            "left": null,
            "margin": null,
            "max_height": null,
            "max_width": null,
            "min_height": null,
            "min_width": null,
            "object_fit": null,
            "object_position": null,
            "order": null,
            "overflow": null,
            "overflow_x": null,
            "overflow_y": null,
            "padding": null,
            "right": null,
            "top": null,
            "visibility": null,
            "width": null
          }
        },
        "81cd2e7a0a6a49c688477d599a472a72": {
          "model_module": "@jupyter-widgets/base",
          "model_name": "LayoutModel",
          "model_module_version": "1.2.0",
          "state": {
            "_model_module": "@jupyter-widgets/base",
            "_model_module_version": "1.2.0",
            "_model_name": "LayoutModel",
            "_view_count": null,
            "_view_module": "@jupyter-widgets/base",
            "_view_module_version": "1.2.0",
            "_view_name": "LayoutView",
            "align_content": null,
            "align_items": null,
            "align_self": null,
            "border": null,
            "bottom": null,
            "display": null,
            "flex": null,
            "flex_flow": null,
            "grid_area": null,
            "grid_auto_columns": null,
            "grid_auto_flow": null,
            "grid_auto_rows": null,
            "grid_column": null,
            "grid_gap": null,
            "grid_row": null,
            "grid_template_areas": null,
            "grid_template_columns": null,
            "grid_template_rows": null,
            "height": null,
            "justify_content": null,
            "justify_items": null,
            "left": null,
            "margin": null,
            "max_height": null,
            "max_width": null,
            "min_height": null,
            "min_width": null,
            "object_fit": null,
            "object_position": null,
            "order": null,
            "overflow": null,
            "overflow_x": null,
            "overflow_y": null,
            "padding": null,
            "right": null,
            "top": null,
            "visibility": null,
            "width": null
          }
        },
        "4e02e19101ee429a85d77fe716de2ed9": {
          "model_module": "@jupyter-widgets/controls",
          "model_name": "DescriptionStyleModel",
          "model_module_version": "1.5.0",
          "state": {
            "_model_module": "@jupyter-widgets/controls",
            "_model_module_version": "1.5.0",
            "_model_name": "DescriptionStyleModel",
            "_view_count": null,
            "_view_module": "@jupyter-widgets/base",
            "_view_module_version": "1.2.0",
            "_view_name": "StyleView",
            "description_width": ""
          }
        },
        "87a58d72f5224120949c4e8bf50ac7b3": {
          "model_module": "@jupyter-widgets/base",
          "model_name": "LayoutModel",
          "model_module_version": "1.2.0",
          "state": {
            "_model_module": "@jupyter-widgets/base",
            "_model_module_version": "1.2.0",
            "_model_name": "LayoutModel",
            "_view_count": null,
            "_view_module": "@jupyter-widgets/base",
            "_view_module_version": "1.2.0",
            "_view_name": "LayoutView",
            "align_content": null,
            "align_items": null,
            "align_self": null,
            "border": null,
            "bottom": null,
            "display": null,
            "flex": null,
            "flex_flow": null,
            "grid_area": null,
            "grid_auto_columns": null,
            "grid_auto_flow": null,
            "grid_auto_rows": null,
            "grid_column": null,
            "grid_gap": null,
            "grid_row": null,
            "grid_template_areas": null,
            "grid_template_columns": null,
            "grid_template_rows": null,
            "height": null,
            "justify_content": null,
            "justify_items": null,
            "left": null,
            "margin": null,
            "max_height": null,
            "max_width": null,
            "min_height": null,
            "min_width": null,
            "object_fit": null,
            "object_position": null,
            "order": null,
            "overflow": null,
            "overflow_x": null,
            "overflow_y": null,
            "padding": null,
            "right": null,
            "top": null,
            "visibility": null,
            "width": null
          }
        },
        "7af68724fd35414e86d1449055ef608c": {
          "model_module": "@jupyter-widgets/controls",
          "model_name": "ProgressStyleModel",
          "model_module_version": "1.5.0",
          "state": {
            "_model_module": "@jupyter-widgets/controls",
            "_model_module_version": "1.5.0",
            "_model_name": "ProgressStyleModel",
            "_view_count": null,
            "_view_module": "@jupyter-widgets/base",
            "_view_module_version": "1.2.0",
            "_view_name": "StyleView",
            "bar_color": null,
            "description_width": ""
          }
        },
        "b931de9b97a64d04a0ec30856a751385": {
          "model_module": "@jupyter-widgets/base",
          "model_name": "LayoutModel",
          "model_module_version": "1.2.0",
          "state": {
            "_model_module": "@jupyter-widgets/base",
            "_model_module_version": "1.2.0",
            "_model_name": "LayoutModel",
            "_view_count": null,
            "_view_module": "@jupyter-widgets/base",
            "_view_module_version": "1.2.0",
            "_view_name": "LayoutView",
            "align_content": null,
            "align_items": null,
            "align_self": null,
            "border": null,
            "bottom": null,
            "display": null,
            "flex": null,
            "flex_flow": null,
            "grid_area": null,
            "grid_auto_columns": null,
            "grid_auto_flow": null,
            "grid_auto_rows": null,
            "grid_column": null,
            "grid_gap": null,
            "grid_row": null,
            "grid_template_areas": null,
            "grid_template_columns": null,
            "grid_template_rows": null,
            "height": null,
            "justify_content": null,
            "justify_items": null,
            "left": null,
            "margin": null,
            "max_height": null,
            "max_width": null,
            "min_height": null,
            "min_width": null,
            "object_fit": null,
            "object_position": null,
            "order": null,
            "overflow": null,
            "overflow_x": null,
            "overflow_y": null,
            "padding": null,
            "right": null,
            "top": null,
            "visibility": null,
            "width": null
          }
        },
        "0ad074fe09454bfabdf938f80cde3fc4": {
          "model_module": "@jupyter-widgets/controls",
          "model_name": "DescriptionStyleModel",
          "model_module_version": "1.5.0",
          "state": {
            "_model_module": "@jupyter-widgets/controls",
            "_model_module_version": "1.5.0",
            "_model_name": "DescriptionStyleModel",
            "_view_count": null,
            "_view_module": "@jupyter-widgets/base",
            "_view_module_version": "1.2.0",
            "_view_name": "StyleView",
            "description_width": ""
          }
        },
        "acd663005dc945e4b12ecdfc47028f27": {
          "model_module": "@jupyter-widgets/controls",
          "model_name": "HBoxModel",
          "model_module_version": "1.5.0",
          "state": {
            "_dom_classes": [],
            "_model_module": "@jupyter-widgets/controls",
            "_model_module_version": "1.5.0",
            "_model_name": "HBoxModel",
            "_view_count": null,
            "_view_module": "@jupyter-widgets/controls",
            "_view_module_version": "1.5.0",
            "_view_name": "HBoxView",
            "box_style": "",
            "children": [
              "IPY_MODEL_80b07abd769b4539b3e49fe1629964ac",
              "IPY_MODEL_41a983804e6a458bae886c9d04eec8b8",
              "IPY_MODEL_1241047b1d794b39a4463e74bc9dbad2"
            ],
            "layout": "IPY_MODEL_8b942c7366c546a9bfb94130fbde099a"
          }
        },
        "80b07abd769b4539b3e49fe1629964ac": {
          "model_module": "@jupyter-widgets/controls",
          "model_name": "HTMLModel",
          "model_module_version": "1.5.0",
          "state": {
            "_dom_classes": [],
            "_model_module": "@jupyter-widgets/controls",
            "_model_module_version": "1.5.0",
            "_model_name": "HTMLModel",
            "_view_count": null,
            "_view_module": "@jupyter-widgets/controls",
            "_view_module_version": "1.5.0",
            "_view_name": "HTMLView",
            "description": "",
            "description_tooltip": null,
            "layout": "IPY_MODEL_b42dbdb0251e44fc8c9df0ad155ec487",
            "placeholder": "​",
            "style": "IPY_MODEL_12ba36b6e3c7452bb505661683d37229",
            "value": "model.safetensors: 100%"
          }
        },
        "41a983804e6a458bae886c9d04eec8b8": {
          "model_module": "@jupyter-widgets/controls",
          "model_name": "FloatProgressModel",
          "model_module_version": "1.5.0",
          "state": {
            "_dom_classes": [],
            "_model_module": "@jupyter-widgets/controls",
            "_model_module_version": "1.5.0",
            "_model_name": "FloatProgressModel",
            "_view_count": null,
            "_view_module": "@jupyter-widgets/controls",
            "_view_module_version": "1.5.0",
            "_view_name": "ProgressView",
            "bar_style": "success",
            "description": "",
            "description_tooltip": null,
            "layout": "IPY_MODEL_1367302af9b74703b01d4b419c0ac37d",
            "max": 90868376,
            "min": 0,
            "orientation": "horizontal",
            "style": "IPY_MODEL_a550e131a9be430d8cecb3e7c85dd687",
            "value": 90868376
          }
        },
        "1241047b1d794b39a4463e74bc9dbad2": {
          "model_module": "@jupyter-widgets/controls",
          "model_name": "HTMLModel",
          "model_module_version": "1.5.0",
          "state": {
            "_dom_classes": [],
            "_model_module": "@jupyter-widgets/controls",
            "_model_module_version": "1.5.0",
            "_model_name": "HTMLModel",
            "_view_count": null,
            "_view_module": "@jupyter-widgets/controls",
            "_view_module_version": "1.5.0",
            "_view_name": "HTMLView",
            "description": "",
            "description_tooltip": null,
            "layout": "IPY_MODEL_ece1117d460240518086fda88eb8df87",
            "placeholder": "​",
            "style": "IPY_MODEL_2efcdfb351854adb830f1012ab6be909",
            "value": " 90.9M/90.9M [00:00&lt;00:00, 152MB/s]"
          }
        },
        "8b942c7366c546a9bfb94130fbde099a": {
          "model_module": "@jupyter-widgets/base",
          "model_name": "LayoutModel",
          "model_module_version": "1.2.0",
          "state": {
            "_model_module": "@jupyter-widgets/base",
            "_model_module_version": "1.2.0",
            "_model_name": "LayoutModel",
            "_view_count": null,
            "_view_module": "@jupyter-widgets/base",
            "_view_module_version": "1.2.0",
            "_view_name": "LayoutView",
            "align_content": null,
            "align_items": null,
            "align_self": null,
            "border": null,
            "bottom": null,
            "display": null,
            "flex": null,
            "flex_flow": null,
            "grid_area": null,
            "grid_auto_columns": null,
            "grid_auto_flow": null,
            "grid_auto_rows": null,
            "grid_column": null,
            "grid_gap": null,
            "grid_row": null,
            "grid_template_areas": null,
            "grid_template_columns": null,
            "grid_template_rows": null,
            "height": null,
            "justify_content": null,
            "justify_items": null,
            "left": null,
            "margin": null,
            "max_height": null,
            "max_width": null,
            "min_height": null,
            "min_width": null,
            "object_fit": null,
            "object_position": null,
            "order": null,
            "overflow": null,
            "overflow_x": null,
            "overflow_y": null,
            "padding": null,
            "right": null,
            "top": null,
            "visibility": null,
            "width": null
          }
        },
        "b42dbdb0251e44fc8c9df0ad155ec487": {
          "model_module": "@jupyter-widgets/base",
          "model_name": "LayoutModel",
          "model_module_version": "1.2.0",
          "state": {
            "_model_module": "@jupyter-widgets/base",
            "_model_module_version": "1.2.0",
            "_model_name": "LayoutModel",
            "_view_count": null,
            "_view_module": "@jupyter-widgets/base",
            "_view_module_version": "1.2.0",
            "_view_name": "LayoutView",
            "align_content": null,
            "align_items": null,
            "align_self": null,
            "border": null,
            "bottom": null,
            "display": null,
            "flex": null,
            "flex_flow": null,
            "grid_area": null,
            "grid_auto_columns": null,
            "grid_auto_flow": null,
            "grid_auto_rows": null,
            "grid_column": null,
            "grid_gap": null,
            "grid_row": null,
            "grid_template_areas": null,
            "grid_template_columns": null,
            "grid_template_rows": null,
            "height": null,
            "justify_content": null,
            "justify_items": null,
            "left": null,
            "margin": null,
            "max_height": null,
            "max_width": null,
            "min_height": null,
            "min_width": null,
            "object_fit": null,
            "object_position": null,
            "order": null,
            "overflow": null,
            "overflow_x": null,
            "overflow_y": null,
            "padding": null,
            "right": null,
            "top": null,
            "visibility": null,
            "width": null
          }
        },
        "12ba36b6e3c7452bb505661683d37229": {
          "model_module": "@jupyter-widgets/controls",
          "model_name": "DescriptionStyleModel",
          "model_module_version": "1.5.0",
          "state": {
            "_model_module": "@jupyter-widgets/controls",
            "_model_module_version": "1.5.0",
            "_model_name": "DescriptionStyleModel",
            "_view_count": null,
            "_view_module": "@jupyter-widgets/base",
            "_view_module_version": "1.2.0",
            "_view_name": "StyleView",
            "description_width": ""
          }
        },
        "1367302af9b74703b01d4b419c0ac37d": {
          "model_module": "@jupyter-widgets/base",
          "model_name": "LayoutModel",
          "model_module_version": "1.2.0",
          "state": {
            "_model_module": "@jupyter-widgets/base",
            "_model_module_version": "1.2.0",
            "_model_name": "LayoutModel",
            "_view_count": null,
            "_view_module": "@jupyter-widgets/base",
            "_view_module_version": "1.2.0",
            "_view_name": "LayoutView",
            "align_content": null,
            "align_items": null,
            "align_self": null,
            "border": null,
            "bottom": null,
            "display": null,
            "flex": null,
            "flex_flow": null,
            "grid_area": null,
            "grid_auto_columns": null,
            "grid_auto_flow": null,
            "grid_auto_rows": null,
            "grid_column": null,
            "grid_gap": null,
            "grid_row": null,
            "grid_template_areas": null,
            "grid_template_columns": null,
            "grid_template_rows": null,
            "height": null,
            "justify_content": null,
            "justify_items": null,
            "left": null,
            "margin": null,
            "max_height": null,
            "max_width": null,
            "min_height": null,
            "min_width": null,
            "object_fit": null,
            "object_position": null,
            "order": null,
            "overflow": null,
            "overflow_x": null,
            "overflow_y": null,
            "padding": null,
            "right": null,
            "top": null,
            "visibility": null,
            "width": null
          }
        },
        "a550e131a9be430d8cecb3e7c85dd687": {
          "model_module": "@jupyter-widgets/controls",
          "model_name": "ProgressStyleModel",
          "model_module_version": "1.5.0",
          "state": {
            "_model_module": "@jupyter-widgets/controls",
            "_model_module_version": "1.5.0",
            "_model_name": "ProgressStyleModel",
            "_view_count": null,
            "_view_module": "@jupyter-widgets/base",
            "_view_module_version": "1.2.0",
            "_view_name": "StyleView",
            "bar_color": null,
            "description_width": ""
          }
        },
        "ece1117d460240518086fda88eb8df87": {
          "model_module": "@jupyter-widgets/base",
          "model_name": "LayoutModel",
          "model_module_version": "1.2.0",
          "state": {
            "_model_module": "@jupyter-widgets/base",
            "_model_module_version": "1.2.0",
            "_model_name": "LayoutModel",
            "_view_count": null,
            "_view_module": "@jupyter-widgets/base",
            "_view_module_version": "1.2.0",
            "_view_name": "LayoutView",
            "align_content": null,
            "align_items": null,
            "align_self": null,
            "border": null,
            "bottom": null,
            "display": null,
            "flex": null,
            "flex_flow": null,
            "grid_area": null,
            "grid_auto_columns": null,
            "grid_auto_flow": null,
            "grid_auto_rows": null,
            "grid_column": null,
            "grid_gap": null,
            "grid_row": null,
            "grid_template_areas": null,
            "grid_template_columns": null,
            "grid_template_rows": null,
            "height": null,
            "justify_content": null,
            "justify_items": null,
            "left": null,
            "margin": null,
            "max_height": null,
            "max_width": null,
            "min_height": null,
            "min_width": null,
            "object_fit": null,
            "object_position": null,
            "order": null,
            "overflow": null,
            "overflow_x": null,
            "overflow_y": null,
            "padding": null,
            "right": null,
            "top": null,
            "visibility": null,
            "width": null
          }
        },
        "2efcdfb351854adb830f1012ab6be909": {
          "model_module": "@jupyter-widgets/controls",
          "model_name": "DescriptionStyleModel",
          "model_module_version": "1.5.0",
          "state": {
            "_model_module": "@jupyter-widgets/controls",
            "_model_module_version": "1.5.0",
            "_model_name": "DescriptionStyleModel",
            "_view_count": null,
            "_view_module": "@jupyter-widgets/base",
            "_view_module_version": "1.2.0",
            "_view_name": "StyleView",
            "description_width": ""
          }
        },
        "d0639d263b1a4f89bbb636c8176b38a5": {
          "model_module": "@jupyter-widgets/controls",
          "model_name": "HBoxModel",
          "model_module_version": "1.5.0",
          "state": {
            "_dom_classes": [],
            "_model_module": "@jupyter-widgets/controls",
            "_model_module_version": "1.5.0",
            "_model_name": "HBoxModel",
            "_view_count": null,
            "_view_module": "@jupyter-widgets/controls",
            "_view_module_version": "1.5.0",
            "_view_name": "HBoxView",
            "box_style": "",
            "children": [
              "IPY_MODEL_f3c71c0d550843b78fc985ee5d9274aa",
              "IPY_MODEL_aaea2fb765c84d058897271541af7e90",
              "IPY_MODEL_2f77410c046b4aefa08883e393fb2337"
            ],
            "layout": "IPY_MODEL_57b032d270b145f5bf0bee897c96e379"
          }
        },
        "f3c71c0d550843b78fc985ee5d9274aa": {
          "model_module": "@jupyter-widgets/controls",
          "model_name": "HTMLModel",
          "model_module_version": "1.5.0",
          "state": {
            "_dom_classes": [],
            "_model_module": "@jupyter-widgets/controls",
            "_model_module_version": "1.5.0",
            "_model_name": "HTMLModel",
            "_view_count": null,
            "_view_module": "@jupyter-widgets/controls",
            "_view_module_version": "1.5.0",
            "_view_name": "HTMLView",
            "description": "",
            "description_tooltip": null,
            "layout": "IPY_MODEL_4f62cae9783848f3a318605e2e1a2058",
            "placeholder": "​",
            "style": "IPY_MODEL_6e1e8ec272cd4b4e86eca2bc5cd573a4",
            "value": "tokenizer_config.json: 100%"
          }
        },
        "aaea2fb765c84d058897271541af7e90": {
          "model_module": "@jupyter-widgets/controls",
          "model_name": "FloatProgressModel",
          "model_module_version": "1.5.0",
          "state": {
            "_dom_classes": [],
            "_model_module": "@jupyter-widgets/controls",
            "_model_module_version": "1.5.0",
            "_model_name": "FloatProgressModel",
            "_view_count": null,
            "_view_module": "@jupyter-widgets/controls",
            "_view_module_version": "1.5.0",
            "_view_name": "ProgressView",
            "bar_style": "success",
            "description": "",
            "description_tooltip": null,
            "layout": "IPY_MODEL_096527ad44e643de9f27f3e16948e0f7",
            "max": 350,
            "min": 0,
            "orientation": "horizontal",
            "style": "IPY_MODEL_df4a7dac51bb4f3ea9397a9028b5ab49",
            "value": 350
          }
        },
        "2f77410c046b4aefa08883e393fb2337": {
          "model_module": "@jupyter-widgets/controls",
          "model_name": "HTMLModel",
          "model_module_version": "1.5.0",
          "state": {
            "_dom_classes": [],
            "_model_module": "@jupyter-widgets/controls",
            "_model_module_version": "1.5.0",
            "_model_name": "HTMLModel",
            "_view_count": null,
            "_view_module": "@jupyter-widgets/controls",
            "_view_module_version": "1.5.0",
            "_view_name": "HTMLView",
            "description": "",
            "description_tooltip": null,
            "layout": "IPY_MODEL_25287a688842469d98f9e7752f70d3c5",
            "placeholder": "​",
            "style": "IPY_MODEL_1d97823b6ef84cc38a0a1965a4572ae4",
            "value": " 350/350 [00:00&lt;00:00, 17.0kB/s]"
          }
        },
        "57b032d270b145f5bf0bee897c96e379": {
          "model_module": "@jupyter-widgets/base",
          "model_name": "LayoutModel",
          "model_module_version": "1.2.0",
          "state": {
            "_model_module": "@jupyter-widgets/base",
            "_model_module_version": "1.2.0",
            "_model_name": "LayoutModel",
            "_view_count": null,
            "_view_module": "@jupyter-widgets/base",
            "_view_module_version": "1.2.0",
            "_view_name": "LayoutView",
            "align_content": null,
            "align_items": null,
            "align_self": null,
            "border": null,
            "bottom": null,
            "display": null,
            "flex": null,
            "flex_flow": null,
            "grid_area": null,
            "grid_auto_columns": null,
            "grid_auto_flow": null,
            "grid_auto_rows": null,
            "grid_column": null,
            "grid_gap": null,
            "grid_row": null,
            "grid_template_areas": null,
            "grid_template_columns": null,
            "grid_template_rows": null,
            "height": null,
            "justify_content": null,
            "justify_items": null,
            "left": null,
            "margin": null,
            "max_height": null,
            "max_width": null,
            "min_height": null,
            "min_width": null,
            "object_fit": null,
            "object_position": null,
            "order": null,
            "overflow": null,
            "overflow_x": null,
            "overflow_y": null,
            "padding": null,
            "right": null,
            "top": null,
            "visibility": null,
            "width": null
          }
        },
        "4f62cae9783848f3a318605e2e1a2058": {
          "model_module": "@jupyter-widgets/base",
          "model_name": "LayoutModel",
          "model_module_version": "1.2.0",
          "state": {
            "_model_module": "@jupyter-widgets/base",
            "_model_module_version": "1.2.0",
            "_model_name": "LayoutModel",
            "_view_count": null,
            "_view_module": "@jupyter-widgets/base",
            "_view_module_version": "1.2.0",
            "_view_name": "LayoutView",
            "align_content": null,
            "align_items": null,
            "align_self": null,
            "border": null,
            "bottom": null,
            "display": null,
            "flex": null,
            "flex_flow": null,
            "grid_area": null,
            "grid_auto_columns": null,
            "grid_auto_flow": null,
            "grid_auto_rows": null,
            "grid_column": null,
            "grid_gap": null,
            "grid_row": null,
            "grid_template_areas": null,
            "grid_template_columns": null,
            "grid_template_rows": null,
            "height": null,
            "justify_content": null,
            "justify_items": null,
            "left": null,
            "margin": null,
            "max_height": null,
            "max_width": null,
            "min_height": null,
            "min_width": null,
            "object_fit": null,
            "object_position": null,
            "order": null,
            "overflow": null,
            "overflow_x": null,
            "overflow_y": null,
            "padding": null,
            "right": null,
            "top": null,
            "visibility": null,
            "width": null
          }
        },
        "6e1e8ec272cd4b4e86eca2bc5cd573a4": {
          "model_module": "@jupyter-widgets/controls",
          "model_name": "DescriptionStyleModel",
          "model_module_version": "1.5.0",
          "state": {
            "_model_module": "@jupyter-widgets/controls",
            "_model_module_version": "1.5.0",
            "_model_name": "DescriptionStyleModel",
            "_view_count": null,
            "_view_module": "@jupyter-widgets/base",
            "_view_module_version": "1.2.0",
            "_view_name": "StyleView",
            "description_width": ""
          }
        },
        "096527ad44e643de9f27f3e16948e0f7": {
          "model_module": "@jupyter-widgets/base",
          "model_name": "LayoutModel",
          "model_module_version": "1.2.0",
          "state": {
            "_model_module": "@jupyter-widgets/base",
            "_model_module_version": "1.2.0",
            "_model_name": "LayoutModel",
            "_view_count": null,
            "_view_module": "@jupyter-widgets/base",
            "_view_module_version": "1.2.0",
            "_view_name": "LayoutView",
            "align_content": null,
            "align_items": null,
            "align_self": null,
            "border": null,
            "bottom": null,
            "display": null,
            "flex": null,
            "flex_flow": null,
            "grid_area": null,
            "grid_auto_columns": null,
            "grid_auto_flow": null,
            "grid_auto_rows": null,
            "grid_column": null,
            "grid_gap": null,
            "grid_row": null,
            "grid_template_areas": null,
            "grid_template_columns": null,
            "grid_template_rows": null,
            "height": null,
            "justify_content": null,
            "justify_items": null,
            "left": null,
            "margin": null,
            "max_height": null,
            "max_width": null,
            "min_height": null,
            "min_width": null,
            "object_fit": null,
            "object_position": null,
            "order": null,
            "overflow": null,
            "overflow_x": null,
            "overflow_y": null,
            "padding": null,
            "right": null,
            "top": null,
            "visibility": null,
            "width": null
          }
        },
        "df4a7dac51bb4f3ea9397a9028b5ab49": {
          "model_module": "@jupyter-widgets/controls",
          "model_name": "ProgressStyleModel",
          "model_module_version": "1.5.0",
          "state": {
            "_model_module": "@jupyter-widgets/controls",
            "_model_module_version": "1.5.0",
            "_model_name": "ProgressStyleModel",
            "_view_count": null,
            "_view_module": "@jupyter-widgets/base",
            "_view_module_version": "1.2.0",
            "_view_name": "StyleView",
            "bar_color": null,
            "description_width": ""
          }
        },
        "25287a688842469d98f9e7752f70d3c5": {
          "model_module": "@jupyter-widgets/base",
          "model_name": "LayoutModel",
          "model_module_version": "1.2.0",
          "state": {
            "_model_module": "@jupyter-widgets/base",
            "_model_module_version": "1.2.0",
            "_model_name": "LayoutModel",
            "_view_count": null,
            "_view_module": "@jupyter-widgets/base",
            "_view_module_version": "1.2.0",
            "_view_name": "LayoutView",
            "align_content": null,
            "align_items": null,
            "align_self": null,
            "border": null,
            "bottom": null,
            "display": null,
            "flex": null,
            "flex_flow": null,
            "grid_area": null,
            "grid_auto_columns": null,
            "grid_auto_flow": null,
            "grid_auto_rows": null,
            "grid_column": null,
            "grid_gap": null,
            "grid_row": null,
            "grid_template_areas": null,
            "grid_template_columns": null,
            "grid_template_rows": null,
            "height": null,
            "justify_content": null,
            "justify_items": null,
            "left": null,
            "margin": null,
            "max_height": null,
            "max_width": null,
            "min_height": null,
            "min_width": null,
            "object_fit": null,
            "object_position": null,
            "order": null,
            "overflow": null,
            "overflow_x": null,
            "overflow_y": null,
            "padding": null,
            "right": null,
            "top": null,
            "visibility": null,
            "width": null
          }
        },
        "1d97823b6ef84cc38a0a1965a4572ae4": {
          "model_module": "@jupyter-widgets/controls",
          "model_name": "DescriptionStyleModel",
          "model_module_version": "1.5.0",
          "state": {
            "_model_module": "@jupyter-widgets/controls",
            "_model_module_version": "1.5.0",
            "_model_name": "DescriptionStyleModel",
            "_view_count": null,
            "_view_module": "@jupyter-widgets/base",
            "_view_module_version": "1.2.0",
            "_view_name": "StyleView",
            "description_width": ""
          }
        },
        "4f62e7eed17344b2b179a56db2094774": {
          "model_module": "@jupyter-widgets/controls",
          "model_name": "HBoxModel",
          "model_module_version": "1.5.0",
          "state": {
            "_dom_classes": [],
            "_model_module": "@jupyter-widgets/controls",
            "_model_module_version": "1.5.0",
            "_model_name": "HBoxModel",
            "_view_count": null,
            "_view_module": "@jupyter-widgets/controls",
            "_view_module_version": "1.5.0",
            "_view_name": "HBoxView",
            "box_style": "",
            "children": [
              "IPY_MODEL_148af72aa56149d9934a9d4c6118e1e1",
              "IPY_MODEL_a49c1997a6e6419e89d91f88a665f102",
              "IPY_MODEL_1041299e72aa4a59aae513fecf74256e"
            ],
            "layout": "IPY_MODEL_add43339931a4b38a24f809e70e55c47"
          }
        },
        "148af72aa56149d9934a9d4c6118e1e1": {
          "model_module": "@jupyter-widgets/controls",
          "model_name": "HTMLModel",
          "model_module_version": "1.5.0",
          "state": {
            "_dom_classes": [],
            "_model_module": "@jupyter-widgets/controls",
            "_model_module_version": "1.5.0",
            "_model_name": "HTMLModel",
            "_view_count": null,
            "_view_module": "@jupyter-widgets/controls",
            "_view_module_version": "1.5.0",
            "_view_name": "HTMLView",
            "description": "",
            "description_tooltip": null,
            "layout": "IPY_MODEL_aa7be5bf9b3b4314ac94e6fefd74170e",
            "placeholder": "​",
            "style": "IPY_MODEL_059df77bd09e4376a3c74b158811963b",
            "value": "vocab.txt: 100%"
          }
        },
        "a49c1997a6e6419e89d91f88a665f102": {
          "model_module": "@jupyter-widgets/controls",
          "model_name": "FloatProgressModel",
          "model_module_version": "1.5.0",
          "state": {
            "_dom_classes": [],
            "_model_module": "@jupyter-widgets/controls",
            "_model_module_version": "1.5.0",
            "_model_name": "FloatProgressModel",
            "_view_count": null,
            "_view_module": "@jupyter-widgets/controls",
            "_view_module_version": "1.5.0",
            "_view_name": "ProgressView",
            "bar_style": "success",
            "description": "",
            "description_tooltip": null,
            "layout": "IPY_MODEL_b71516bfb15d4bc1a5c1b2d00f8a2078",
            "max": 231508,
            "min": 0,
            "orientation": "horizontal",
            "style": "IPY_MODEL_e7ad1ed673314b469d2e14a16d3ca7e8",
            "value": 231508
          }
        },
        "1041299e72aa4a59aae513fecf74256e": {
          "model_module": "@jupyter-widgets/controls",
          "model_name": "HTMLModel",
          "model_module_version": "1.5.0",
          "state": {
            "_dom_classes": [],
            "_model_module": "@jupyter-widgets/controls",
            "_model_module_version": "1.5.0",
            "_model_name": "HTMLModel",
            "_view_count": null,
            "_view_module": "@jupyter-widgets/controls",
            "_view_module_version": "1.5.0",
            "_view_name": "HTMLView",
            "description": "",
            "description_tooltip": null,
            "layout": "IPY_MODEL_27f21925026445d6a1ebfab8e0c95bd6",
            "placeholder": "​",
            "style": "IPY_MODEL_effe45554a854ca0b1601107c86f1c75",
            "value": " 232k/232k [00:00&lt;00:00, 3.13MB/s]"
          }
        },
        "add43339931a4b38a24f809e70e55c47": {
          "model_module": "@jupyter-widgets/base",
          "model_name": "LayoutModel",
          "model_module_version": "1.2.0",
          "state": {
            "_model_module": "@jupyter-widgets/base",
            "_model_module_version": "1.2.0",
            "_model_name": "LayoutModel",
            "_view_count": null,
            "_view_module": "@jupyter-widgets/base",
            "_view_module_version": "1.2.0",
            "_view_name": "LayoutView",
            "align_content": null,
            "align_items": null,
            "align_self": null,
            "border": null,
            "bottom": null,
            "display": null,
            "flex": null,
            "flex_flow": null,
            "grid_area": null,
            "grid_auto_columns": null,
            "grid_auto_flow": null,
            "grid_auto_rows": null,
            "grid_column": null,
            "grid_gap": null,
            "grid_row": null,
            "grid_template_areas": null,
            "grid_template_columns": null,
            "grid_template_rows": null,
            "height": null,
            "justify_content": null,
            "justify_items": null,
            "left": null,
            "margin": null,
            "max_height": null,
            "max_width": null,
            "min_height": null,
            "min_width": null,
            "object_fit": null,
            "object_position": null,
            "order": null,
            "overflow": null,
            "overflow_x": null,
            "overflow_y": null,
            "padding": null,
            "right": null,
            "top": null,
            "visibility": null,
            "width": null
          }
        },
        "aa7be5bf9b3b4314ac94e6fefd74170e": {
          "model_module": "@jupyter-widgets/base",
          "model_name": "LayoutModel",
          "model_module_version": "1.2.0",
          "state": {
            "_model_module": "@jupyter-widgets/base",
            "_model_module_version": "1.2.0",
            "_model_name": "LayoutModel",
            "_view_count": null,
            "_view_module": "@jupyter-widgets/base",
            "_view_module_version": "1.2.0",
            "_view_name": "LayoutView",
            "align_content": null,
            "align_items": null,
            "align_self": null,
            "border": null,
            "bottom": null,
            "display": null,
            "flex": null,
            "flex_flow": null,
            "grid_area": null,
            "grid_auto_columns": null,
            "grid_auto_flow": null,
            "grid_auto_rows": null,
            "grid_column": null,
            "grid_gap": null,
            "grid_row": null,
            "grid_template_areas": null,
            "grid_template_columns": null,
            "grid_template_rows": null,
            "height": null,
            "justify_content": null,
            "justify_items": null,
            "left": null,
            "margin": null,
            "max_height": null,
            "max_width": null,
            "min_height": null,
            "min_width": null,
            "object_fit": null,
            "object_position": null,
            "order": null,
            "overflow": null,
            "overflow_x": null,
            "overflow_y": null,
            "padding": null,
            "right": null,
            "top": null,
            "visibility": null,
            "width": null
          }
        },
        "059df77bd09e4376a3c74b158811963b": {
          "model_module": "@jupyter-widgets/controls",
          "model_name": "DescriptionStyleModel",
          "model_module_version": "1.5.0",
          "state": {
            "_model_module": "@jupyter-widgets/controls",
            "_model_module_version": "1.5.0",
            "_model_name": "DescriptionStyleModel",
            "_view_count": null,
            "_view_module": "@jupyter-widgets/base",
            "_view_module_version": "1.2.0",
            "_view_name": "StyleView",
            "description_width": ""
          }
        },
        "b71516bfb15d4bc1a5c1b2d00f8a2078": {
          "model_module": "@jupyter-widgets/base",
          "model_name": "LayoutModel",
          "model_module_version": "1.2.0",
          "state": {
            "_model_module": "@jupyter-widgets/base",
            "_model_module_version": "1.2.0",
            "_model_name": "LayoutModel",
            "_view_count": null,
            "_view_module": "@jupyter-widgets/base",
            "_view_module_version": "1.2.0",
            "_view_name": "LayoutView",
            "align_content": null,
            "align_items": null,
            "align_self": null,
            "border": null,
            "bottom": null,
            "display": null,
            "flex": null,
            "flex_flow": null,
            "grid_area": null,
            "grid_auto_columns": null,
            "grid_auto_flow": null,
            "grid_auto_rows": null,
            "grid_column": null,
            "grid_gap": null,
            "grid_row": null,
            "grid_template_areas": null,
            "grid_template_columns": null,
            "grid_template_rows": null,
            "height": null,
            "justify_content": null,
            "justify_items": null,
            "left": null,
            "margin": null,
            "max_height": null,
            "max_width": null,
            "min_height": null,
            "min_width": null,
            "object_fit": null,
            "object_position": null,
            "order": null,
            "overflow": null,
            "overflow_x": null,
            "overflow_y": null,
            "padding": null,
            "right": null,
            "top": null,
            "visibility": null,
            "width": null
          }
        },
        "e7ad1ed673314b469d2e14a16d3ca7e8": {
          "model_module": "@jupyter-widgets/controls",
          "model_name": "ProgressStyleModel",
          "model_module_version": "1.5.0",
          "state": {
            "_model_module": "@jupyter-widgets/controls",
            "_model_module_version": "1.5.0",
            "_model_name": "ProgressStyleModel",
            "_view_count": null,
            "_view_module": "@jupyter-widgets/base",
            "_view_module_version": "1.2.0",
            "_view_name": "StyleView",
            "bar_color": null,
            "description_width": ""
          }
        },
        "27f21925026445d6a1ebfab8e0c95bd6": {
          "model_module": "@jupyter-widgets/base",
          "model_name": "LayoutModel",
          "model_module_version": "1.2.0",
          "state": {
            "_model_module": "@jupyter-widgets/base",
            "_model_module_version": "1.2.0",
            "_model_name": "LayoutModel",
            "_view_count": null,
            "_view_module": "@jupyter-widgets/base",
            "_view_module_version": "1.2.0",
            "_view_name": "LayoutView",
            "align_content": null,
            "align_items": null,
            "align_self": null,
            "border": null,
            "bottom": null,
            "display": null,
            "flex": null,
            "flex_flow": null,
            "grid_area": null,
            "grid_auto_columns": null,
            "grid_auto_flow": null,
            "grid_auto_rows": null,
            "grid_column": null,
            "grid_gap": null,
            "grid_row": null,
            "grid_template_areas": null,
            "grid_template_columns": null,
            "grid_template_rows": null,
            "height": null,
            "justify_content": null,
            "justify_items": null,
            "left": null,
            "margin": null,
            "max_height": null,
            "max_width": null,
            "min_height": null,
            "min_width": null,
            "object_fit": null,
            "object_position": null,
            "order": null,
            "overflow": null,
            "overflow_x": null,
            "overflow_y": null,
            "padding": null,
            "right": null,
            "top": null,
            "visibility": null,
            "width": null
          }
        },
        "effe45554a854ca0b1601107c86f1c75": {
          "model_module": "@jupyter-widgets/controls",
          "model_name": "DescriptionStyleModel",
          "model_module_version": "1.5.0",
          "state": {
            "_model_module": "@jupyter-widgets/controls",
            "_model_module_version": "1.5.0",
            "_model_name": "DescriptionStyleModel",
            "_view_count": null,
            "_view_module": "@jupyter-widgets/base",
            "_view_module_version": "1.2.0",
            "_view_name": "StyleView",
            "description_width": ""
          }
        },
        "31ddc939e70743fa9f0cc442474ac1f9": {
          "model_module": "@jupyter-widgets/controls",
          "model_name": "HBoxModel",
          "model_module_version": "1.5.0",
          "state": {
            "_dom_classes": [],
            "_model_module": "@jupyter-widgets/controls",
            "_model_module_version": "1.5.0",
            "_model_name": "HBoxModel",
            "_view_count": null,
            "_view_module": "@jupyter-widgets/controls",
            "_view_module_version": "1.5.0",
            "_view_name": "HBoxView",
            "box_style": "",
            "children": [
              "IPY_MODEL_faf4f790603749459ef00d118a65be56",
              "IPY_MODEL_318d3b7f145e449e9d8df482faf68764",
              "IPY_MODEL_e89877b3d0674218a10dc116a7254988"
            ],
            "layout": "IPY_MODEL_8892b47eb0ab494aa5239a9d02459652"
          }
        },
        "faf4f790603749459ef00d118a65be56": {
          "model_module": "@jupyter-widgets/controls",
          "model_name": "HTMLModel",
          "model_module_version": "1.5.0",
          "state": {
            "_dom_classes": [],
            "_model_module": "@jupyter-widgets/controls",
            "_model_module_version": "1.5.0",
            "_model_name": "HTMLModel",
            "_view_count": null,
            "_view_module": "@jupyter-widgets/controls",
            "_view_module_version": "1.5.0",
            "_view_name": "HTMLView",
            "description": "",
            "description_tooltip": null,
            "layout": "IPY_MODEL_a7fa07c1d024425bb3fb1c0386cf3fda",
            "placeholder": "​",
            "style": "IPY_MODEL_b9d05d95a3564eb795788af50b891357",
            "value": "tokenizer.json: 100%"
          }
        },
        "318d3b7f145e449e9d8df482faf68764": {
          "model_module": "@jupyter-widgets/controls",
          "model_name": "FloatProgressModel",
          "model_module_version": "1.5.0",
          "state": {
            "_dom_classes": [],
            "_model_module": "@jupyter-widgets/controls",
            "_model_module_version": "1.5.0",
            "_model_name": "FloatProgressModel",
            "_view_count": null,
            "_view_module": "@jupyter-widgets/controls",
            "_view_module_version": "1.5.0",
            "_view_name": "ProgressView",
            "bar_style": "success",
            "description": "",
            "description_tooltip": null,
            "layout": "IPY_MODEL_350f35a4537740f386575e58f1b2fa78",
            "max": 466247,
            "min": 0,
            "orientation": "horizontal",
            "style": "IPY_MODEL_43157f5a20594f779c81e65b68dfa07a",
            "value": 466247
          }
        },
        "e89877b3d0674218a10dc116a7254988": {
          "model_module": "@jupyter-widgets/controls",
          "model_name": "HTMLModel",
          "model_module_version": "1.5.0",
          "state": {
            "_dom_classes": [],
            "_model_module": "@jupyter-widgets/controls",
            "_model_module_version": "1.5.0",
            "_model_name": "HTMLModel",
            "_view_count": null,
            "_view_module": "@jupyter-widgets/controls",
            "_view_module_version": "1.5.0",
            "_view_name": "HTMLView",
            "description": "",
            "description_tooltip": null,
            "layout": "IPY_MODEL_7bb1724b44ad4c7db0828ea14dd1b3ac",
            "placeholder": "​",
            "style": "IPY_MODEL_ce717d94fc6849499b5f3e6bdd505af5",
            "value": " 466k/466k [00:00&lt;00:00, 3.50MB/s]"
          }
        },
        "8892b47eb0ab494aa5239a9d02459652": {
          "model_module": "@jupyter-widgets/base",
          "model_name": "LayoutModel",
          "model_module_version": "1.2.0",
          "state": {
            "_model_module": "@jupyter-widgets/base",
            "_model_module_version": "1.2.0",
            "_model_name": "LayoutModel",
            "_view_count": null,
            "_view_module": "@jupyter-widgets/base",
            "_view_module_version": "1.2.0",
            "_view_name": "LayoutView",
            "align_content": null,
            "align_items": null,
            "align_self": null,
            "border": null,
            "bottom": null,
            "display": null,
            "flex": null,
            "flex_flow": null,
            "grid_area": null,
            "grid_auto_columns": null,
            "grid_auto_flow": null,
            "grid_auto_rows": null,
            "grid_column": null,
            "grid_gap": null,
            "grid_row": null,
            "grid_template_areas": null,
            "grid_template_columns": null,
            "grid_template_rows": null,
            "height": null,
            "justify_content": null,
            "justify_items": null,
            "left": null,
            "margin": null,
            "max_height": null,
            "max_width": null,
            "min_height": null,
            "min_width": null,
            "object_fit": null,
            "object_position": null,
            "order": null,
            "overflow": null,
            "overflow_x": null,
            "overflow_y": null,
            "padding": null,
            "right": null,
            "top": null,
            "visibility": null,
            "width": null
          }
        },
        "a7fa07c1d024425bb3fb1c0386cf3fda": {
          "model_module": "@jupyter-widgets/base",
          "model_name": "LayoutModel",
          "model_module_version": "1.2.0",
          "state": {
            "_model_module": "@jupyter-widgets/base",
            "_model_module_version": "1.2.0",
            "_model_name": "LayoutModel",
            "_view_count": null,
            "_view_module": "@jupyter-widgets/base",
            "_view_module_version": "1.2.0",
            "_view_name": "LayoutView",
            "align_content": null,
            "align_items": null,
            "align_self": null,
            "border": null,
            "bottom": null,
            "display": null,
            "flex": null,
            "flex_flow": null,
            "grid_area": null,
            "grid_auto_columns": null,
            "grid_auto_flow": null,
            "grid_auto_rows": null,
            "grid_column": null,
            "grid_gap": null,
            "grid_row": null,
            "grid_template_areas": null,
            "grid_template_columns": null,
            "grid_template_rows": null,
            "height": null,
            "justify_content": null,
            "justify_items": null,
            "left": null,
            "margin": null,
            "max_height": null,
            "max_width": null,
            "min_height": null,
            "min_width": null,
            "object_fit": null,
            "object_position": null,
            "order": null,
            "overflow": null,
            "overflow_x": null,
            "overflow_y": null,
            "padding": null,
            "right": null,
            "top": null,
            "visibility": null,
            "width": null
          }
        },
        "b9d05d95a3564eb795788af50b891357": {
          "model_module": "@jupyter-widgets/controls",
          "model_name": "DescriptionStyleModel",
          "model_module_version": "1.5.0",
          "state": {
            "_model_module": "@jupyter-widgets/controls",
            "_model_module_version": "1.5.0",
            "_model_name": "DescriptionStyleModel",
            "_view_count": null,
            "_view_module": "@jupyter-widgets/base",
            "_view_module_version": "1.2.0",
            "_view_name": "StyleView",
            "description_width": ""
          }
        },
        "350f35a4537740f386575e58f1b2fa78": {
          "model_module": "@jupyter-widgets/base",
          "model_name": "LayoutModel",
          "model_module_version": "1.2.0",
          "state": {
            "_model_module": "@jupyter-widgets/base",
            "_model_module_version": "1.2.0",
            "_model_name": "LayoutModel",
            "_view_count": null,
            "_view_module": "@jupyter-widgets/base",
            "_view_module_version": "1.2.0",
            "_view_name": "LayoutView",
            "align_content": null,
            "align_items": null,
            "align_self": null,
            "border": null,
            "bottom": null,
            "display": null,
            "flex": null,
            "flex_flow": null,
            "grid_area": null,
            "grid_auto_columns": null,
            "grid_auto_flow": null,
            "grid_auto_rows": null,
            "grid_column": null,
            "grid_gap": null,
            "grid_row": null,
            "grid_template_areas": null,
            "grid_template_columns": null,
            "grid_template_rows": null,
            "height": null,
            "justify_content": null,
            "justify_items": null,
            "left": null,
            "margin": null,
            "max_height": null,
            "max_width": null,
            "min_height": null,
            "min_width": null,
            "object_fit": null,
            "object_position": null,
            "order": null,
            "overflow": null,
            "overflow_x": null,
            "overflow_y": null,
            "padding": null,
            "right": null,
            "top": null,
            "visibility": null,
            "width": null
          }
        },
        "43157f5a20594f779c81e65b68dfa07a": {
          "model_module": "@jupyter-widgets/controls",
          "model_name": "ProgressStyleModel",
          "model_module_version": "1.5.0",
          "state": {
            "_model_module": "@jupyter-widgets/controls",
            "_model_module_version": "1.5.0",
            "_model_name": "ProgressStyleModel",
            "_view_count": null,
            "_view_module": "@jupyter-widgets/base",
            "_view_module_version": "1.2.0",
            "_view_name": "StyleView",
            "bar_color": null,
            "description_width": ""
          }
        },
        "7bb1724b44ad4c7db0828ea14dd1b3ac": {
          "model_module": "@jupyter-widgets/base",
          "model_name": "LayoutModel",
          "model_module_version": "1.2.0",
          "state": {
            "_model_module": "@jupyter-widgets/base",
            "_model_module_version": "1.2.0",
            "_model_name": "LayoutModel",
            "_view_count": null,
            "_view_module": "@jupyter-widgets/base",
            "_view_module_version": "1.2.0",
            "_view_name": "LayoutView",
            "align_content": null,
            "align_items": null,
            "align_self": null,
            "border": null,
            "bottom": null,
            "display": null,
            "flex": null,
            "flex_flow": null,
            "grid_area": null,
            "grid_auto_columns": null,
            "grid_auto_flow": null,
            "grid_auto_rows": null,
            "grid_column": null,
            "grid_gap": null,
            "grid_row": null,
            "grid_template_areas": null,
            "grid_template_columns": null,
            "grid_template_rows": null,
            "height": null,
            "justify_content": null,
            "justify_items": null,
            "left": null,
            "margin": null,
            "max_height": null,
            "max_width": null,
            "min_height": null,
            "min_width": null,
            "object_fit": null,
            "object_position": null,
            "order": null,
            "overflow": null,
            "overflow_x": null,
            "overflow_y": null,
            "padding": null,
            "right": null,
            "top": null,
            "visibility": null,
            "width": null
          }
        },
        "ce717d94fc6849499b5f3e6bdd505af5": {
          "model_module": "@jupyter-widgets/controls",
          "model_name": "DescriptionStyleModel",
          "model_module_version": "1.5.0",
          "state": {
            "_model_module": "@jupyter-widgets/controls",
            "_model_module_version": "1.5.0",
            "_model_name": "DescriptionStyleModel",
            "_view_count": null,
            "_view_module": "@jupyter-widgets/base",
            "_view_module_version": "1.2.0",
            "_view_name": "StyleView",
            "description_width": ""
          }
        },
        "8b2ca7c661884d318db017819377f067": {
          "model_module": "@jupyter-widgets/controls",
          "model_name": "HBoxModel",
          "model_module_version": "1.5.0",
          "state": {
            "_dom_classes": [],
            "_model_module": "@jupyter-widgets/controls",
            "_model_module_version": "1.5.0",
            "_model_name": "HBoxModel",
            "_view_count": null,
            "_view_module": "@jupyter-widgets/controls",
            "_view_module_version": "1.5.0",
            "_view_name": "HBoxView",
            "box_style": "",
            "children": [
              "IPY_MODEL_f1e00656e0824e5ead5d107e9eb84b5e",
              "IPY_MODEL_800074d5a8dd4f5fac09010e51dcd50d",
              "IPY_MODEL_d9ced8fad85840c18ba05383bc77ac99"
            ],
            "layout": "IPY_MODEL_f79cabd2f3594350beacdf5dc37d7dc3"
          }
        },
        "f1e00656e0824e5ead5d107e9eb84b5e": {
          "model_module": "@jupyter-widgets/controls",
          "model_name": "HTMLModel",
          "model_module_version": "1.5.0",
          "state": {
            "_dom_classes": [],
            "_model_module": "@jupyter-widgets/controls",
            "_model_module_version": "1.5.0",
            "_model_name": "HTMLModel",
            "_view_count": null,
            "_view_module": "@jupyter-widgets/controls",
            "_view_module_version": "1.5.0",
            "_view_name": "HTMLView",
            "description": "",
            "description_tooltip": null,
            "layout": "IPY_MODEL_fa6eb5d3278642d897ddbd63de02441c",
            "placeholder": "​",
            "style": "IPY_MODEL_d479a8dd97614554846ce5de3af012b0",
            "value": "special_tokens_map.json: 100%"
          }
        },
        "800074d5a8dd4f5fac09010e51dcd50d": {
          "model_module": "@jupyter-widgets/controls",
          "model_name": "FloatProgressModel",
          "model_module_version": "1.5.0",
          "state": {
            "_dom_classes": [],
            "_model_module": "@jupyter-widgets/controls",
            "_model_module_version": "1.5.0",
            "_model_name": "FloatProgressModel",
            "_view_count": null,
            "_view_module": "@jupyter-widgets/controls",
            "_view_module_version": "1.5.0",
            "_view_name": "ProgressView",
            "bar_style": "success",
            "description": "",
            "description_tooltip": null,
            "layout": "IPY_MODEL_e58cad43d1a344a1b3dc82eef3296224",
            "max": 112,
            "min": 0,
            "orientation": "horizontal",
            "style": "IPY_MODEL_b96e779c487046bbb92bd64a1fa3f2de",
            "value": 112
          }
        },
        "d9ced8fad85840c18ba05383bc77ac99": {
          "model_module": "@jupyter-widgets/controls",
          "model_name": "HTMLModel",
          "model_module_version": "1.5.0",
          "state": {
            "_dom_classes": [],
            "_model_module": "@jupyter-widgets/controls",
            "_model_module_version": "1.5.0",
            "_model_name": "HTMLModel",
            "_view_count": null,
            "_view_module": "@jupyter-widgets/controls",
            "_view_module_version": "1.5.0",
            "_view_name": "HTMLView",
            "description": "",
            "description_tooltip": null,
            "layout": "IPY_MODEL_f68aa040b94b4961bce6de4a2d9cf49b",
            "placeholder": "​",
            "style": "IPY_MODEL_021b8412aae74c839ecbff43fadc8dd3",
            "value": " 112/112 [00:00&lt;00:00, 5.81kB/s]"
          }
        },
        "f79cabd2f3594350beacdf5dc37d7dc3": {
          "model_module": "@jupyter-widgets/base",
          "model_name": "LayoutModel",
          "model_module_version": "1.2.0",
          "state": {
            "_model_module": "@jupyter-widgets/base",
            "_model_module_version": "1.2.0",
            "_model_name": "LayoutModel",
            "_view_count": null,
            "_view_module": "@jupyter-widgets/base",
            "_view_module_version": "1.2.0",
            "_view_name": "LayoutView",
            "align_content": null,
            "align_items": null,
            "align_self": null,
            "border": null,
            "bottom": null,
            "display": null,
            "flex": null,
            "flex_flow": null,
            "grid_area": null,
            "grid_auto_columns": null,
            "grid_auto_flow": null,
            "grid_auto_rows": null,
            "grid_column": null,
            "grid_gap": null,
            "grid_row": null,
            "grid_template_areas": null,
            "grid_template_columns": null,
            "grid_template_rows": null,
            "height": null,
            "justify_content": null,
            "justify_items": null,
            "left": null,
            "margin": null,
            "max_height": null,
            "max_width": null,
            "min_height": null,
            "min_width": null,
            "object_fit": null,
            "object_position": null,
            "order": null,
            "overflow": null,
            "overflow_x": null,
            "overflow_y": null,
            "padding": null,
            "right": null,
            "top": null,
            "visibility": null,
            "width": null
          }
        },
        "fa6eb5d3278642d897ddbd63de02441c": {
          "model_module": "@jupyter-widgets/base",
          "model_name": "LayoutModel",
          "model_module_version": "1.2.0",
          "state": {
            "_model_module": "@jupyter-widgets/base",
            "_model_module_version": "1.2.0",
            "_model_name": "LayoutModel",
            "_view_count": null,
            "_view_module": "@jupyter-widgets/base",
            "_view_module_version": "1.2.0",
            "_view_name": "LayoutView",
            "align_content": null,
            "align_items": null,
            "align_self": null,
            "border": null,
            "bottom": null,
            "display": null,
            "flex": null,
            "flex_flow": null,
            "grid_area": null,
            "grid_auto_columns": null,
            "grid_auto_flow": null,
            "grid_auto_rows": null,
            "grid_column": null,
            "grid_gap": null,
            "grid_row": null,
            "grid_template_areas": null,
            "grid_template_columns": null,
            "grid_template_rows": null,
            "height": null,
            "justify_content": null,
            "justify_items": null,
            "left": null,
            "margin": null,
            "max_height": null,
            "max_width": null,
            "min_height": null,
            "min_width": null,
            "object_fit": null,
            "object_position": null,
            "order": null,
            "overflow": null,
            "overflow_x": null,
            "overflow_y": null,
            "padding": null,
            "right": null,
            "top": null,
            "visibility": null,
            "width": null
          }
        },
        "d479a8dd97614554846ce5de3af012b0": {
          "model_module": "@jupyter-widgets/controls",
          "model_name": "DescriptionStyleModel",
          "model_module_version": "1.5.0",
          "state": {
            "_model_module": "@jupyter-widgets/controls",
            "_model_module_version": "1.5.0",
            "_model_name": "DescriptionStyleModel",
            "_view_count": null,
            "_view_module": "@jupyter-widgets/base",
            "_view_module_version": "1.2.0",
            "_view_name": "StyleView",
            "description_width": ""
          }
        },
        "e58cad43d1a344a1b3dc82eef3296224": {
          "model_module": "@jupyter-widgets/base",
          "model_name": "LayoutModel",
          "model_module_version": "1.2.0",
          "state": {
            "_model_module": "@jupyter-widgets/base",
            "_model_module_version": "1.2.0",
            "_model_name": "LayoutModel",
            "_view_count": null,
            "_view_module": "@jupyter-widgets/base",
            "_view_module_version": "1.2.0",
            "_view_name": "LayoutView",
            "align_content": null,
            "align_items": null,
            "align_self": null,
            "border": null,
            "bottom": null,
            "display": null,
            "flex": null,
            "flex_flow": null,
            "grid_area": null,
            "grid_auto_columns": null,
            "grid_auto_flow": null,
            "grid_auto_rows": null,
            "grid_column": null,
            "grid_gap": null,
            "grid_row": null,
            "grid_template_areas": null,
            "grid_template_columns": null,
            "grid_template_rows": null,
            "height": null,
            "justify_content": null,
            "justify_items": null,
            "left": null,
            "margin": null,
            "max_height": null,
            "max_width": null,
            "min_height": null,
            "min_width": null,
            "object_fit": null,
            "object_position": null,
            "order": null,
            "overflow": null,
            "overflow_x": null,
            "overflow_y": null,
            "padding": null,
            "right": null,
            "top": null,
            "visibility": null,
            "width": null
          }
        },
        "b96e779c487046bbb92bd64a1fa3f2de": {
          "model_module": "@jupyter-widgets/controls",
          "model_name": "ProgressStyleModel",
          "model_module_version": "1.5.0",
          "state": {
            "_model_module": "@jupyter-widgets/controls",
            "_model_module_version": "1.5.0",
            "_model_name": "ProgressStyleModel",
            "_view_count": null,
            "_view_module": "@jupyter-widgets/base",
            "_view_module_version": "1.2.0",
            "_view_name": "StyleView",
            "bar_color": null,
            "description_width": ""
          }
        },
        "f68aa040b94b4961bce6de4a2d9cf49b": {
          "model_module": "@jupyter-widgets/base",
          "model_name": "LayoutModel",
          "model_module_version": "1.2.0",
          "state": {
            "_model_module": "@jupyter-widgets/base",
            "_model_module_version": "1.2.0",
            "_model_name": "LayoutModel",
            "_view_count": null,
            "_view_module": "@jupyter-widgets/base",
            "_view_module_version": "1.2.0",
            "_view_name": "LayoutView",
            "align_content": null,
            "align_items": null,
            "align_self": null,
            "border": null,
            "bottom": null,
            "display": null,
            "flex": null,
            "flex_flow": null,
            "grid_area": null,
            "grid_auto_columns": null,
            "grid_auto_flow": null,
            "grid_auto_rows": null,
            "grid_column": null,
            "grid_gap": null,
            "grid_row": null,
            "grid_template_areas": null,
            "grid_template_columns": null,
            "grid_template_rows": null,
            "height": null,
            "justify_content": null,
            "justify_items": null,
            "left": null,
            "margin": null,
            "max_height": null,
            "max_width": null,
            "min_height": null,
            "min_width": null,
            "object_fit": null,
            "object_position": null,
            "order": null,
            "overflow": null,
            "overflow_x": null,
            "overflow_y": null,
            "padding": null,
            "right": null,
            "top": null,
            "visibility": null,
            "width": null
          }
        },
        "021b8412aae74c839ecbff43fadc8dd3": {
          "model_module": "@jupyter-widgets/controls",
          "model_name": "DescriptionStyleModel",
          "model_module_version": "1.5.0",
          "state": {
            "_model_module": "@jupyter-widgets/controls",
            "_model_module_version": "1.5.0",
            "_model_name": "DescriptionStyleModel",
            "_view_count": null,
            "_view_module": "@jupyter-widgets/base",
            "_view_module_version": "1.2.0",
            "_view_name": "StyleView",
            "description_width": ""
          }
        },
        "2dad6b912b9c471e99c2ed6e9756771f": {
          "model_module": "@jupyter-widgets/controls",
          "model_name": "HBoxModel",
          "model_module_version": "1.5.0",
          "state": {
            "_dom_classes": [],
            "_model_module": "@jupyter-widgets/controls",
            "_model_module_version": "1.5.0",
            "_model_name": "HBoxModel",
            "_view_count": null,
            "_view_module": "@jupyter-widgets/controls",
            "_view_module_version": "1.5.0",
            "_view_name": "HBoxView",
            "box_style": "",
            "children": [
              "IPY_MODEL_a321f3fe369d4c61ad13a302e270f448",
              "IPY_MODEL_e593b7a146204e229673379b2fdfc939",
              "IPY_MODEL_ee9d173324464395b4a01a83a11a9e44"
            ],
            "layout": "IPY_MODEL_898a61bede0d4663bf2e5da15fc93e3d"
          }
        },
        "a321f3fe369d4c61ad13a302e270f448": {
          "model_module": "@jupyter-widgets/controls",
          "model_name": "HTMLModel",
          "model_module_version": "1.5.0",
          "state": {
            "_dom_classes": [],
            "_model_module": "@jupyter-widgets/controls",
            "_model_module_version": "1.5.0",
            "_model_name": "HTMLModel",
            "_view_count": null,
            "_view_module": "@jupyter-widgets/controls",
            "_view_module_version": "1.5.0",
            "_view_name": "HTMLView",
            "description": "",
            "description_tooltip": null,
            "layout": "IPY_MODEL_33b772b84d11489b8b717bd556572ade",
            "placeholder": "​",
            "style": "IPY_MODEL_be4d0c8390ee4858b35d44500c8f853a",
            "value": "1_Pooling/config.json: 100%"
          }
        },
        "e593b7a146204e229673379b2fdfc939": {
          "model_module": "@jupyter-widgets/controls",
          "model_name": "FloatProgressModel",
          "model_module_version": "1.5.0",
          "state": {
            "_dom_classes": [],
            "_model_module": "@jupyter-widgets/controls",
            "_model_module_version": "1.5.0",
            "_model_name": "FloatProgressModel",
            "_view_count": null,
            "_view_module": "@jupyter-widgets/controls",
            "_view_module_version": "1.5.0",
            "_view_name": "ProgressView",
            "bar_style": "success",
            "description": "",
            "description_tooltip": null,
            "layout": "IPY_MODEL_3d7008a5884e4aff818fa627c53e2d05",
            "max": 190,
            "min": 0,
            "orientation": "horizontal",
            "style": "IPY_MODEL_2d513a76bf184e649f7ceee82196ba98",
            "value": 190
          }
        },
        "ee9d173324464395b4a01a83a11a9e44": {
          "model_module": "@jupyter-widgets/controls",
          "model_name": "HTMLModel",
          "model_module_version": "1.5.0",
          "state": {
            "_dom_classes": [],
            "_model_module": "@jupyter-widgets/controls",
            "_model_module_version": "1.5.0",
            "_model_name": "HTMLModel",
            "_view_count": null,
            "_view_module": "@jupyter-widgets/controls",
            "_view_module_version": "1.5.0",
            "_view_name": "HTMLView",
            "description": "",
            "description_tooltip": null,
            "layout": "IPY_MODEL_13d5c4ba9ad24d31814ec9a63ff853c4",
            "placeholder": "​",
            "style": "IPY_MODEL_55f5310fe91c410cb91f6302d79cc7e4",
            "value": " 190/190 [00:00&lt;00:00, 12.0kB/s]"
          }
        },
        "898a61bede0d4663bf2e5da15fc93e3d": {
          "model_module": "@jupyter-widgets/base",
          "model_name": "LayoutModel",
          "model_module_version": "1.2.0",
          "state": {
            "_model_module": "@jupyter-widgets/base",
            "_model_module_version": "1.2.0",
            "_model_name": "LayoutModel",
            "_view_count": null,
            "_view_module": "@jupyter-widgets/base",
            "_view_module_version": "1.2.0",
            "_view_name": "LayoutView",
            "align_content": null,
            "align_items": null,
            "align_self": null,
            "border": null,
            "bottom": null,
            "display": null,
            "flex": null,
            "flex_flow": null,
            "grid_area": null,
            "grid_auto_columns": null,
            "grid_auto_flow": null,
            "grid_auto_rows": null,
            "grid_column": null,
            "grid_gap": null,
            "grid_row": null,
            "grid_template_areas": null,
            "grid_template_columns": null,
            "grid_template_rows": null,
            "height": null,
            "justify_content": null,
            "justify_items": null,
            "left": null,
            "margin": null,
            "max_height": null,
            "max_width": null,
            "min_height": null,
            "min_width": null,
            "object_fit": null,
            "object_position": null,
            "order": null,
            "overflow": null,
            "overflow_x": null,
            "overflow_y": null,
            "padding": null,
            "right": null,
            "top": null,
            "visibility": null,
            "width": null
          }
        },
        "33b772b84d11489b8b717bd556572ade": {
          "model_module": "@jupyter-widgets/base",
          "model_name": "LayoutModel",
          "model_module_version": "1.2.0",
          "state": {
            "_model_module": "@jupyter-widgets/base",
            "_model_module_version": "1.2.0",
            "_model_name": "LayoutModel",
            "_view_count": null,
            "_view_module": "@jupyter-widgets/base",
            "_view_module_version": "1.2.0",
            "_view_name": "LayoutView",
            "align_content": null,
            "align_items": null,
            "align_self": null,
            "border": null,
            "bottom": null,
            "display": null,
            "flex": null,
            "flex_flow": null,
            "grid_area": null,
            "grid_auto_columns": null,
            "grid_auto_flow": null,
            "grid_auto_rows": null,
            "grid_column": null,
            "grid_gap": null,
            "grid_row": null,
            "grid_template_areas": null,
            "grid_template_columns": null,
            "grid_template_rows": null,
            "height": null,
            "justify_content": null,
            "justify_items": null,
            "left": null,
            "margin": null,
            "max_height": null,
            "max_width": null,
            "min_height": null,
            "min_width": null,
            "object_fit": null,
            "object_position": null,
            "order": null,
            "overflow": null,
            "overflow_x": null,
            "overflow_y": null,
            "padding": null,
            "right": null,
            "top": null,
            "visibility": null,
            "width": null
          }
        },
        "be4d0c8390ee4858b35d44500c8f853a": {
          "model_module": "@jupyter-widgets/controls",
          "model_name": "DescriptionStyleModel",
          "model_module_version": "1.5.0",
          "state": {
            "_model_module": "@jupyter-widgets/controls",
            "_model_module_version": "1.5.0",
            "_model_name": "DescriptionStyleModel",
            "_view_count": null,
            "_view_module": "@jupyter-widgets/base",
            "_view_module_version": "1.2.0",
            "_view_name": "StyleView",
            "description_width": ""
          }
        },
        "3d7008a5884e4aff818fa627c53e2d05": {
          "model_module": "@jupyter-widgets/base",
          "model_name": "LayoutModel",
          "model_module_version": "1.2.0",
          "state": {
            "_model_module": "@jupyter-widgets/base",
            "_model_module_version": "1.2.0",
            "_model_name": "LayoutModel",
            "_view_count": null,
            "_view_module": "@jupyter-widgets/base",
            "_view_module_version": "1.2.0",
            "_view_name": "LayoutView",
            "align_content": null,
            "align_items": null,
            "align_self": null,
            "border": null,
            "bottom": null,
            "display": null,
            "flex": null,
            "flex_flow": null,
            "grid_area": null,
            "grid_auto_columns": null,
            "grid_auto_flow": null,
            "grid_auto_rows": null,
            "grid_column": null,
            "grid_gap": null,
            "grid_row": null,
            "grid_template_areas": null,
            "grid_template_columns": null,
            "grid_template_rows": null,
            "height": null,
            "justify_content": null,
            "justify_items": null,
            "left": null,
            "margin": null,
            "max_height": null,
            "max_width": null,
            "min_height": null,
            "min_width": null,
            "object_fit": null,
            "object_position": null,
            "order": null,
            "overflow": null,
            "overflow_x": null,
            "overflow_y": null,
            "padding": null,
            "right": null,
            "top": null,
            "visibility": null,
            "width": null
          }
        },
        "2d513a76bf184e649f7ceee82196ba98": {
          "model_module": "@jupyter-widgets/controls",
          "model_name": "ProgressStyleModel",
          "model_module_version": "1.5.0",
          "state": {
            "_model_module": "@jupyter-widgets/controls",
            "_model_module_version": "1.5.0",
            "_model_name": "ProgressStyleModel",
            "_view_count": null,
            "_view_module": "@jupyter-widgets/base",
            "_view_module_version": "1.2.0",
            "_view_name": "StyleView",
            "bar_color": null,
            "description_width": ""
          }
        },
        "13d5c4ba9ad24d31814ec9a63ff853c4": {
          "model_module": "@jupyter-widgets/base",
          "model_name": "LayoutModel",
          "model_module_version": "1.2.0",
          "state": {
            "_model_module": "@jupyter-widgets/base",
            "_model_module_version": "1.2.0",
            "_model_name": "LayoutModel",
            "_view_count": null,
            "_view_module": "@jupyter-widgets/base",
            "_view_module_version": "1.2.0",
            "_view_name": "LayoutView",
            "align_content": null,
            "align_items": null,
            "align_self": null,
            "border": null,
            "bottom": null,
            "display": null,
            "flex": null,
            "flex_flow": null,
            "grid_area": null,
            "grid_auto_columns": null,
            "grid_auto_flow": null,
            "grid_auto_rows": null,
            "grid_column": null,
            "grid_gap": null,
            "grid_row": null,
            "grid_template_areas": null,
            "grid_template_columns": null,
            "grid_template_rows": null,
            "height": null,
            "justify_content": null,
            "justify_items": null,
            "left": null,
            "margin": null,
            "max_height": null,
            "max_width": null,
            "min_height": null,
            "min_width": null,
            "object_fit": null,
            "object_position": null,
            "order": null,
            "overflow": null,
            "overflow_x": null,
            "overflow_y": null,
            "padding": null,
            "right": null,
            "top": null,
            "visibility": null,
            "width": null
          }
        },
        "55f5310fe91c410cb91f6302d79cc7e4": {
          "model_module": "@jupyter-widgets/controls",
          "model_name": "DescriptionStyleModel",
          "model_module_version": "1.5.0",
          "state": {
            "_model_module": "@jupyter-widgets/controls",
            "_model_module_version": "1.5.0",
            "_model_name": "DescriptionStyleModel",
            "_view_count": null,
            "_view_module": "@jupyter-widgets/base",
            "_view_module_version": "1.2.0",
            "_view_name": "StyleView",
            "description_width": ""
          }
        }
      }
    }
  },
  "cells": [
    {
      "cell_type": "code",
      "source": [
        "pip install Levenshtein"
      ],
      "metadata": {
        "colab": {
          "base_uri": "https://localhost:8080/"
        },
        "id": "i4XnwLIPEfUg",
        "outputId": "8d02b7d4-f138-4d60-e9ae-e1072c25f1d4"
      },
      "execution_count": 1,
      "outputs": [
        {
          "output_type": "stream",
          "name": "stdout",
          "text": [
            "Collecting Levenshtein\n",
            "  Downloading levenshtein-0.26.1-cp310-cp310-manylinux_2_17_x86_64.manylinux2014_x86_64.whl.metadata (3.2 kB)\n",
            "Collecting rapidfuzz<4.0.0,>=3.9.0 (from Levenshtein)\n",
            "  Downloading rapidfuzz-3.11.0-cp310-cp310-manylinux_2_17_x86_64.manylinux2014_x86_64.whl.metadata (11 kB)\n",
            "Downloading levenshtein-0.26.1-cp310-cp310-manylinux_2_17_x86_64.manylinux2014_x86_64.whl (162 kB)\n",
            "\u001b[2K   \u001b[90m━━━━━━━━━━━━━━━━━━━━━━━━━━━━━━━━━━━━━━━━\u001b[0m \u001b[32m162.6/162.6 kB\u001b[0m \u001b[31m6.0 MB/s\u001b[0m eta \u001b[36m0:00:00\u001b[0m\n",
            "\u001b[?25hDownloading rapidfuzz-3.11.0-cp310-cp310-manylinux_2_17_x86_64.manylinux2014_x86_64.whl (3.1 MB)\n",
            "\u001b[2K   \u001b[90m━━━━━━━━━━━━━━━━━━━━━━━━━━━━━━━━━━━━━━━━\u001b[0m \u001b[32m3.1/3.1 MB\u001b[0m \u001b[31m45.0 MB/s\u001b[0m eta \u001b[36m0:00:00\u001b[0m\n",
            "\u001b[?25hInstalling collected packages: rapidfuzz, Levenshtein\n",
            "Successfully installed Levenshtein-0.26.1 rapidfuzz-3.11.0\n"
          ]
        }
      ]
    },
    {
      "cell_type": "code",
      "source": [
        "import re\n",
        "import numpy as np\n",
        "from typing import List, Dict, Optional, Tuple\n",
        "from Levenshtein import distance as levenshtein_distance\n",
        "from difflib import SequenceMatcher\n",
        "from sentence_transformers import SentenceTransformer\n",
        "\n",
        "class TweetFilter:\n",
        "    def __init__(self, brand_keywords: List[str], topic_keywords: List[str],\n",
        "                 translate_func=None, distance_threshold: float = 0.8,\n",
        "                 semantic_threshold: float = 0.6,\n",
        "                 model_name: str = 'all-MiniLM-L6-v2'):\n",
        "        \"\"\"\n",
        "        Initialise le filtre de tweets avec calculs de distance et embeddings\n",
        "\n",
        "        Args:\n",
        "            brand_keywords: Liste de mots-clés liés à la marque\n",
        "            topic_keywords: Liste de mots-clés liés au thème\n",
        "            translate_func: Fonction pour traduire du darija vers l'anglais\n",
        "            distance_threshold: Seuil de similarité lexicale (0-1)\n",
        "            semantic_threshold: Seuil de similarité sémantique (0-1)\n",
        "            model_name: Nom du modèle SentenceTransformer à utiliser\n",
        "        \"\"\"\n",
        "        self.brand_keywords = [k.lower() for k in brand_keywords]\n",
        "        self.topic_keywords = [k.lower() for k in topic_keywords]\n",
        "        self.translate_func = translate_func\n",
        "        self.distance_threshold = distance_threshold\n",
        "        self.semantic_threshold = semantic_threshold\n",
        "\n",
        "        # Initialiser le modèle d'embeddings\n",
        "        self.model = SentenceTransformer(model_name)\n",
        "\n",
        "        # Pré-calculer les embeddings des thèmes\n",
        "        self.topic_embeddings = self.model.encode(self.topic_keywords)\n",
        "\n",
        "    def cosine_similarity(self, v1: np.ndarray, v2: np.ndarray) -> float:\n",
        "        \"\"\"Calcule la similarité cosinus entre deux vecteurs\"\"\"\n",
        "        return np.dot(v1, v2) / (np.linalg.norm(v1) * np.linalg.norm(v2))\n",
        "\n",
        "    def calculate_lexical_similarity(self, word1: str, word2: str) -> float:\n",
        "        \"\"\"Calcule la similarité lexicale entre deux mots\"\"\"\n",
        "        word1, word2 = word1.lower(), word2.lower()\n",
        "\n",
        "        max_len = max(len(word1), len(word2))\n",
        "        if max_len == 0:\n",
        "            return 0\n",
        "\n",
        "        lev_similarity = 1 - (levenshtein_distance(word1, word2) / max_len)\n",
        "        seq_similarity = SequenceMatcher(None, word1, word2).ratio()\n",
        "\n",
        "        return (lev_similarity + seq_similarity) / 2\n",
        "\n",
        "    def find_similar_words(self, text: str, keywords: List[str]) -> List[tuple]:\n",
        "        \"\"\"Trouve les mots similaires lexicalement\"\"\"\n",
        "        words = text.lower().split()\n",
        "        similar_words = []\n",
        "\n",
        "        for word in words:\n",
        "            for keyword in keywords:\n",
        "                similarity = self.calculate_lexical_similarity(word, keyword)\n",
        "                if similarity >= self.distance_threshold:\n",
        "                    similar_words.append((word, keyword, similarity))\n",
        "\n",
        "        return similar_words\n",
        "\n",
        "    def calculate_semantic_similarity(self, text: str) -> List[Tuple[str, float]]:\n",
        "        \"\"\"\n",
        "        Calcule la similarité sémantique entre le texte et les thèmes\n",
        "\n",
        "        Returns:\n",
        "            Liste de tuples (thème, score de similarité)\n",
        "        \"\"\"\n",
        "        # Obtenir l'embedding du texte\n",
        "        text_embedding = self.model.encode(text)\n",
        "\n",
        "        # Calculer la similarité avec chaque thème\n",
        "        similarities = []\n",
        "        for i, topic_emb in enumerate(self.topic_embeddings):\n",
        "            similarity = self.cosine_similarity(text_embedding, topic_emb)\n",
        "            if similarity >= self.semantic_threshold:\n",
        "                similarities.append((self.topic_keywords[i], float(similarity)))\n",
        "\n",
        "        return sorted(similarities, key=lambda x: x[1], reverse=True)\n",
        "\n",
        "    def is_spam(self, text: str) -> bool:\n",
        "        \"\"\"Détecte si un tweet est du spam\"\"\"\n",
        "        spam_indicators = [\n",
        "            r'http[s]?://(?:[a-zA-Z]|[0-9]|[$-_@.&+]|[!*\\\\(\\\\),]|(?:%[0-9a-fA-F][0-9a-fA-F]))+',\n",
        "            r'(@\\w+\\s*){3,}',\n",
        "            r'(#\\w+\\s*){3,}',\n",
        "            r'(.)\\1{4,}',\n",
        "        ]\n",
        "\n",
        "        for pattern in spam_indicators:\n",
        "            if re.search(pattern, text):\n",
        "                return True\n",
        "        return False\n",
        "\n",
        "    def contains_brand_mention(self, text: str) -> tuple:\n",
        "        \"\"\"Vérifie les mentions de marque avec similarité lexicale\"\"\"\n",
        "        if self.translate_func:\n",
        "            text = self.translate_func(text)\n",
        "\n",
        "        similar_words = self.find_similar_words(text, self.brand_keywords)\n",
        "        return bool(similar_words), similar_words\n",
        "\n",
        "    def analyze_topic_relevance(self, text: str) -> tuple:\n",
        "        \"\"\"\n",
        "        Analyse la pertinence thématique avec similarité lexicale et sémantique\n",
        "\n",
        "        Returns:\n",
        "            (bool, dict): (pertinent, résultats_analyse)\n",
        "        \"\"\"\n",
        "        if self.translate_func:\n",
        "            text = self.translate_func(text)\n",
        "\n",
        "        # Similarité lexicale\n",
        "        lexical_matches = self.find_similar_words(text, self.topic_keywords)\n",
        "\n",
        "        # Similarité sémantique\n",
        "        semantic_matches = self.calculate_semantic_similarity(text)\n",
        "\n",
        "        is_relevant = bool(lexical_matches or semantic_matches)\n",
        "\n",
        "        return is_relevant, {\n",
        "            'lexical_matches': lexical_matches,\n",
        "            'semantic_matches': semantic_matches\n",
        "        }\n",
        "\n",
        "    def filter_tweet(self, tweet: Dict) -> Optional[Dict]:\n",
        "        \"\"\"Filtre et enrichit un tweet avec l'analyse complète\"\"\"\n",
        "        text = tweet['text']\n",
        "\n",
        "        if self.is_spam(text):\n",
        "            return None\n",
        "\n",
        "        has_brand, brand_matches = self.contains_brand_mention(text)\n",
        "        is_topic_relevant, topic_analysis = self.analyze_topic_relevance(text)\n",
        "\n",
        "        if has_brand or is_topic_relevant:\n",
        "            enriched_tweet = tweet.copy()\n",
        "            enriched_tweet['analysis'] = {\n",
        "                'brand_matches': [\n",
        "                    {\n",
        "                        'found_word': w,\n",
        "                        'matched_keyword': k,\n",
        "                        'similarity_score': round(s, 3)\n",
        "                    }\n",
        "                    for w, k, s in brand_matches\n",
        "                ],\n",
        "                'topic_analysis': {\n",
        "                    'lexical_matches': [\n",
        "                        {\n",
        "                            'found_word': w,\n",
        "                            'matched_keyword': k,\n",
        "                            'similarity_score': round(s, 3)\n",
        "                        }\n",
        "                        for w, k, s in topic_analysis['lexical_matches']\n",
        "                    ],\n",
        "                    'semantic_matches': [\n",
        "                        {\n",
        "                            'topic': topic,\n",
        "                            'semantic_similarity': round(score, 3)\n",
        "                        }\n",
        "                        for topic, score in topic_analysis['semantic_matches']\n",
        "                    ]\n",
        "                }\n",
        "            }\n",
        "            return enriched_tweet\n",
        "\n",
        "        return None\n",
        "\n",
        "    def filter_tweets(self, tweets: List[Dict]) -> List[Dict]:\n",
        "        \"\"\"Filtre une liste de tweets\"\"\"\n",
        "        return [t for t in tweets if self.filter_tweet(t) is not None]"
      ],
      "metadata": {
        "id": "Mn9rN5DSD19x"
      },
      "execution_count": 2,
      "outputs": []
    },
    {
      "cell_type": "markdown",
      "source": [
        "## Traduction\n"
      ],
      "metadata": {
        "id": "ZaqSF1JTpfXN"
      }
    },
    {
      "cell_type": "markdown",
      "source": [
        "## Arabizi Arabic"
      ],
      "metadata": {
        "id": "1rIG-P7up7p_"
      }
    },
    {
      "cell_type": "code",
      "source": [
        "def arabizi_to_arabic(text):\n",
        "    # Dictionnaire pour les combinaisons complexes\n",
        "    complex_transliteration_map = {\n",
        "        \"ch\": \"ش\",\n",
        "        \"kh\": \"خ\",\n",
        "        \"gh\": \"غ\",\n",
        "        \"sh\": \"ش\",\n",
        "        \"th\": \"ث\",\n",
        "        \"dh\": \"ذ\"\n",
        "    }\n",
        "\n",
        "    # Dictionnaire pour les caractères individuels\n",
        "    transliteration_map = {\n",
        "        \"9\": \"ق\",\n",
        "        \"3\": \"ع\",\n",
        "        \"7\": \"ح\",\n",
        "        \"5\": \"خ\",\n",
        "        \"6\": \"ط\",\n",
        "        \"2\": \"ء\",\n",
        "        \"8\": \"غ\",\n",
        "        \"1\": \"ا\",\n",
        "        \"0\": \"و\",\n",
        "        \"a\": \"ا\", \"b\": \"ب\", \"c\": \"ك\", \"d\": \"د\", \"e\": \"ي\", \"f\": \"ف\",\n",
        "        \"g\": \"ج\", \"h\": \"ه\", \"i\": \"ي\", \"j\": \"ج\", \"k\": \"ك\", \"l\": \"ل\",\n",
        "        \"m\": \"م\", \"n\": \"ن\", \"o\": \"و\", \"p\": \"ب\", \"q\": \"ق\", \"r\": \"ر\",\n",
        "        \"s\": \"س\", \"t\": \"ت\", \"u\": \"و\", \"v\": \"ف\", \"w\": \"و\", \"x\": \"كس\",\n",
        "        \"y\": \"ي\", \"z\": \"ز\"\n",
        "    }\n",
        "\n",
        "    # Prétraitement pour gérer les combinaisons complexes\n",
        "    for combo, arabic_char in complex_transliteration_map.items():\n",
        "        text = text.replace(combo, arabic_char)\n",
        "\n",
        "    # Conversion des caractères restants\n",
        "    result = \"\"\n",
        "    for char in text:\n",
        "        if char in transliteration_map:\n",
        "            result += transliteration_map[char]\n",
        "        else:\n",
        "            result += char  # Garder les caractères non reconnus tels quels\n",
        "\n",
        "    return result\n",
        "\n",
        "# Exemple d'utilisation\n",
        "text_arabizi = \"3jbny had sak mn zara\"\n",
        "text_arabic = arabizi_to_arabic(text_arabizi)\n",
        "print(\"Texte en arabe :\", text_arabic)\n"
      ],
      "metadata": {
        "colab": {
          "base_uri": "https://localhost:8080/"
        },
        "id": "BKRVR69PFtvn",
        "outputId": "4b89b732-2d41-48c6-d5dc-1cdd867332bd"
      },
      "execution_count": 3,
      "outputs": [
        {
          "output_type": "stream",
          "name": "stdout",
          "text": [
            "Texte en arabe : عجبني هاد ساك من زارا\n"
          ]
        }
      ]
    },
    {
      "cell_type": "code",
      "source": [
        "def arabic_to_arabizi(text):\n",
        "    # Dictionnaire de translittération arabe → Arabizi\n",
        "    transliteration_map = {\n",
        "        \"ق\": \"9\", \"ع\": \"3\", \"ح\": \"7\", \"خ\": \"kh\", \"ط\": \"6\", \"ء\": \"2\", \"غ\": \"gh\", \"و\": \"ou\",\n",
        "        \"ا\": \"a\", \"ب\": \"b\", \"ت\": \"t\", \"ث\": \"th\", \"ج\": \"j\", \"د\": \"d\", \"ذ\": \"dh\", \"ر\": \"r\",\n",
        "        \"ز\": \"z\", \"س\": \"s\", \"ش\": \"ch\", \"ص\": \"s\", \"ض\": \"d\", \"ط\": \"t\", \"ظ\": \"z\", \"ك\": \"k\",\n",
        "        \"ل\": \"l\", \"م\": \"m\", \"ن\": \"n\", \"ه\": \"h\", \"ي\": \"y\", \"ف\": \"f\", \"ج\": \"j\" , \"ة\" : \"a\"\n",
        "    }\n",
        "\n",
        "    result = \"\"\n",
        "    for char in text:\n",
        "        if char in transliteration_map:\n",
        "            result += transliteration_map[char]\n",
        "        else:\n",
        "            result += char  # Garder les caractères non reconnus tels quels\n",
        "\n",
        "    return result\n",
        "\n",
        "# Exemple d'utilisation\n",
        "text_arabic = \"عجبني هاد صاك من زارا\"\n",
        "text_arabizi = arabic_to_arabizi(text_arabic)\n",
        "print(\"Texte en Arabizi :\", text_arabizi)\n"
      ],
      "metadata": {
        "colab": {
          "base_uri": "https://localhost:8080/"
        },
        "id": "VevNYsi6PN9-",
        "outputId": "fa5c2e7f-749a-463b-c115-3d2180b7fbe1"
      },
      "execution_count": 4,
      "outputs": [
        {
          "output_type": "stream",
          "name": "stdout",
          "text": [
            "Texte en Arabizi : 3jbny had sak mn zara\n"
          ]
        }
      ]
    },
    {
      "cell_type": "code",
      "source": [
        "arabic_to_arabizi(\"عجبني هاد المنتوج ولكن الكلتي   عيانة\")"
      ],
      "metadata": {
        "colab": {
          "base_uri": "https://localhost:8080/",
          "height": 36
        },
        "id": "sKBR1xcKp2_X",
        "outputId": "7dc4087f-b0cc-45bd-f77a-694c4c9a955e"
      },
      "execution_count": 5,
      "outputs": [
        {
          "output_type": "execute_result",
          "data": {
            "text/plain": [
              "'3jbny had almntouj oulkn alklty   3yana'"
            ],
            "application/vnd.google.colaboratory.intrinsic+json": {
              "type": "string"
            }
          },
          "metadata": {},
          "execution_count": 5
        }
      ]
    },
    {
      "cell_type": "code",
      "source": [],
      "metadata": {
        "id": "zunwwJclsm-i"
      },
      "execution_count": 5,
      "outputs": []
    },
    {
      "cell_type": "markdown",
      "source": [
        "## Correction\n"
      ],
      "metadata": {
        "id": "tp4PtTHwqIno"
      }
    },
    {
      "cell_type": "code",
      "source": [
        "! pip install DarijaDistance"
      ],
      "metadata": {
        "colab": {
          "base_uri": "https://localhost:8080/"
        },
        "id": "PjplaK3mqOlh",
        "outputId": "bf085fff-b611-482b-c71f-2dda9fd2715d"
      },
      "execution_count": 6,
      "outputs": [
        {
          "output_type": "stream",
          "name": "stdout",
          "text": [
            "Collecting DarijaDistance\n",
            "  Downloading DarijaDistance-1.0.8-py3-none-any.whl.metadata (7.1 kB)\n",
            "Downloading DarijaDistance-1.0.8-py3-none-any.whl (2.3 MB)\n",
            "\u001b[2K   \u001b[90m━━━━━━━━━━━━━━━━━━━━━━━━━━━━━━━━━━━━━━━━\u001b[0m \u001b[32m2.3/2.3 MB\u001b[0m \u001b[31m16.7 MB/s\u001b[0m eta \u001b[36m0:00:00\u001b[0m\n",
            "\u001b[?25hInstalling collected packages: DarijaDistance\n",
            "Successfully installed DarijaDistance-1.0.8\n"
          ]
        }
      ]
    },
    {
      "cell_type": "code",
      "source": [
        "from DarijaDistance.word_distance import WordDistance"
      ],
      "metadata": {
        "id": "CHpO-bwOqTBy"
      },
      "execution_count": 7,
      "outputs": []
    },
    {
      "cell_type": "code",
      "source": [
        "wd = WordDistance()\n",
        "distance = wd.distance_between(\"marjan\", \"mrjane\")\n",
        "print(f\"Distance: {distance}\")\n",
        "# Distance: 0"
      ],
      "metadata": {
        "colab": {
          "base_uri": "https://localhost:8080/"
        },
        "id": "ePjatUhZqnRs",
        "outputId": "77e74cf6-11d9-4312-af37-1636e749c825"
      },
      "execution_count": 8,
      "outputs": [
        {
          "output_type": "stream",
          "name": "stdout",
          "text": [
            "Distance: 3.2\n"
          ]
        }
      ]
    },
    {
      "cell_type": "code",
      "source": [
        "closest_words, min_distance = wd.get_closests(\"kulb\")\n",
        "print(f\"Closest words to 'kulb': {closest_words} - min distance = {min_distance}\")"
      ],
      "metadata": {
        "colab": {
          "base_uri": "https://localhost:8080/"
        },
        "id": "25f6mI9TrAUM",
        "outputId": "416071bc-4ca9-4c0e-92b7-742d53a459dd"
      },
      "execution_count": 9,
      "outputs": [
        {
          "output_type": "stream",
          "name": "stdout",
          "text": [
            "Closest words to 'kulb': ['klb', 'kelb', 'kalb'] - min distance = 2.1\n"
          ]
        }
      ]
    },
    {
      "cell_type": "code",
      "source": [
        "pip install Levenshtein"
      ],
      "metadata": {
        "colab": {
          "base_uri": "https://localhost:8080/"
        },
        "id": "QK-r0jM0uLTA",
        "outputId": "a2a6c8c0-7650-48a7-ab30-f7370eff12bd"
      },
      "execution_count": 10,
      "outputs": [
        {
          "output_type": "stream",
          "name": "stdout",
          "text": [
            "Requirement already satisfied: Levenshtein in /usr/local/lib/python3.10/dist-packages (0.26.1)\n",
            "Requirement already satisfied: rapidfuzz<4.0.0,>=3.9.0 in /usr/local/lib/python3.10/dist-packages (from Levenshtein) (3.11.0)\n"
          ]
        }
      ]
    },
    {
      "cell_type": "code",
      "source": [
        "from typing import List, Dict, Tuple\n",
        "from Levenshtein import distance as levenshtein_distance\n",
        "from difflib import SequenceMatcher\n",
        "\n",
        "def levenshtein_similarity(word1: str, word2: str) -> float:\n",
        "    \"\"\"\n",
        "    Calcule la similarité basée sur la distance de Levenshtein\n",
        "    Adaptée pour les fautes de frappe et substitutions\n",
        "    \"\"\"\n",
        "    word1, word2 = word1.lower(), word2.lower()\n",
        "    max_len = max(len(word1), len(word2))\n",
        "    if max_len == 0:\n",
        "        return 0\n",
        "    distance = levenshtein_distance(word1, word2)\n",
        "    return 1 - (distance / max_len)\n",
        "\n",
        "def sequence_similarity(word1: str, word2: str) -> float:\n",
        "    \"\"\"\n",
        "    Calcule la similarité de séquence\n",
        "    Meilleure pour détecter les parties communes\n",
        "    \"\"\"\n",
        "    return SequenceMatcher(None, word1.lower(), word2.lower()).ratio()\n",
        "\n",
        "def phonetic_similarity(word1: str, word2: str) -> float:\n",
        "    \"\"\"\n",
        "    Calcule une similarité phonétique simple\n",
        "    Utile pour les erreurs phonétiques courantes\n",
        "    \"\"\"\n",
        "    # Dictionnaire de remplacement pour les sons similaires\n",
        "    replacements = {\n",
        "        'a': 'a', 'e': 'a', 'é': 'a', 'è': 'a', 'ê': 'a',\n",
        "        'i': 'i', 'y': 'i',\n",
        "        'o': 'o', 'u': 'o',\n",
        "        'k': 'q', 'c': 'q',\n",
        "        'z': 's',\n",
        "        'f': 'v',\n",
        "        'b': 'p',\n",
        "        't': 'd',\n",
        "        'n': 'm'\n",
        "    }\n",
        "\n",
        "    # Simplifie les mots en remplaçant les caractères similaires\n",
        "    def simplify(word: str) -> str:\n",
        "        return ''.join(replacements.get(c, c) for c in word.lower())\n",
        "\n",
        "    simple1 = simplify(word1)\n",
        "    simple2 = simplify(word2)\n",
        "    return sequence_similarity(simple1, simple2)\n",
        "\n",
        "def calculate_brand_similarity(word: str, brand: str) -> Dict:\n",
        "    \"\"\"\n",
        "    Calcule tous les scores de similarité entre un mot et une marque\n",
        "    \"\"\"\n",
        "    lev_score = levenshtein_similarity(word, brand)\n",
        "    seq_score = sequence_similarity(word, brand)\n",
        "    phon_score = phonetic_similarity(word, brand)\n",
        "\n",
        "    # Score composite (moyenne des trois scores)\n",
        "    composite_score = (lev_score + seq_score + phon_score) / 3\n",
        "\n",
        "    return {\n",
        "        'found_word': word,\n",
        "        'matched_brand': brand,\n",
        "        'composite_score': round(composite_score, 3),\n",
        "        'details': {\n",
        "            'levenshtein_score': round(lev_score, 3),\n",
        "            'sequence_score': round(seq_score, 3),\n",
        "            'phonetic_score': round(phon_score, 3)\n",
        "        }\n",
        "    }\n",
        "\n",
        "def find_similar_brands(text: str, brands: List[str], threshold: float = 0.7) -> List[Dict]:\n",
        "    \"\"\"\n",
        "    Trouve toutes les marques similaires dans un texte\n",
        "\n",
        "    Args:\n",
        "        text: Texte à analyser\n",
        "        brands: Liste des marques correctes\n",
        "        threshold: Seuil minimum de similarité (0-1)\n",
        "    \"\"\"\n",
        "    words = text.lower().split()\n",
        "    matches = []\n",
        "\n",
        "    for word in words:\n",
        "        for brand in brands:\n",
        "            similarity = calculate_brand_similarity(word, brand)\n",
        "            if similarity['composite_score'] >= threshold:\n",
        "                matches.append(similarity)\n",
        "\n",
        "    return sorted(matches, key=lambda x: x['composite_score'], reverse=True)\n",
        "\n",
        "def correct_brand_names(text: str, brands: List[str], threshold: float = 0.7) -> Tuple[str, List[Dict]]:\n",
        "    \"\"\"\n",
        "    Corrige les noms de marques dans un texte\n",
        "\n",
        "    Returns:\n",
        "        (texte_corrigé, liste_corrections)\n",
        "    \"\"\"\n",
        "    words = text.split()\n",
        "    corrections = []\n",
        "\n",
        "    for i, word in enumerate(words):\n",
        "        matches = find_similar_brands(word, brands, threshold)\n",
        "        if matches:\n",
        "            best_match = matches[0]\n",
        "            if best_match['composite_score'] >= threshold:\n",
        "                original = words[i]\n",
        "                words[i] = best_match['matched_brand']\n",
        "                corrections.append({\n",
        "                    'original': original,\n",
        "                    'corrected': best_match['matched_brand'],\n",
        "                    'position': i,\n",
        "                    'scores': best_match\n",
        "                })\n",
        "\n",
        "    return ' '.join(words), corrections"
      ],
      "metadata": {
        "id": "q8DDCpHdrRVK"
      },
      "execution_count": 11,
      "outputs": []
    },
    {
      "cell_type": "code",
      "source": [
        "# Liste des marques correctes\n",
        "brands = [\"marjane\", \"Carrefour\", \"Atacadao\", \"Quality\", \"Marwa\", \"Keito\", \"Iphone\"]\n",
        "\n",
        "# Exemple 1: Trouver les marques similaires dans un texte\n",
        "text = \"J'ai acheter ce telephone de alklty\"\n",
        "matches = find_similar_brands(text, brands, threshold=0.7)\n",
        "\n",
        "for match in matches:\n",
        "    print(f\"Trouvé '{match['found_word']}' -> '{match['matched_brand']}'\")\n",
        "    print(f\"Score: {match['composite_score']}\")\n",
        "    print(\"Détails:\", match['details'])\n",
        "\n",
        "# Exemple 2: Corriger automatiquement le texte\n",
        "corrected_text, corrections = correct_brand_names(text, brands, threshold=0.7)\n",
        "print(f\"\\nTexte original : {text}\")\n",
        "print(f\"Texte corrigé : {corrected_text}\")"
      ],
      "metadata": {
        "colab": {
          "base_uri": "https://localhost:8080/"
        },
        "id": "TmKesZLVuT3y",
        "outputId": "54dcec81-9de2-4531-ce45-558bf7cb982f"
      },
      "execution_count": 12,
      "outputs": [
        {
          "output_type": "stream",
          "name": "stdout",
          "text": [
            "\n",
            "Texte original : J'ai acheter ce telephone de alklty\n",
            "Texte corrigé : J'ai acheter ce telephone de alklty\n"
          ]
        }
      ]
    },
    {
      "cell_type": "code",
      "source": [
        "text = \"ana mchit t9edit 7wayji mn kto\"\n",
        "matches = find_similar_brands(text, brands, threshold=0.7)\n",
        "\n",
        "for match in matches:\n",
        "    print(f\"Trouvé '{match['found_word']}' -> '{match['matched_brand']}'\")\n",
        "    print(f\"Score: {match['composite_score']}\")\n",
        "    print(\"Détails:\", match['details'])"
      ],
      "metadata": {
        "colab": {
          "base_uri": "https://localhost:8080/"
        },
        "id": "VCeHEH7rvr2v",
        "outputId": "f28e0cb5-b141-453f-8b9e-e395efed38eb"
      },
      "execution_count": 13,
      "outputs": [
        {
          "output_type": "stream",
          "name": "stdout",
          "text": [
            "Trouvé 'kto' -> 'Keito'\n",
            "Score: 0.7\n",
            "Détails: {'levenshtein_score': 0.6, 'sequence_score': 0.75, 'phonetic_score': 0.75}\n"
          ]
        }
      ]
    },
    {
      "cell_type": "code",
      "source": [
        "import numpy as np\n",
        "from sentence_transformers import SentenceTransformer\n",
        "from typing import List, Dict, Tuple\n",
        "\n",
        "def load_embedding_model(model_name: str = 'all-MiniLM-L6-v2') -> SentenceTransformer:\n",
        "    \"\"\"\n",
        "    Charge le modèle d'embeddings\n",
        "    \"\"\"\n",
        "    return SentenceTransformer(model_name)\n",
        "\n",
        "def get_embeddings(texts: List[str], model: SentenceTransformer) -> np.ndarray:\n",
        "    \"\"\"\n",
        "    Calcule les embeddings pour une liste de textes\n",
        "    \"\"\"\n",
        "    return model.encode(texts)\n",
        "\n",
        "def cosine_similarity(v1: np.ndarray, v2: np.ndarray) -> float:\n",
        "    \"\"\"\n",
        "    Calcule la similarité cosinus entre deux vecteurs\n",
        "    \"\"\"\n",
        "    return np.dot(v1, v2) / (np.linalg.norm(v1) * np.linalg.norm(v2))\n",
        "\n",
        "def calculate_theme_similarity(phrase: str, themes: List[str],\n",
        "                             model: SentenceTransformer) -> List[Dict[str, float]]:\n",
        "    \"\"\"\n",
        "    Calcule la similarité entre une phrase et plusieurs thèmes\n",
        "\n",
        "    Args:\n",
        "        phrase: La phrase à analyser\n",
        "        themes: Liste des thèmes à comparer\n",
        "        model: Modèle d'embeddings chargé\n",
        "\n",
        "    Returns:\n",
        "        Liste de dictionnaires contenant le thème et son score de similarité\n",
        "    \"\"\"\n",
        "    # Calculer l'embedding de la phrase\n",
        "    phrase_embedding = get_embeddings([phrase], model)[0]\n",
        "\n",
        "    # Calculer les embeddings des thèmes\n",
        "    theme_embeddings = get_embeddings(themes, model)\n",
        "\n",
        "    # Calculer les similarités\n",
        "    similarities = []\n",
        "    for i, theme in enumerate(themes):\n",
        "        score = cosine_similarity(phrase_embedding, theme_embeddings[i])\n",
        "        similarities.append({\n",
        "            'theme': theme,\n",
        "            'similarity_score': float(score)\n",
        "        })\n",
        "\n",
        "    # Trier par score décroissant\n",
        "    return sorted(similarities, key=lambda x: x['similarity_score'], reverse=True)\n",
        "\n",
        "# Exemple d'utilisation\n",
        "if __name__ == \"__main__\":\n",
        "    # Charger le modèle\n",
        "    model = load_embedding_model()\n",
        "\n",
        "    # Définir quelques thèmes en anglais\n",
        "    themes = [\n",
        "        \"sports and athletics\",\n",
        "        \"technology and computers\",\n",
        "        \"food and cooking\",\n",
        "        \"music and entertainment\"\n",
        "    ]\n",
        "\n",
        "    # Exemples de phrases à tester\n",
        "    test_phrases = [\n",
        "        \"I love playing football with my friends every weekend\",\n",
        "        \"The basketball match was really exciting\",\n",
        "        \"I need to buy a new laptop for work\",\n",
        "        \"This recipe for chocolate cake is amazing\"\n",
        "    ]\n",
        "\n",
        "    # Tester chaque phrase\n",
        "    for phrase in test_phrases:\n",
        "        print(f\"\\nPhrase: {phrase}\")\n",
        "        similarities = calculate_theme_similarity(phrase, themes, model)\n",
        "\n",
        "        print(\"Similarités thématiques:\")\n",
        "        for sim in similarities:\n",
        "            print(f\"- {sim['theme']}: {sim['similarity_score']:.3f}\")"
      ],
      "metadata": {
        "colab": {
          "base_uri": "https://localhost:8080/",
          "height": 996,
          "referenced_widgets": [
            "643fde85ed794870b551af13b4340e65",
            "afbb9832e7ab469cad998452c06adbad",
            "cb4581abb1c04815b52c5d188c2a0313",
            "b054b07c031d4bf4b979aa91e7abb46f",
            "d7f42fe687814a18841465a59adfbe50",
            "a2d00245d43649a0baa6824579afef63",
            "2722eb7a354f4ea8a8346fba7fda5fa6",
            "48d5e325b86d466f8a625031ba29f853",
            "bbd7dca740b54892896f769b8c544b3c",
            "ec60f0e134fc406faa2caa8354baa429",
            "fa2b2c8f125945678aead403abf62dcc",
            "fd1d8dc420d94c7dace8045c66b34a8b",
            "e0f6eb3a57ee4312a6c0ce55b8d7c9e5",
            "96632c2423a44213934b9826564e34ad",
            "451f9e05731b4cac96e86db1baf83863",
            "d3a0034da85e451aaf4f0b7510d0cfc6",
            "148a38a0f80043c1beb90c868d8c4edb",
            "7c8f1c6dd29b4aa6aafca24fd4699146",
            "e890796fc7db4f7e8fd77c52ff51d121",
            "49abbb43a18f4eb893d4b2b75f1e1801",
            "aa9984009f1e445e8704833bb546866c",
            "2258075539ba4a21af00b64aecd61385",
            "6dc73af6db374469843965f823f1517b",
            "531c4aedfe8f4424a88ccf2c8bffd13e",
            "20491ef8869847ac85c8dd521e095431",
            "59f3b5faf7884d0d94389cd1465675b8",
            "3e31665bdcf34fea956020a9a587f13f",
            "0c387cf62cf44acab5f3886ea47e6d34",
            "d3b34b03c50f4183809a45bee0982a03",
            "cd289653898f48d685244d070166dc0f",
            "262209cb7a454bc7b0a7b4b25a4336b6",
            "5d1dd9b2f10640bdbee7b3d10e20e91f",
            "fa618d128b824561a0a117cb3c680dad",
            "0d4c7ca783da49b0b1af5e3d6cc12994",
            "ab035367e1284fffbf7e08b1237eab8a",
            "80ced574dd5643ceac27b38ee43a3d31",
            "338484f8a55f4ea6b592205a371092a8",
            "aed1b73425ab4fbbba444575aafbe0c4",
            "194ab40a5b70465b94fc81ee4f931b42",
            "39e50194fb7e4c2faabac99da50626ff",
            "9dcb082d5dec4539a80d5c5de980156a",
            "e76114ca1acc418dad582e5bd3bf98fc",
            "54190100fe5641b1ac483f3614fe2667",
            "23f1fe87ef4a4de990d9ac835411c7b4",
            "302ed5c35df64e3faf033331aab46716",
            "12009321a4774ad3b539c7c059e6ea17",
            "41ff1f3f6c9447bf81065e2630cefe5a",
            "2728534c903c41f2aaf4e30dc547e177",
            "cc77c1eeb2da45d2aece2e875581bc2d",
            "81cd2e7a0a6a49c688477d599a472a72",
            "4e02e19101ee429a85d77fe716de2ed9",
            "87a58d72f5224120949c4e8bf50ac7b3",
            "7af68724fd35414e86d1449055ef608c",
            "b931de9b97a64d04a0ec30856a751385",
            "0ad074fe09454bfabdf938f80cde3fc4",
            "acd663005dc945e4b12ecdfc47028f27",
            "80b07abd769b4539b3e49fe1629964ac",
            "41a983804e6a458bae886c9d04eec8b8",
            "1241047b1d794b39a4463e74bc9dbad2",
            "8b942c7366c546a9bfb94130fbde099a",
            "b42dbdb0251e44fc8c9df0ad155ec487",
            "12ba36b6e3c7452bb505661683d37229",
            "1367302af9b74703b01d4b419c0ac37d",
            "a550e131a9be430d8cecb3e7c85dd687",
            "ece1117d460240518086fda88eb8df87",
            "2efcdfb351854adb830f1012ab6be909",
            "d0639d263b1a4f89bbb636c8176b38a5",
            "f3c71c0d550843b78fc985ee5d9274aa",
            "aaea2fb765c84d058897271541af7e90",
            "2f77410c046b4aefa08883e393fb2337",
            "57b032d270b145f5bf0bee897c96e379",
            "4f62cae9783848f3a318605e2e1a2058",
            "6e1e8ec272cd4b4e86eca2bc5cd573a4",
            "096527ad44e643de9f27f3e16948e0f7",
            "df4a7dac51bb4f3ea9397a9028b5ab49",
            "25287a688842469d98f9e7752f70d3c5",
            "1d97823b6ef84cc38a0a1965a4572ae4",
            "4f62e7eed17344b2b179a56db2094774",
            "148af72aa56149d9934a9d4c6118e1e1",
            "a49c1997a6e6419e89d91f88a665f102",
            "1041299e72aa4a59aae513fecf74256e",
            "add43339931a4b38a24f809e70e55c47",
            "aa7be5bf9b3b4314ac94e6fefd74170e",
            "059df77bd09e4376a3c74b158811963b",
            "b71516bfb15d4bc1a5c1b2d00f8a2078",
            "e7ad1ed673314b469d2e14a16d3ca7e8",
            "27f21925026445d6a1ebfab8e0c95bd6",
            "effe45554a854ca0b1601107c86f1c75",
            "31ddc939e70743fa9f0cc442474ac1f9",
            "faf4f790603749459ef00d118a65be56",
            "318d3b7f145e449e9d8df482faf68764",
            "e89877b3d0674218a10dc116a7254988",
            "8892b47eb0ab494aa5239a9d02459652",
            "a7fa07c1d024425bb3fb1c0386cf3fda",
            "b9d05d95a3564eb795788af50b891357",
            "350f35a4537740f386575e58f1b2fa78",
            "43157f5a20594f779c81e65b68dfa07a",
            "7bb1724b44ad4c7db0828ea14dd1b3ac",
            "ce717d94fc6849499b5f3e6bdd505af5",
            "8b2ca7c661884d318db017819377f067",
            "f1e00656e0824e5ead5d107e9eb84b5e",
            "800074d5a8dd4f5fac09010e51dcd50d",
            "d9ced8fad85840c18ba05383bc77ac99",
            "f79cabd2f3594350beacdf5dc37d7dc3",
            "fa6eb5d3278642d897ddbd63de02441c",
            "d479a8dd97614554846ce5de3af012b0",
            "e58cad43d1a344a1b3dc82eef3296224",
            "b96e779c487046bbb92bd64a1fa3f2de",
            "f68aa040b94b4961bce6de4a2d9cf49b",
            "021b8412aae74c839ecbff43fadc8dd3",
            "2dad6b912b9c471e99c2ed6e9756771f",
            "a321f3fe369d4c61ad13a302e270f448",
            "e593b7a146204e229673379b2fdfc939",
            "ee9d173324464395b4a01a83a11a9e44",
            "898a61bede0d4663bf2e5da15fc93e3d",
            "33b772b84d11489b8b717bd556572ade",
            "be4d0c8390ee4858b35d44500c8f853a",
            "3d7008a5884e4aff818fa627c53e2d05",
            "2d513a76bf184e649f7ceee82196ba98",
            "13d5c4ba9ad24d31814ec9a63ff853c4",
            "55f5310fe91c410cb91f6302d79cc7e4"
          ]
        },
        "id": "z--PgxDqwven",
        "outputId": "b0af53a3-06b0-4980-d0cf-b3e7b0fd9d8c"
      },
      "execution_count": 14,
      "outputs": [
        {
          "output_type": "stream",
          "name": "stderr",
          "text": [
            "/usr/local/lib/python3.10/dist-packages/huggingface_hub/utils/_auth.py:94: UserWarning: \n",
            "The secret `HF_TOKEN` does not exist in your Colab secrets.\n",
            "To authenticate with the Hugging Face Hub, create a token in your settings tab (https://huggingface.co/settings/tokens), set it as secret in your Google Colab and restart your session.\n",
            "You will be able to reuse this secret in all of your notebooks.\n",
            "Please note that authentication is recommended but still optional to access public models or datasets.\n",
            "  warnings.warn(\n"
          ]
        },
        {
          "output_type": "display_data",
          "data": {
            "text/plain": [
              "modules.json:   0%|          | 0.00/349 [00:00<?, ?B/s]"
            ],
            "application/vnd.jupyter.widget-view+json": {
              "version_major": 2,
              "version_minor": 0,
              "model_id": "643fde85ed794870b551af13b4340e65"
            }
          },
          "metadata": {}
        },
        {
          "output_type": "display_data",
          "data": {
            "text/plain": [
              "config_sentence_transformers.json:   0%|          | 0.00/116 [00:00<?, ?B/s]"
            ],
            "application/vnd.jupyter.widget-view+json": {
              "version_major": 2,
              "version_minor": 0,
              "model_id": "fd1d8dc420d94c7dace8045c66b34a8b"
            }
          },
          "metadata": {}
        },
        {
          "output_type": "display_data",
          "data": {
            "text/plain": [
              "README.md:   0%|          | 0.00/10.7k [00:00<?, ?B/s]"
            ],
            "application/vnd.jupyter.widget-view+json": {
              "version_major": 2,
              "version_minor": 0,
              "model_id": "6dc73af6db374469843965f823f1517b"
            }
          },
          "metadata": {}
        },
        {
          "output_type": "display_data",
          "data": {
            "text/plain": [
              "sentence_bert_config.json:   0%|          | 0.00/53.0 [00:00<?, ?B/s]"
            ],
            "application/vnd.jupyter.widget-view+json": {
              "version_major": 2,
              "version_minor": 0,
              "model_id": "0d4c7ca783da49b0b1af5e3d6cc12994"
            }
          },
          "metadata": {}
        },
        {
          "output_type": "display_data",
          "data": {
            "text/plain": [
              "config.json:   0%|          | 0.00/612 [00:00<?, ?B/s]"
            ],
            "application/vnd.jupyter.widget-view+json": {
              "version_major": 2,
              "version_minor": 0,
              "model_id": "302ed5c35df64e3faf033331aab46716"
            }
          },
          "metadata": {}
        },
        {
          "output_type": "display_data",
          "data": {
            "text/plain": [
              "model.safetensors:   0%|          | 0.00/90.9M [00:00<?, ?B/s]"
            ],
            "application/vnd.jupyter.widget-view+json": {
              "version_major": 2,
              "version_minor": 0,
              "model_id": "acd663005dc945e4b12ecdfc47028f27"
            }
          },
          "metadata": {}
        },
        {
          "output_type": "display_data",
          "data": {
            "text/plain": [
              "tokenizer_config.json:   0%|          | 0.00/350 [00:00<?, ?B/s]"
            ],
            "application/vnd.jupyter.widget-view+json": {
              "version_major": 2,
              "version_minor": 0,
              "model_id": "d0639d263b1a4f89bbb636c8176b38a5"
            }
          },
          "metadata": {}
        },
        {
          "output_type": "display_data",
          "data": {
            "text/plain": [
              "vocab.txt:   0%|          | 0.00/232k [00:00<?, ?B/s]"
            ],
            "application/vnd.jupyter.widget-view+json": {
              "version_major": 2,
              "version_minor": 0,
              "model_id": "4f62e7eed17344b2b179a56db2094774"
            }
          },
          "metadata": {}
        },
        {
          "output_type": "display_data",
          "data": {
            "text/plain": [
              "tokenizer.json:   0%|          | 0.00/466k [00:00<?, ?B/s]"
            ],
            "application/vnd.jupyter.widget-view+json": {
              "version_major": 2,
              "version_minor": 0,
              "model_id": "31ddc939e70743fa9f0cc442474ac1f9"
            }
          },
          "metadata": {}
        },
        {
          "output_type": "display_data",
          "data": {
            "text/plain": [
              "special_tokens_map.json:   0%|          | 0.00/112 [00:00<?, ?B/s]"
            ],
            "application/vnd.jupyter.widget-view+json": {
              "version_major": 2,
              "version_minor": 0,
              "model_id": "8b2ca7c661884d318db017819377f067"
            }
          },
          "metadata": {}
        },
        {
          "output_type": "display_data",
          "data": {
            "text/plain": [
              "1_Pooling/config.json:   0%|          | 0.00/190 [00:00<?, ?B/s]"
            ],
            "application/vnd.jupyter.widget-view+json": {
              "version_major": 2,
              "version_minor": 0,
              "model_id": "2dad6b912b9c471e99c2ed6e9756771f"
            }
          },
          "metadata": {}
        },
        {
          "output_type": "stream",
          "name": "stdout",
          "text": [
            "\n",
            "Phrase: I love playing football with my friends every weekend\n",
            "Similarités thématiques:\n",
            "- sports and athletics: 0.348\n",
            "- food and cooking: 0.175\n",
            "- music and entertainment: 0.158\n",
            "- technology and computers: -0.047\n",
            "\n",
            "Phrase: The basketball match was really exciting\n",
            "Similarités thématiques:\n",
            "- sports and athletics: 0.346\n",
            "- music and entertainment: 0.205\n",
            "- food and cooking: 0.150\n",
            "- technology and computers: 0.112\n",
            "\n",
            "Phrase: I need to buy a new laptop for work\n",
            "Similarités thématiques:\n",
            "- technology and computers: 0.221\n",
            "- food and cooking: 0.046\n",
            "- music and entertainment: 0.019\n",
            "- sports and athletics: -0.061\n",
            "\n",
            "Phrase: This recipe for chocolate cake is amazing\n",
            "Similarités thématiques:\n",
            "- food and cooking: 0.266\n",
            "- music and entertainment: 0.047\n",
            "- technology and computers: 0.013\n",
            "- sports and athletics: -0.023\n"
          ]
        }
      ]
    },
    {
      "cell_type": "code",
      "source": [
        "themes = [\n",
        "        \"clothes\",\n",
        "        \"technology and computers\",\n",
        "        \"food and cooking\",\n",
        "        \"music and entertainment\"\n",
        "    ]\n",
        "\n",
        "    # Exemples de phrases à tester\n",
        "test_phrases = [\n",
        "        \"I love playing football with my friends every weekend\",\n",
        "        \"I bought a new pair of jeans\",\n",
        "        \"I love this hoodie\",\n",
        "        \"I need to buy a new laptop for work\",\n",
        "        \"This recipe for chocolate cake is amazing\"\n",
        "    ]\n",
        "\n",
        "for phrase in test_phrases:\n",
        "    print(f\"\\nPhrase: {phrase}\")\n",
        "    similarities = calculate_theme_similarity(phrase, themes, model)\n",
        "\n",
        "    print(\"Similarités thématiques:\")\n",
        "    for sim in similarities:\n",
        "        print(f\"- {sim['theme']}: {sim['similarity_score']:.3f}\")"
      ],
      "metadata": {
        "colab": {
          "base_uri": "https://localhost:8080/"
        },
        "id": "FRoUAAW-2IZ8",
        "outputId": "402391ae-165e-4097-bff6-a50469e69f0b"
      },
      "execution_count": 15,
      "outputs": [
        {
          "output_type": "stream",
          "name": "stdout",
          "text": [
            "\n",
            "Phrase: I love playing football with my friends every weekend\n",
            "Similarités thématiques:\n",
            "- food and cooking: 0.175\n",
            "- music and entertainment: 0.158\n",
            "- clothes: 0.038\n",
            "- technology and computers: -0.047\n",
            "\n",
            "Phrase: I bought a new pair of jeans\n",
            "Similarités thématiques:\n",
            "- clothes: 0.438\n",
            "- technology and computers: 0.099\n",
            "- food and cooking: 0.058\n",
            "- music and entertainment: 0.044\n",
            "\n",
            "Phrase: I love this hoodie\n",
            "Similarités thématiques:\n",
            "- clothes: 0.319\n",
            "- food and cooking: 0.114\n",
            "- music and entertainment: 0.078\n",
            "- technology and computers: 0.017\n",
            "\n",
            "Phrase: I need to buy a new laptop for work\n",
            "Similarités thématiques:\n",
            "- technology and computers: 0.221\n",
            "- clothes: 0.111\n",
            "- food and cooking: 0.046\n",
            "- music and entertainment: 0.019\n",
            "\n",
            "Phrase: This recipe for chocolate cake is amazing\n",
            "Similarités thématiques:\n",
            "- food and cooking: 0.266\n",
            "- music and entertainment: 0.047\n",
            "- technology and computers: 0.013\n",
            "- clothes: 0.011\n"
          ]
        }
      ]
    },
    {
      "cell_type": "code",
      "source": [
        "txtdarija=\"dak l pc li khdit mn azus sd9 zwin wlkn lbatri chouia 3iyana\""
      ],
      "metadata": {
        "id": "RTYLtWU44KR2"
      },
      "execution_count": 16,
      "outputs": []
    },
    {
      "cell_type": "code",
      "source": [
        "brands = [\"Marjane\", \"Carrefour\", \"Atacadao\", \"asus\", \"Adidas\", \"Keito\"]\n",
        "matches = find_similar_brands(txtdarija, brands, threshold=0.7)\n",
        "l1=[]\n",
        "l2=[]\n",
        "for match in matches:\n",
        "    l1.append(match['found_word'])\n",
        "    l2.append(match['matched_brand'])"
      ],
      "metadata": {
        "id": "OJfrybO36dCR"
      },
      "execution_count": 17,
      "outputs": []
    },
    {
      "cell_type": "code",
      "source": [
        "matches"
      ],
      "metadata": {
        "colab": {
          "base_uri": "https://localhost:8080/"
        },
        "id": "LkqlCldZ8mJd",
        "outputId": "66e10ea7-ee84-4af0-cf76-28c1a6ddc44e"
      },
      "execution_count": 18,
      "outputs": [
        {
          "output_type": "execute_result",
          "data": {
            "text/plain": [
              "[{'found_word': 'azus',\n",
              "  'matched_brand': 'asus',\n",
              "  'composite_score': 0.833,\n",
              "  'details': {'levenshtein_score': 0.75,\n",
              "   'sequence_score': 0.75,\n",
              "   'phonetic_score': 1.0}}]"
            ]
          },
          "metadata": {},
          "execution_count": 18
        }
      ]
    },
    {
      "cell_type": "code",
      "source": [
        "l1"
      ],
      "metadata": {
        "colab": {
          "base_uri": "https://localhost:8080/"
        },
        "id": "RupxFbnf8E_V",
        "outputId": "9897a6b4-446e-47e1-fb71-b52e52fc69a0"
      },
      "execution_count": 19,
      "outputs": [
        {
          "output_type": "execute_result",
          "data": {
            "text/plain": [
              "['azus']"
            ]
          },
          "metadata": {},
          "execution_count": 19
        }
      ]
    },
    {
      "cell_type": "code",
      "source": [
        "l2"
      ],
      "metadata": {
        "colab": {
          "base_uri": "https://localhost:8080/"
        },
        "id": "3psuuUxQ7nIT",
        "outputId": "aec4c044-0226-4e1f-b2d8-6bbc851fe24d"
      },
      "execution_count": 20,
      "outputs": [
        {
          "output_type": "execute_result",
          "data": {
            "text/plain": [
              "['asus']"
            ]
          },
          "metadata": {},
          "execution_count": 20
        }
      ]
    },
    {
      "cell_type": "code",
      "source": [
        "def corriger(t):\n",
        "  liste=t.split(\" \")\n",
        "  l=[]\n",
        "  for i in range (len(liste)):\n",
        "    if liste[i] not in l1:\n",
        "      closest_words, min_distance = wd.get_closests(liste[i])\n",
        "      if  min_distance <= 2 :\n",
        "        l.append(closest_words[0])\n",
        "      else : l.append(liste[i])\n",
        "    else:\n",
        "      l.append(l2[l1.index(liste[i])])\n",
        "  return \" \".join(l)"
      ],
      "metadata": {
        "id": "lraqT1J_5An1"
      },
      "execution_count": 21,
      "outputs": []
    },
    {
      "cell_type": "code",
      "source": [],
      "metadata": {
        "id": "ITJeHbuS1DeX"
      },
      "execution_count": 21,
      "outputs": []
    },
    {
      "cell_type": "code",
      "source": [
        "corr1=corriger(txtdarija)"
      ],
      "metadata": {
        "id": "OYWvoiWN50KV"
      },
      "execution_count": 22,
      "outputs": []
    },
    {
      "cell_type": "code",
      "source": [
        "corr1"
      ],
      "metadata": {
        "colab": {
          "base_uri": "https://localhost:8080/",
          "height": 36
        },
        "id": "rXRtkLQGDRfl",
        "outputId": "b333aab1-7868-4cca-f8f8-9361d254c9b1"
      },
      "execution_count": 23,
      "outputs": [
        {
          "output_type": "execute_result",
          "data": {
            "text/plain": [
              "'dak l pc li khdit mn asus sd9 zwin wlkn lbatri chouia 3iyana'"
            ],
            "application/vnd.google.colaboratory.intrinsic+json": {
              "type": "string"
            }
          },
          "metadata": {},
          "execution_count": 23
        }
      ]
    },
    {
      "cell_type": "code",
      "source": [
        "arabizi_to_arabic(\"dak l telefon li khdit mn l7anout sd9 zwin wlkn lbatri chouia 3iyana\")"
      ],
      "metadata": {
        "colab": {
          "base_uri": "https://localhost:8080/",
          "height": 36
        },
        "id": "ZkfMC8AJ2QbR",
        "outputId": "99aa60c8-5b08-49a9-8292-fb36afcb1493"
      },
      "execution_count": 24,
      "outputs": [
        {
          "output_type": "execute_result",
          "data": {
            "text/plain": [
              "'داك ل تيليفون لي خديت من لحانووت سدق زوين ولكن لباتري شوويا عييانا'"
            ],
            "application/vnd.google.colaboratory.intrinsic+json": {
              "type": "string"
            }
          },
          "metadata": {},
          "execution_count": 24
        }
      ]
    },
    {
      "cell_type": "code",
      "source": [],
      "metadata": {
        "id": "GgNKrNUi39sQ"
      },
      "execution_count": 24,
      "outputs": []
    },
    {
      "cell_type": "code",
      "source": [
        "text_arabic1 = arabizi_to_arabic(corr1.lower())"
      ],
      "metadata": {
        "id": "5MAmthFd-HZ1"
      },
      "execution_count": 25,
      "outputs": []
    },
    {
      "cell_type": "code",
      "source": [
        "text_arabic1"
      ],
      "metadata": {
        "colab": {
          "base_uri": "https://localhost:8080/",
          "height": 36
        },
        "id": "ap6c8NpGxYxV",
        "outputId": "535f4992-87c4-4f27-bcfc-ff4386ba1814"
      },
      "execution_count": 26,
      "outputs": [
        {
          "output_type": "execute_result",
          "data": {
            "text/plain": [
              "'داك ل بك لي خديت من اسوس سدق زوين ولكن لباتري شوويا عييانا'"
            ],
            "application/vnd.google.colaboratory.intrinsic+json": {
              "type": "string"
            }
          },
          "metadata": {},
          "execution_count": 26
        }
      ]
    },
    {
      "cell_type": "code",
      "source": [
        "from typing import List, Dict, Tuple\n",
        "import re\n",
        "from Levenshtein import distance as levenshtein_distance\n",
        "\n",
        "def normalize_arabic_french(word: str) -> str:\n",
        "    \"\"\"\n",
        "    Normalise les caractéristiques communes entre darija et français\n",
        "    \"\"\"\n",
        "    # Table de correspondance phonétique darija-français\n",
        "    replacements = {\n",
        "        'k': 'q',  # alklty -> aqlty\n",
        "        '9': 'k',\n",
        "        '7': 'h',\n",
        "        '3': 'a',\n",
        "        '2': 'a',\n",
        "        '5': 'kh',\n",
        "        '8': 'h',\n",
        "        'aa': 'a',\n",
        "        'ii': 'i',\n",
        "        'oo': 'o',\n",
        "        'ee': 'e',\n",
        "        'lt': 't',   # spécifique pour qualité\n",
        "        'ql': 'q',   # spécifique pour qualité\n",
        "    }\n",
        "\n",
        "    # Convertir en minuscules\n",
        "    word = word.lower()\n",
        "\n",
        "    # Appliquer les remplacements\n",
        "    for old, new in replacements.items():\n",
        "        word = word.replace(old, new)\n",
        "\n",
        "    return word\n",
        "\n",
        "def get_phonetic_key(word: str) -> str:\n",
        "    \"\"\"\n",
        "    Crée une clé phonétique simplifiée\n",
        "    \"\"\"\n",
        "    # Normaliser d'abord\n",
        "    word = normalize_arabic_french(word)\n",
        "\n",
        "    # Règles phonétiques supplémentaires\n",
        "    rules = [\n",
        "        (r'[aeiou]+', 'a'),  # Réduit les voyelles consécutives\n",
        "        (r'([a-z])\\1+', r'\\1'),  # Réduit les consonnes répétées\n",
        "        ('ph', 'f'),\n",
        "        ('qu', 'k'),\n",
        "        ('x', 'ks'),\n",
        "    ]\n",
        "\n",
        "    for pattern, replacement in rules:\n",
        "        word = re.sub(pattern, replacement, word)\n",
        "\n",
        "    return word\n",
        "\n",
        "def find_best_match(darija_word: str, french_words: List[str], threshold: float = 0.6) -> Tuple[str, float]:\n",
        "    \"\"\"\n",
        "    Trouve le mot français le plus proche du mot en darija\n",
        "    \"\"\"\n",
        "    darija_normalized = normalize_arabic_french(darija_word)\n",
        "    darija_phonetic = get_phonetic_key(darija_word)\n",
        "\n",
        "    best_match = None\n",
        "    best_score = 0\n",
        "\n",
        "    for french_word in french_words:\n",
        "        french_normalized = french_word.lower()\n",
        "        french_phonetic = get_phonetic_key(french_word)\n",
        "\n",
        "        # Calculer différents scores de similarité\n",
        "        phonetic_score = 1 - (levenshtein_distance(darija_phonetic, french_phonetic) /\n",
        "                             max(len(darija_phonetic), len(french_phonetic)))\n",
        "\n",
        "        normalized_score = 1 - (levenshtein_distance(darija_normalized, french_normalized) /\n",
        "                              max(len(darija_normalized), len(french_normalized)))\n",
        "\n",
        "        # Score composite\n",
        "        score = (phonetic_score * 0.7) + (normalized_score * 0.3)\n",
        "\n",
        "        if score > best_score:\n",
        "            best_score = score\n",
        "            best_match = french_word\n",
        "\n",
        "    return (best_match, best_score) if best_score >= threshold else (None, 0)\n",
        "\n",
        "# Dictionnaire de correspondances connues darija-français\n",
        "KNOWN_MAPPINGS = {\n",
        "    \"alklty\": \"qualité\",\n",
        "    \"kwaliti\": \"qualité\",\n",
        "    \"kaliti\": \"qualité\",\n",
        "    \"kvaliti\": \"qualité\",\n",
        "    # Ajoutez d'autres correspondances connues ici\n",
        "}\n",
        "\n",
        "def convert_darija_to_french(word: str, french_words: List[str] = None) -> Dict:\n",
        "    \"\"\"\n",
        "    Convertit un mot darija en français\n",
        "    \"\"\"\n",
        "    # Vérifier d'abord dans les correspondances connues\n",
        "    if word.lower() in KNOWN_MAPPINGS:\n",
        "        return {\n",
        "            'original': word,\n",
        "            'converted': KNOWN_MAPPINGS[word.lower()],\n",
        "            'confidence': 1.0,\n",
        "            'method': 'known_mapping'\n",
        "        }\n",
        "\n",
        "    # Si pas de liste de mots français fournie, utiliser une liste par défaut\n",
        "    if french_words is None:\n",
        "        french_words = [\"qualité\", \"quantité\", \"calcul\", \"calibre\", \"qualifié\"]\n",
        "\n",
        "    # Trouver la meilleure correspondance\n",
        "    best_match, score = find_best_match(word, french_words)\n",
        "\n",
        "    if best_match:\n",
        "        return {\n",
        "            'original': word,\n",
        "            'converted': best_match,\n",
        "            'confidence': round(score, 3),\n",
        "            'method': 'phonetic_matching'\n",
        "        }\n",
        "    else:\n",
        "        return {\n",
        "            'original': word,\n",
        "            'converted': None,\n",
        "            'confidence': 0,\n",
        "            'method': 'no_match'\n",
        "        }\n",
        "\n",
        "# Exemple d'utilisation\n",
        "if __name__ == \"__main__\":\n",
        "    # Test avec différentes variations\n",
        "    test_words = [\"alklty\", \"kwaliti\", \"kaliti\", \"kvaliti\",\"qaliti\"]\n",
        "\n",
        "    for word in test_words:\n",
        "        result = convert_darija_to_french(word)\n",
        "        print(f\"\\nMot original: {result['original']}\")\n",
        "        print(f\"Conversion: {result['converted']}\")\n",
        "        print(f\"Confiance: {result['confidence']}\")\n",
        "        print(f\"Méthode: {result['method']}\")"
      ],
      "metadata": {
        "colab": {
          "base_uri": "https://localhost:8080/"
        },
        "id": "XZQHxTbgrK0A",
        "outputId": "5ccf3325-46f6-4fd6-cca6-b7a52fc07a0a"
      },
      "execution_count": 28,
      "outputs": [
        {
          "output_type": "stream",
          "name": "stdout",
          "text": [
            "\n",
            "Mot original: alklty\n",
            "Conversion: qualité\n",
            "Confiance: 1.0\n",
            "Méthode: known_mapping\n",
            "\n",
            "Mot original: kwaliti\n",
            "Conversion: qualité\n",
            "Confiance: 1.0\n",
            "Méthode: known_mapping\n",
            "\n",
            "Mot original: kaliti\n",
            "Conversion: qualité\n",
            "Confiance: 1.0\n",
            "Méthode: known_mapping\n",
            "\n",
            "Mot original: kvaliti\n",
            "Conversion: qualité\n",
            "Confiance: 1.0\n",
            "Méthode: known_mapping\n",
            "\n",
            "Mot original: qaliti\n",
            "Conversion: qualité\n",
            "Confiance: 0.798\n",
            "Méthode: phonetic_matching\n"
          ]
        }
      ]
    },
    {
      "cell_type": "code",
      "source": [
        "brands = [\"Marjane\", \"Carrefour\", \"Atacadao\", \"asus\", \"Adidas\", \"Keito\"]\n",
        "matches = find_similar_brands(txtdarija, brands, threshold=0.7)\n",
        "l1=[]\n",
        "l2=[]\n",
        "for match in matches:\n",
        "    l1.append(match['found_word'])\n",
        "    l2.append(match['matched_brand'])"
      ],
      "metadata": {
        "id": "sEixZxUg700m"
      },
      "execution_count": 29,
      "outputs": []
    },
    {
      "cell_type": "code",
      "source": [
        "def filterbrand(l,brands):\n",
        "  v=[]\n",
        "  nv=[]\n",
        "  for i in l:\n",
        "    matches = find_similar_brands(i[0], [brands], threshold=0.7)\n",
        "    l1=[]\n",
        "    for match in matches:\n",
        "      l1.append(match['matched_brand'])\n",
        "    if brands in l1:\n",
        "      v.append(i)\n",
        "    else:\n",
        "      nv.append(i)\n",
        "  return v,nv\n",
        "\n",
        "\n"
      ],
      "metadata": {
        "id": "B4_l9gG88DEc"
      },
      "execution_count": 30,
      "outputs": []
    },
    {
      "cell_type": "code",
      "source": [
        "def filterproduit(l,brands,feature):\n",
        "  v=[]\n",
        "  nv=[]\n",
        "  for i in l:\n",
        "    matches = find_similar_brands(i[0], [brands], threshold=0.7)\n",
        "    l1=[]\n",
        "    for match in matches:\n",
        "      l1.append(match['matched_brand'])\n",
        "    if brands in l1:\n",
        "      v.append(i)\n",
        "    else:\n",
        "       matches = find_similar_brands(i[0], feature, threshold=0.7)\n",
        "       l2=[]\n",
        "       for match in matches:\n",
        "        l2.append(match['matched_brand'])\n",
        "        if l2!=[]:\n",
        "          v.append(i)\n",
        "        else:\n",
        "          nv.append(i)\n",
        "  return v,nv\n"
      ],
      "metadata": {
        "id": "lmF5vFGB_oct"
      },
      "execution_count": 31,
      "outputs": []
    },
    {
      "cell_type": "code",
      "source": [
        "# prompt: je veux une fonction tel que il prend un fichier csv et il le transforme en une liste une une chaque ligne et un element de la liste\n",
        "\n",
        "import csv\n",
        "\n",
        "def csv_to_list(file_path: str) -> list:\n",
        "  \"\"\"\n",
        "  Reads a CSV file and converts it into a list of lists, where each inner list represents a row.\n",
        "\n",
        "  Args:\n",
        "    file_path: The path to the CSV file.\n",
        "\n",
        "  Returns:\n",
        "    A list of lists representing the CSV data, or None if an error occurs.\n",
        "  \"\"\"\n",
        "  try:\n",
        "    with open(file_path, 'r', encoding='utf-8') as file:\n",
        "      reader = csv.reader(file)\n",
        "      data = list(reader)\n",
        "      return data\n",
        "  except FileNotFoundError:\n",
        "    print(f\"Error: File not found at {file_path}\")\n",
        "    return None\n",
        "  except Exception as e:\n",
        "    print(f\"An error occurred: {e}\")\n",
        "    return None"
      ],
      "metadata": {
        "id": "dBuFr7PK-B4x"
      },
      "execution_count": 32,
      "outputs": []
    },
    {
      "cell_type": "code",
      "source": [
        "liste_des_tweet=csv_to_list(\"Dataset_Final_avec_Fautes__Ferrari_et_Mod_les_.csv\")"
      ],
      "metadata": {
        "id": "dIYtyMSH-f0W"
      },
      "execution_count": 33,
      "outputs": []
    },
    {
      "cell_type": "code",
      "source": [
        "liste_des_tweet"
      ],
      "metadata": {
        "colab": {
          "base_uri": "https://localhost:8080/"
        },
        "id": "kxWsdA07-oV6",
        "outputId": "d8274fea-8be9-40bd-f05d-c9007696b41f"
      },
      "execution_count": 34,
      "outputs": [
        {
          "output_type": "execute_result",
          "data": {
            "text/plain": [
              "[['Tweet'],\n",
              " ['chi vidéo ghriba 3la Ferary t3lmt bzf haja jdida'],\n",
              " ['Ferary rah jdid b spécifications 3alya'],\n",
              " ['l design dyal 812 Superfest rah ghzal'],\n",
              " ['l design dyal Ferary rah wa3r bzf'],\n",
              " [\"klash bzat mn Ferary m3 l'autre marque\"],\n",
              " ['3jbtni Calefornia'],\n",
              " ['Fari wa7d mn a7sn voitures f l3alam'],\n",
              " ['Ferary rah jdid b spécifications 3alya'],\n",
              " ['lkhdma dyal Ferar f tech wa3ra'],\n",
              " ['chi vidéo ghriba 3la Ferary t3lmt bzf haja jdida'],\n",
              " ['chaf chi wa7d la voiture dyal Ferr lyouma?'],\n",
              " ['3jbtni 812 Superfest'],\n",
              " ['l design dyal Ferary rah wa3r bzf'],\n",
              " ['3jbtni Calefornia'],\n",
              " ['bghit nji nsem3 chi music calm lyouma'],\n",
              " ['l design dyal Ferary rah wa3r bzf'],\n",
              " ['lahla ysma7 lina mn lbirocracy f lbaladiya'],\n",
              " [\"klash bzat mn Ferary m3 l'autre marque\"],\n",
              " ['kan7lm nji njrb chi nhar 812 Superfest'],\n",
              " ['l design dyal Ferary rah wa3r bzf'],\n",
              " ['makan7lm ghir b Fery fchi nhar'],\n",
              " ['Fari kay3jbni bzaf mn lmodèles dyalhom'],\n",
              " ['3jbtni Triboto'],\n",
              " ['kan7lm nji njrb chi nhar Portofena'],\n",
              " ['chi vidéo ghriba 3la Ferary t3lmt bzf haja jdida'],\n",
              " ['chaf chi wa7d la voiture dyal Ferr lyouma?'],\n",
              " ['kan7lm nji njrb chi nhar 488'],\n",
              " ['chi vidéo ghriba 3la Ferary t3lmt bzf haja jdida'],\n",
              " ['lkhdma dyal Ferar f tech wa3ra'],\n",
              " ['l design dyal Triboto rah ghzal'],\n",
              " ['3jbtni GTC4Luso'],\n",
              " ['Fari kay3jbni bzaf mn lmodèles dyalhom'],\n",
              " ['Ferary rah jdid b spécifications 3alya'],\n",
              " ['Fari kay3jbni bzaf mn lmodèles dyalhom'],\n",
              " ['n9adti chi hwayj lyoum, b9a ghada t3aya'],\n",
              " ['3jbtni SF99'],\n",
              " ['njarb l new model dyal Farri wahadi!'],\n",
              " [\"klash bzat mn Ferary m3 l'autre marque\"],\n",
              " ['l design dyal 812 Superfest rah ghzal'],\n",
              " ['Fari wa7d mn a7sn voitures f l3alam'],\n",
              " ['lkhdma dyal Ferar f tech wa3ra'],\n",
              " ['lkhdma dyal Ferar f tech wa3ra'],\n",
              " ['l design dyal Triboto rah ghzal'],\n",
              " ['3jbtni 488'],\n",
              " ['3jbtni LaFerarri'],\n",
              " ['makan7lm ghir b Fery fchi nhar'],\n",
              " ['chaf chi wa7d la voiture dyal Ferr lyouma?'],\n",
              " ['l design dyal GTC4Luso rah ghzal'],\n",
              " ['Fari kay3jbni bzaf mn lmodèles dyalhom'],\n",
              " ['makan7lm ghir b Fery fchi nhar'],\n",
              " ['Ferary rah jdid b spécifications 3alya'],\n",
              " ['Fari kay3jbni bzaf mn lmodèles dyalhom'],\n",
              " ['chaf chi wa7d la voiture dyal Ferr lyouma?'],\n",
              " ['l design dyal 488 rah ghzal'],\n",
              " ['makan7lm ghir b Fery fchi nhar'],\n",
              " ['njarb l new model dyal Farri wahadi!'],\n",
              " ['l design dyal Calefornia rah ghzal'],\n",
              " ['kan7lm nji njrb chi nhar SF99'],\n",
              " ['Fari wa7d mn a7sn voitures f l3alam'],\n",
              " ['Ferary rah jdid b spécifications 3alya'],\n",
              " ['njarb l new model dyal Farri wahadi!'],\n",
              " ['Ferary rah jdid b spécifications 3alya'],\n",
              " ['jm3a mzyana m3a lfriends lyouma'],\n",
              " ['3jbtni Rooma'],\n",
              " ['kan7lm nji njrb chi nhar Rooma'],\n",
              " ['kifach nakhdm l machine dyal washing?'],\n",
              " ['lkhdma dyal Ferar f tech wa3ra'],\n",
              " ['bghit n9ra chi livre jdida f darija'],\n",
              " ['kan7lm nji njrb chi nhar LaFerarri'],\n",
              " ['rani 9ri7 f lcourse kay9lo bsra3a'],\n",
              " ['l design dyal Monzza rah ghzal'],\n",
              " ['chi hadra 3la lfootball daba kayna'],\n",
              " [\"klash bzat mn Ferary m3 l'autre marque\"],\n",
              " ['daba lmochkil f lweather katr bzaf'],\n",
              " ['Fari wa7d mn a7sn voitures f l3alam'],\n",
              " ['kan7lm nji njrb chi nhar Calefornia'],\n",
              " ['makan7lm ghir b Fery fchi nhar'],\n",
              " ['chi vidéo ghriba 3la Ferary t3lmt bzf haja jdida'],\n",
              " ['chaf chi wa7d la voiture dyal Ferr lyouma?'],\n",
              " ['chaf chi wa7d la voiture dyal Ferr lyouma?'],\n",
              " ['l design dyal Portofena rah ghzal'],\n",
              " ['chi vidéo ghriba 3la Ferary t3lmt bzf haja jdida'],\n",
              " ['l design dyal Ferary rah wa3r bzf'],\n",
              " ['3jbtni Rooma'],\n",
              " ['Fari kay3jbni bzaf mn lmodèles dyalhom'],\n",
              " ['Fari wa7d mn a7sn voitures f l3alam'],\n",
              " ['l design dyal GTC4Luso rah ghzal'],\n",
              " [\"klash bzat mn Ferary m3 l'autre marque\"],\n",
              " ['stages kayb9aw had lwqt oula kaytghayro?'],\n",
              " ['3jbtni SF99'],\n",
              " ['njarb l new model dyal Farri wahadi!'],\n",
              " ['makan7lm ghir b Fery fchi nhar'],\n",
              " ['3jbtni Calefornia'],\n",
              " ['l design dyal Ferary rah wa3r bzf'],\n",
              " ['Fari wa7d mn a7sn voitures f l3alam'],\n",
              " ['lkhdma dyal Ferar f tech wa3ra'],\n",
              " ['3jbtni 488'],\n",
              " [\"klash bzat mn Ferary m3 l'autre marque\"],\n",
              " ['njarb l new model dyal Farri wahadi!'],\n",
              " ['njarb l new model dyal Farri wahadi!']]"
            ]
          },
          "metadata": {},
          "execution_count": 34
        }
      ]
    },
    {
      "cell_type": "code",
      "source": [
        "v,vn=filterbrand(liste_des_tweet,\"Ferrari\")"
      ],
      "metadata": {
        "id": "4WF13MVe-qP_"
      },
      "execution_count": 35,
      "outputs": []
    },
    {
      "cell_type": "code",
      "source": [
        "vn"
      ],
      "metadata": {
        "colab": {
          "base_uri": "https://localhost:8080/"
        },
        "id": "_jsagZ09_Kg_",
        "outputId": "31ee84c2-3b6b-4733-96a1-d3056159edfd"
      },
      "execution_count": 36,
      "outputs": [
        {
          "output_type": "execute_result",
          "data": {
            "text/plain": [
              "[['Tweet'],\n",
              " ['l design dyal 812 Superfest rah ghzal'],\n",
              " ['3jbtni Calefornia'],\n",
              " ['Fari wa7d mn a7sn voitures f l3alam'],\n",
              " ['chaf chi wa7d la voiture dyal Ferr lyouma?'],\n",
              " ['3jbtni 812 Superfest'],\n",
              " ['3jbtni Calefornia'],\n",
              " ['bghit nji nsem3 chi music calm lyouma'],\n",
              " ['lahla ysma7 lina mn lbirocracy f lbaladiya'],\n",
              " ['kan7lm nji njrb chi nhar 812 Superfest'],\n",
              " ['makan7lm ghir b Fery fchi nhar'],\n",
              " ['Fari kay3jbni bzaf mn lmodèles dyalhom'],\n",
              " ['3jbtni Triboto'],\n",
              " ['kan7lm nji njrb chi nhar Portofena'],\n",
              " ['chaf chi wa7d la voiture dyal Ferr lyouma?'],\n",
              " ['kan7lm nji njrb chi nhar 488'],\n",
              " ['l design dyal Triboto rah ghzal'],\n",
              " ['3jbtni GTC4Luso'],\n",
              " ['Fari kay3jbni bzaf mn lmodèles dyalhom'],\n",
              " ['Fari kay3jbni bzaf mn lmodèles dyalhom'],\n",
              " ['n9adti chi hwayj lyoum, b9a ghada t3aya'],\n",
              " ['3jbtni SF99'],\n",
              " ['njarb l new model dyal Farri wahadi!'],\n",
              " ['l design dyal 812 Superfest rah ghzal'],\n",
              " ['Fari wa7d mn a7sn voitures f l3alam'],\n",
              " ['l design dyal Triboto rah ghzal'],\n",
              " ['3jbtni 488'],\n",
              " ['3jbtni LaFerarri'],\n",
              " ['makan7lm ghir b Fery fchi nhar'],\n",
              " ['chaf chi wa7d la voiture dyal Ferr lyouma?'],\n",
              " ['l design dyal GTC4Luso rah ghzal'],\n",
              " ['Fari kay3jbni bzaf mn lmodèles dyalhom'],\n",
              " ['makan7lm ghir b Fery fchi nhar'],\n",
              " ['Fari kay3jbni bzaf mn lmodèles dyalhom'],\n",
              " ['chaf chi wa7d la voiture dyal Ferr lyouma?'],\n",
              " ['l design dyal 488 rah ghzal'],\n",
              " ['makan7lm ghir b Fery fchi nhar'],\n",
              " ['njarb l new model dyal Farri wahadi!'],\n",
              " ['l design dyal Calefornia rah ghzal'],\n",
              " ['kan7lm nji njrb chi nhar SF99'],\n",
              " ['Fari wa7d mn a7sn voitures f l3alam'],\n",
              " ['njarb l new model dyal Farri wahadi!'],\n",
              " ['jm3a mzyana m3a lfriends lyouma'],\n",
              " ['3jbtni Rooma'],\n",
              " ['kan7lm nji njrb chi nhar Rooma'],\n",
              " ['kifach nakhdm l machine dyal washing?'],\n",
              " ['bghit n9ra chi livre jdida f darija'],\n",
              " ['kan7lm nji njrb chi nhar LaFerarri'],\n",
              " ['rani 9ri7 f lcourse kay9lo bsra3a'],\n",
              " ['l design dyal Monzza rah ghzal'],\n",
              " ['chi hadra 3la lfootball daba kayna'],\n",
              " ['daba lmochkil f lweather katr bzaf'],\n",
              " ['Fari wa7d mn a7sn voitures f l3alam'],\n",
              " ['kan7lm nji njrb chi nhar Calefornia'],\n",
              " ['makan7lm ghir b Fery fchi nhar'],\n",
              " ['chaf chi wa7d la voiture dyal Ferr lyouma?'],\n",
              " ['chaf chi wa7d la voiture dyal Ferr lyouma?'],\n",
              " ['l design dyal Portofena rah ghzal'],\n",
              " ['3jbtni Rooma'],\n",
              " ['Fari kay3jbni bzaf mn lmodèles dyalhom'],\n",
              " ['Fari wa7d mn a7sn voitures f l3alam'],\n",
              " ['l design dyal GTC4Luso rah ghzal'],\n",
              " ['stages kayb9aw had lwqt oula kaytghayro?'],\n",
              " ['3jbtni SF99'],\n",
              " ['njarb l new model dyal Farri wahadi!'],\n",
              " ['makan7lm ghir b Fery fchi nhar'],\n",
              " ['3jbtni Calefornia'],\n",
              " ['Fari wa7d mn a7sn voitures f l3alam'],\n",
              " ['3jbtni 488'],\n",
              " ['njarb l new model dyal Farri wahadi!'],\n",
              " ['njarb l new model dyal Farri wahadi!']]"
            ]
          },
          "metadata": {},
          "execution_count": 36
        }
      ]
    },
    {
      "cell_type": "code",
      "source": [
        "len(vn)"
      ],
      "metadata": {
        "colab": {
          "base_uri": "https://localhost:8080/"
        },
        "id": "EdSJeeIS_MXl",
        "outputId": "3e43b451-ef5a-46eb-9cec-04ed4d314156"
      },
      "execution_count": 37,
      "outputs": [
        {
          "output_type": "execute_result",
          "data": {
            "text/plain": [
              "71"
            ]
          },
          "metadata": {},
          "execution_count": 37
        }
      ]
    },
    {
      "cell_type": "code",
      "source": [
        "models = [\"488\", \"812 Superfast\", \"Roma\", \"SF90\", \"Portofino\", \"LaFerrari\", \"F8 Tributo\", \"Monza\", \"California\", \"GTC4Lusso\"]\n"
      ],
      "metadata": {
        "id": "zEW2u9LXEJxc"
      },
      "execution_count": 38,
      "outputs": []
    },
    {
      "cell_type": "code",
      "source": [
        "v,nv=filterproduit(liste_des_tweet,\"Ferrari\",models)"
      ],
      "metadata": {
        "id": "HqWsML7JD6dW"
      },
      "execution_count": 39,
      "outputs": []
    },
    {
      "cell_type": "code",
      "source": [
        "len(liste_des_tweet)"
      ],
      "metadata": {
        "colab": {
          "base_uri": "https://localhost:8080/"
        },
        "id": "RNCAo6Z0Edi5",
        "outputId": "2a1d353c-8481-459d-af54-26dff9b450db"
      },
      "execution_count": 40,
      "outputs": [
        {
          "output_type": "execute_result",
          "data": {
            "text/plain": [
              "101"
            ]
          },
          "metadata": {},
          "execution_count": 40
        }
      ]
    },
    {
      "cell_type": "code",
      "source": [
        "len(v)"
      ],
      "metadata": {
        "colab": {
          "base_uri": "https://localhost:8080/"
        },
        "id": "VT7DF7QjEZmn",
        "outputId": "0e96bc6d-92b7-4183-c327-6c030b3bda1b"
      },
      "execution_count": 41,
      "outputs": [
        {
          "output_type": "execute_result",
          "data": {
            "text/plain": [
              "60"
            ]
          },
          "metadata": {},
          "execution_count": 41
        }
      ]
    },
    {
      "cell_type": "code",
      "source": [
        "v"
      ],
      "metadata": {
        "colab": {
          "base_uri": "https://localhost:8080/"
        },
        "id": "gZo-gRK6Ezba",
        "outputId": "90cf1edd-6125-4449-c0d5-6d0905460c3d"
      },
      "execution_count": 42,
      "outputs": [
        {
          "output_type": "execute_result",
          "data": {
            "text/plain": [
              "[['chi vidéo ghriba 3la Ferary t3lmt bzf haja jdida'],\n",
              " ['Ferary rah jdid b spécifications 3alya'],\n",
              " ['l design dyal 812 Superfest rah ghzal'],\n",
              " ['l design dyal Ferary rah wa3r bzf'],\n",
              " [\"klash bzat mn Ferary m3 l'autre marque\"],\n",
              " ['3jbtni Calefornia'],\n",
              " ['Ferary rah jdid b spécifications 3alya'],\n",
              " ['lkhdma dyal Ferar f tech wa3ra'],\n",
              " ['chi vidéo ghriba 3la Ferary t3lmt bzf haja jdida'],\n",
              " ['3jbtni 812 Superfest'],\n",
              " ['l design dyal Ferary rah wa3r bzf'],\n",
              " ['3jbtni Calefornia'],\n",
              " ['l design dyal Ferary rah wa3r bzf'],\n",
              " [\"klash bzat mn Ferary m3 l'autre marque\"],\n",
              " ['kan7lm nji njrb chi nhar 812 Superfest'],\n",
              " ['l design dyal Ferary rah wa3r bzf'],\n",
              " ['3jbtni Triboto'],\n",
              " ['kan7lm nji njrb chi nhar Portofena'],\n",
              " ['chi vidéo ghriba 3la Ferary t3lmt bzf haja jdida'],\n",
              " ['kan7lm nji njrb chi nhar 488'],\n",
              " ['chi vidéo ghriba 3la Ferary t3lmt bzf haja jdida'],\n",
              " ['lkhdma dyal Ferar f tech wa3ra'],\n",
              " ['l design dyal Triboto rah ghzal'],\n",
              " ['3jbtni GTC4Luso'],\n",
              " ['Ferary rah jdid b spécifications 3alya'],\n",
              " ['3jbtni SF99'],\n",
              " [\"klash bzat mn Ferary m3 l'autre marque\"],\n",
              " ['l design dyal 812 Superfest rah ghzal'],\n",
              " ['lkhdma dyal Ferar f tech wa3ra'],\n",
              " ['lkhdma dyal Ferar f tech wa3ra'],\n",
              " ['l design dyal Triboto rah ghzal'],\n",
              " ['3jbtni 488'],\n",
              " ['3jbtni LaFerarri'],\n",
              " ['l design dyal GTC4Luso rah ghzal'],\n",
              " ['Ferary rah jdid b spécifications 3alya'],\n",
              " ['l design dyal 488 rah ghzal'],\n",
              " ['l design dyal Calefornia rah ghzal'],\n",
              " ['kan7lm nji njrb chi nhar SF99'],\n",
              " ['Ferary rah jdid b spécifications 3alya'],\n",
              " ['Ferary rah jdid b spécifications 3alya'],\n",
              " ['3jbtni Rooma'],\n",
              " ['kan7lm nji njrb chi nhar Rooma'],\n",
              " ['lkhdma dyal Ferar f tech wa3ra'],\n",
              " ['kan7lm nji njrb chi nhar LaFerarri'],\n",
              " ['l design dyal Monzza rah ghzal'],\n",
              " [\"klash bzat mn Ferary m3 l'autre marque\"],\n",
              " ['kan7lm nji njrb chi nhar Calefornia'],\n",
              " ['chi vidéo ghriba 3la Ferary t3lmt bzf haja jdida'],\n",
              " ['l design dyal Portofena rah ghzal'],\n",
              " ['chi vidéo ghriba 3la Ferary t3lmt bzf haja jdida'],\n",
              " ['l design dyal Ferary rah wa3r bzf'],\n",
              " ['3jbtni Rooma'],\n",
              " ['l design dyal GTC4Luso rah ghzal'],\n",
              " [\"klash bzat mn Ferary m3 l'autre marque\"],\n",
              " ['3jbtni SF99'],\n",
              " ['3jbtni Calefornia'],\n",
              " ['l design dyal Ferary rah wa3r bzf'],\n",
              " ['lkhdma dyal Ferar f tech wa3ra'],\n",
              " ['3jbtni 488'],\n",
              " [\"klash bzat mn Ferary m3 l'autre marque\"]]"
            ]
          },
          "metadata": {},
          "execution_count": 42
        }
      ]
    },
    {
      "cell_type": "code",
      "source": [
        "def filterproduit(l,qualité,prix):\n",
        "  lq=[]\n",
        "  lp=[]\n",
        "  lr=[]\n",
        "  for i in l:\n",
        "    matchesquality = find_similar_brands(i[0], qualité, threshold=0.7)\n",
        "    matchesprix = find_similar_brands(i[0], prix, threshold=0.8)\n",
        "    l1=[]\n",
        "    l2=[]\n",
        "    for match in matchesquality:\n",
        "      l1.append(match['matched_brand'])\n",
        "    if l1!=[]:\n",
        "      lq.append(i)\n",
        "    for match in matchesprix:\n",
        "      l2.append(match['matched_brand'])\n",
        "    if l2!=[]:\n",
        "      lp.append(i)\n",
        "    if l1==[]and l2==[]: lr.append(i)\n",
        "  return lq,lp,lr\n"
      ],
      "metadata": {
        "id": "Tiky5MLNEbwn"
      },
      "execution_count": 43,
      "outputs": []
    },
    {
      "cell_type": "code",
      "source": [
        "qualité=[\"qualité, quality, kalité\",\"jawda\",\"ljawda\",\"lqualité\",\"lqualiti\"]"
      ],
      "metadata": {
        "id": "ne_w-hhMhBbT"
      },
      "execution_count": 44,
      "outputs": []
    },
    {
      "cell_type": "code",
      "source": [
        "prix=['taman','price',\"pri\",\"lprix\",\"prix\",'flous','derham','dh','dhs','dirham','ghali','rkhis']"
      ],
      "metadata": {
        "id": "GqsaYRxnhjaT"
      },
      "execution_count": 45,
      "outputs": []
    },
    {
      "cell_type": "code",
      "source": [
        "listetweet=csv_to_list(\"Dataset_Final_en_Darija_sur_une_Marque_de_T_l_phone.csv\")"
      ],
      "metadata": {
        "id": "7n3rMxivj5Z-"
      },
      "execution_count": 46,
      "outputs": []
    },
    {
      "cell_type": "code",
      "source": [
        "lq,lp,lr=filterproduit(listetweet,qualité,prix)"
      ],
      "metadata": {
        "id": "5Q-6u8OZkYTh"
      },
      "execution_count": 47,
      "outputs": []
    },
    {
      "cell_type": "code",
      "source": [
        "lp"
      ],
      "metadata": {
        "colab": {
          "base_uri": "https://localhost:8080/"
        },
        "id": "8tbSM-udkbRA",
        "outputId": "315d5504-9bb4-4609-80b3-80ca6b21174e"
      },
      "execution_count": 48,
      "outputs": [
        {
          "output_type": "execute_result",
          "data": {
            "text/plain": [
              "[['Samsung ghaly bzaaaf compared to other brands'],\n",
              " ['wach Samsongue worth lprix lli tay3tdo?'],\n",
              " ['Samsong 3ndo models ghlyin w price kayzid'],\n",
              " ['ma kay7ellich f prix dyal Samsoon'],\n",
              " ['Samsung ghaly bzaaaf compared to other brands'],\n",
              " ['l prix dyal Samsoon ghali shwiya'],\n",
              " ['price dyal Samson kayn chi had kaygol normal?'],\n",
              " ['l prix dyal Samsoon ghali shwiya'],\n",
              " ['wach Samsongue worth lprix lli tay3tdo?'],\n",
              " ['ma kay7ellich f prix dyal Samsoon'],\n",
              " ['wach Samsongue worth lprix lli tay3tdo?'],\n",
              " ['ma kay7ellich f prix dyal Samsoon'],\n",
              " ['price dyal Samson kayn chi had kaygol normal?'],\n",
              " ['Samsung ghaly bzaaaf compared to other brands'],\n",
              " ['Samsong 3ndo models ghlyin w price kayzid'],\n",
              " ['l prix dyal Samsoon ghali shwiya'],\n",
              " ['Samsong 3ndo models ghlyin w price kayzid'],\n",
              " ['Samson rah mzyan bs7 flus kay7erqo bzf'],\n",
              " ['price dyal Samson kayn chi had kaygol normal?'],\n",
              " ['Samson rah mzyan bs7 flus kay7erqo bzf'],\n",
              " ['Samson rah mzyan bs7 flus kay7erqo bzf']]"
            ]
          },
          "metadata": {},
          "execution_count": 48
        }
      ]
    },
    {
      "cell_type": "code",
      "source": [
        "sentiment_positif=[\"3jbni\", \"7bit\", \"7ebit\",\"nadi\",\"zwin\",\"wa3r\",\"naadia\",\"mfrge3a\",\"ghzal\"]"
      ],
      "metadata": {
        "id": "5j5z9GlXwHqP"
      },
      "execution_count": 49,
      "outputs": []
    },
    {
      "cell_type": "code",
      "source": [
        "sentiment_negatif=[\"ma3jbnich\",\"ma7meltouch\",\"ma7ebitch\",\"khayb\",\"na9ess\",\"7amed\",\"fachel\",\"probleme\",\"mochkil\",\"khasr\",\"habta\"]"
      ],
      "metadata": {
        "id": "Ju4Agqp2kbHd"
      },
      "execution_count": 50,
      "outputs": []
    },
    {
      "cell_type": "code",
      "source": [
        "def sentiment_analysis(l,sentimentpositif,sentimentnegatif):\n",
        "  lq=[]\n",
        "  lp=[]\n",
        "  lr=[]\n",
        "  for i in l:\n",
        "    matchespossent = find_similar_brands(i, sentimentpositif, threshold=0.7)\n",
        "    matchesnegsent = find_similar_brands(i, sentimentnegatif, threshold=0.8)\n",
        "    l1=[]\n",
        "    l2=[]\n",
        "    for match in matchespossent:\n",
        "      l1.append(match['matched_brand'])\n",
        "    if l1!=[]:\n",
        "      lq.append(i)\n",
        "    for match in matchesnegsent:\n",
        "      l2.append(match['matched_brand'])\n",
        "    if l2!=[]:\n",
        "      lp.append(i)\n",
        "    if l1==[]and l2==[]: lr.append(i)\n",
        "  return lq,lp,lr\n"
      ],
      "metadata": {
        "id": "7BpQbSgU62I0"
      },
      "execution_count": 51,
      "outputs": []
    },
    {
      "cell_type": "code",
      "source": [
        "# prompt: je veux une fonction qui lie le csv et rend une liste de la premiere colonne\n",
        "\n",
        "import csv\n",
        "\n",
        "def get_first_column(file_path):\n",
        "  \"\"\"Reads a CSV file and returns a list of the first column's values.\n",
        "\n",
        "  Args:\n",
        "    file_path: The path to the CSV file.\n",
        "\n",
        "  Returns:\n",
        "    A list containing the values from the first column, or None if an error occurs.\n",
        "  \"\"\"\n",
        "  try:\n",
        "    with open(file_path, 'r', encoding='utf-8') as file:\n",
        "      reader = csv.reader(file)\n",
        "      first_column_data = [row[0] for row in reader]  # Extract the first element of each row\n",
        "      return first_column_data\n",
        "  except FileNotFoundError:\n",
        "    print(f\"Error: File not found at {file_path}\")\n",
        "    return None\n",
        "  except IndexError:\n",
        "    print(\"Error: Some rows might be empty in the CSV file.\")\n",
        "    return None\n",
        "  except Exception as e:\n",
        "    print(f\"An error occurred: {e}\")\n",
        "    return None"
      ],
      "metadata": {
        "id": "ha8d2xD37G3M"
      },
      "execution_count": 52,
      "outputs": []
    },
    {
      "cell_type": "code",
      "source": [
        "sent=get_first_column(\"Dataset_d_Analyse_de_Sentiments_sur_Ferrari.csv\")"
      ],
      "metadata": {
        "id": "iBKEqygv_0In"
      },
      "execution_count": 53,
      "outputs": []
    },
    {
      "cell_type": "code",
      "source": [
        "l=[\"3jbni had lmntouj\",\"had lmntouj khaybe bzf\",\"had telephone ma7mltoch\",\"lpc zwin mais lqualité khayba\"]"
      ],
      "metadata": {
        "id": "Ko6BOvDKoqDx"
      },
      "execution_count": 54,
      "outputs": []
    },
    {
      "cell_type": "code",
      "source": [
        "p,n,r=sentiment_analysis(l,sentiment_positif,sentiment_negatif)"
      ],
      "metadata": {
        "id": "Dae6J9fx__85"
      },
      "execution_count": 55,
      "outputs": []
    },
    {
      "cell_type": "code",
      "source": [],
      "metadata": {
        "id": "f30wBB8sAJwd"
      },
      "execution_count": 55,
      "outputs": []
    },
    {
      "cell_type": "code",
      "source": [
        "sentiment_positif = {\n",
        "    \"3jbni\": 0.7, \"7bit\": 0.9, \"7ebit\": 0.7, \"nadi\": 0.8, \"zwin\": 0.7,\"zouin\":0.7,\"zine\":0.7,\n",
        "    \"wa3r\": 8.0, \"naadia\": 0.7, \"mfrge3a\": 8.0, \"ghzal\": 1.0 , \"makhaybch\": 0.4 ,\"nadiya\":0.8, \"nadia\":0.8 , \"mana9ssach\":0.4,\"matay7ach\":0.4\n",
        "}\n",
        "\n",
        "sentiment_negatif = {\n",
        "    \"ma3jbnich\": -0.7, \"ma7ebitch\": -0.9, \"khayb\": -7.0, \"na9ess\": -0.7,\"ma7ebitouch\":-0.6,\n",
        "    \"7amed\": -0.6, \"fachel\": -1.0, \"probleme\": -0.8, \"mochkil\": -0.9,\n",
        "    \"khasr\": -0.7, \"habta\": -0.8, \"ma7meltoch\": -0.9 ,\"tay7a\" : -0.7 , \"mazwinch\" :-0.6,\"mazouinch\":-0.6 , \"manadiyach\":-0.6,\"manadiach\":-0.6,\"mawa3rach\":-0.4, \"3iyan\":-0.7,\"frya\":-0.7\n",
        "}"
      ],
      "metadata": {
        "id": "eW7JpyVgrq8w"
      },
      "execution_count": 229,
      "outputs": []
    },
    {
      "cell_type": "code",
      "source": [
        "def sentiment_analysis2(l, sentimentpositif, sentimentnegatif):\n",
        "    lq = []  # Liste pour les tweets avec sentiments positifs\n",
        "    lp = []  # Liste pour les tweets avec sentiments négatifs\n",
        "    lr = []  # Liste pour les tweets neutres ou non classés\n",
        "\n",
        "    for i in l:\n",
        "        score = 0\n",
        "        # Trouver les correspondances pour les mots positifs et négatifs\n",
        "        matchespossent = find_similar_brands(i, list(sentimentpositif.keys()), threshold=0.7)\n",
        "        matchesnegsent = find_similar_brands(i, list(sentimentnegatif.keys()), threshold=0.8)\n",
        "\n",
        "        # Calculer le score basé sur les pondérations\n",
        "        for match in matchespossent:\n",
        "            matched_word = match['matched_brand']\n",
        "            score += sentimentpositif.get(matched_word, 0)  # Ajouter le poids du mot positif\n",
        "\n",
        "        for match in matchesnegsent:\n",
        "            matched_word = match['matched_brand']\n",
        "            score += sentimentnegatif.get(matched_word, 0)  # Soustraire le poids du mot négatif\n",
        "\n",
        "        # Classifier le tweet selon le score\n",
        "        if score > 0:\n",
        "            lq.append((i, score))  # Sentiment positif\n",
        "        elif score < 0:\n",
        "            lp.append((i, score))  # Sentiment négatif\n",
        "        else:\n",
        "            lr.append((i, score))  # Sentiment neutre ou non classé\n",
        "\n",
        "    return lq, lp, lr\n"
      ],
      "metadata": {
        "id": "MUKeIz0iru58"
      },
      "execution_count": 57,
      "outputs": []
    },
    {
      "cell_type": "code",
      "source": [
        "p,n,r=sentiment_analysis2(l, sentiment_positif, sentiment_negatif)"
      ],
      "metadata": {
        "id": "T3LqDfi1rw6A"
      },
      "execution_count": 58,
      "outputs": []
    },
    {
      "cell_type": "code",
      "source": [
        "p"
      ],
      "metadata": {
        "colab": {
          "base_uri": "https://localhost:8080/"
        },
        "id": "oguo9evHsLk9",
        "outputId": "efdba795-2abf-4f30-94da-f69ae168cc1c"
      },
      "execution_count": 59,
      "outputs": [
        {
          "output_type": "execute_result",
          "data": {
            "text/plain": [
              "[('3jbni had lmntouj', 0.7)]"
            ]
          },
          "metadata": {},
          "execution_count": 59
        }
      ]
    },
    {
      "cell_type": "code",
      "source": [
        "def sentiment_analysis3(l, sentimentpositif, sentimentnegatif):\n",
        "    lq = []  # Liste pour les tweets avec sentiments positifs\n",
        "    lp = []  # Liste pour les tweets avec sentiments négatifs\n",
        "    lr = []  # Liste pour les tweets neutres ou non classés\n",
        "\n",
        "    negate_words = [\"machi\", \"ma\",\"mchi\",\"maxi\",\"machy\"]  # Liste des mots qui inversent le sentiment\n",
        "\n",
        "    for i in l:\n",
        "        score = 0\n",
        "        negate = False  # Indicateur d'inversion\n",
        "\n",
        "        # Trouver les correspondances pour les mots positifs et négatifs\n",
        "        matchespossent = find_similar_brands(i, list(sentimentpositif.keys()), threshold=0.7)\n",
        "        matchesnegsent = find_similar_brands(i, list(sentimentnegatif.keys()), threshold=0.8)\n",
        "\n",
        "        # Calculer le score basé sur les pondérations et inversions\n",
        "        for match in matchespossent:\n",
        "            matched_word = match['matched_brand']\n",
        "            if any(negate_word in i.split() for negate_word in negate_words):  # Vérifier s'il y a un mot d'inversion\n",
        "                score -= sentimentpositif.get(matched_word, 0)  # Inverser le score\n",
        "            else:\n",
        "                score += sentimentpositif.get(matched_word, 0)  # Ajouter le score positif\n",
        "\n",
        "        for match in matchesnegsent:\n",
        "            matched_word = match['matched_brand']\n",
        "            if any(negate_word in i.split() for negate_word in negate_words):  # Vérifier s'il y a un mot d'inversion\n",
        "                score -= sentimentnegatif.get(matched_word, 0)  # Inverser le score\n",
        "            else:\n",
        "                score += sentimentnegatif.get(matched_word, 0)  # Ajouter le score négatif\n",
        "\n",
        "        # Classifier le tweet selon le score final\n",
        "        if score > 0:\n",
        "            lq.append((i, score))  # Sentiment positif\n",
        "        elif score < 0:\n",
        "            lp.append((i, score))  # Sentiment négatif\n",
        "        else:\n",
        "            lr.append((i, score))  # Sentiment neutre ou non classé\n",
        "\n",
        "    return lq, lp, lr\n"
      ],
      "metadata": {
        "id": "oPiI-c_8GD7q"
      },
      "execution_count": 60,
      "outputs": []
    },
    {
      "cell_type": "code",
      "source": [
        "l=[\"3jbni had lmntouj\",\"had lmntouj khaybe bzf\",\"had telephone ma7mltoch\",\"lpc machi khayb\",\"lferari machi khayba\", \"houa sara7a zwin wlkn lqualité khayba\"]"
      ],
      "metadata": {
        "id": "XlP6KkKYGUaI"
      },
      "execution_count": 61,
      "outputs": []
    },
    {
      "cell_type": "code",
      "source": [
        "positif,negatif,rien=sentiment_analysis3(l, sentiment_positif, sentiment_negatif)"
      ],
      "metadata": {
        "id": "uu9zDrHcGHQi"
      },
      "execution_count": 62,
      "outputs": []
    },
    {
      "cell_type": "code",
      "source": [
        "positif"
      ],
      "metadata": {
        "colab": {
          "base_uri": "https://localhost:8080/"
        },
        "id": "jbjbZntPGJRa",
        "outputId": "6d27762d-46d2-4cb2-98d6-048aa7903122"
      },
      "execution_count": 63,
      "outputs": [
        {
          "output_type": "execute_result",
          "data": {
            "text/plain": [
              "[('3jbni had lmntouj', 0.7),\n",
              " ('lpc machi khayb', 7.0),\n",
              " ('lferari machi khayba', 7.0)]"
            ]
          },
          "metadata": {},
          "execution_count": 63
        }
      ]
    },
    {
      "cell_type": "code",
      "source": [
        "def sentiment_analysis4(l, sentimentpositif, sentimentnegatif):\n",
        "    \"\"\"\n",
        "    Analyse les sentiments dans des textes darija avec gestion de 'wlkn' (mais)\n",
        "    Utilise les fonctions existantes find_similar_brands\n",
        "    \"\"\"\n",
        "    lq = []  # Liste pour les tweets avec sentiments positifs\n",
        "    lp = []  # Liste pour les tweets avec sentiments négatifs\n",
        "    lr = []  # Liste pour les tweets neutres ou non classés\n",
        "\n",
        "    # Mots qui inversent le sentiment\n",
        "    negate_words = [\"machi\", \"ma\", \"mchi\", \"maxi\", \"machy\"]\n",
        "\n",
        "    # Variations de \"wlkn\" (mais)\n",
        "    contrast_words = [\"wlkn\", \"walakine\", \"walkin\", \"walakin\", \"welakine\", \"mais\", \"lakin\"]\n",
        "\n",
        "    for text in l:\n",
        "        # Vérifier si le texte contient un mot de contraste\n",
        "        words = text.split()\n",
        "        contrast_index = -1\n",
        "        for i, word in enumerate(words):\n",
        "            if word.lower() in contrast_words:\n",
        "                contrast_index = i\n",
        "                break\n",
        "\n",
        "        if contrast_index != -1:\n",
        "            # Si \"wlkn\" est présent, séparer la phrase en deux parties\n",
        "            before_contrast = \" \".join(words[:contrast_index])\n",
        "            after_contrast = \" \".join(words[contrast_index + 1:])\n",
        "\n",
        "            # Trouver les sentiments après \"wlkn\"\n",
        "            matchespossent = find_similar_brands(after_contrast, list(sentimentpositif.keys()), threshold=0.7)\n",
        "            matchesnegsent = find_similar_brands(after_contrast, list(sentimentnegatif.keys()), threshold=0.8)\n",
        "\n",
        "            # Calculer le score uniquement pour la partie après \"wlkn\"\n",
        "            score = 0\n",
        "            for match in matchespossent:\n",
        "                matched_word = match['matched_brand']\n",
        "                if any(negate_word in after_contrast.split() for negate_word in negate_words):\n",
        "                    score -= sentimentpositif.get(matched_word, 0)\n",
        "                else:\n",
        "                    score += sentimentpositif.get(matched_word, 0)\n",
        "\n",
        "            for match in matchesnegsent:\n",
        "                matched_word = match['matched_brand']\n",
        "                if any(negate_word in after_contrast.split() for negate_word in negate_words):\n",
        "                    score -= sentimentnegatif.get(matched_word, 0)\n",
        "                else:\n",
        "                    score += sentimentnegatif.get(matched_word, 0)\n",
        "\n",
        "        else:\n",
        "            # Si pas de \"wlkn\", analyser la phrase entière comme avant\n",
        "            score = 0\n",
        "            matchespossent = find_similar_brands(text, list(sentimentpositif.keys()), threshold=0.7)\n",
        "            matchesnegsent = find_similar_brands(text, list(sentimentnegatif.keys()), threshold=0.8)\n",
        "\n",
        "            for match in matchespossent:\n",
        "                matched_word = match['matched_brand']\n",
        "                if any(negate_word in text.split() for negate_word in negate_words):\n",
        "                    score -= sentimentpositif.get(matched_word, 0)\n",
        "                else:\n",
        "                    score += sentimentpositif.get(matched_word, 0)\n",
        "\n",
        "            for match in matchesnegsent:\n",
        "                matched_word = match['matched_brand']\n",
        "                if any(negate_word in text.split() for negate_word in negate_words):\n",
        "                    score -= sentimentnegatif.get(matched_word, 0)\n",
        "                else:\n",
        "                    score += sentimentnegatif.get(matched_word, 0)\n",
        "\n",
        "        # Classifier selon le score final\n",
        "        if score > 0:\n",
        "            lq.append((text, score))\n",
        "        elif score < 0:\n",
        "            lp.append((text, score))\n",
        "        else:\n",
        "            lr.append((text, score))\n",
        "\n",
        "    return lq, lp, lr"
      ],
      "metadata": {
        "id": "oEWSnMJNN-DD"
      },
      "execution_count": 64,
      "outputs": []
    },
    {
      "cell_type": "code",
      "source": [
        "def sentiment_analysis6(l, sentimentpositif, sentimentnegatif):\n",
        "    \"\"\"\n",
        "    Analyse les sentiments dans des textes darija avec gestion avancée des nuances\n",
        "    Paramètres:\n",
        "        l: Liste des textes à analyser\n",
        "        sentimentpositif: Dictionnaire des mots positifs et leurs scores\n",
        "        sentimentnegatif: Dictionnaire des mots négatifs et leurs scores\n",
        "    Retourne:\n",
        "        lq: Liste des textes positifs avec leurs scores\n",
        "        lp: Liste des textes négatifs avec leurs scores\n",
        "        lr: Liste des textes neutres avec leurs scores\n",
        "    \"\"\"\n",
        "    lq = []  # Liste pour les tweets positifs\n",
        "    lp = []  # Liste pour les tweets négatifs\n",
        "    lr = []  # Liste pour les tweets neutres\n",
        "\n",
        "    # Mots qui inversent le sentiment avec leurs variations\n",
        "    negate_words = {\n",
        "        \"machi\": [\"machi\", \"machy\", \"mchi\", \"mashi\"],\n",
        "        \"ma\": [\"ma\", \"maxi\", \"maxay\", \"makay\"],\n",
        "        \"la\": [\"la\", \"lay\", \"laa\"]\n",
        "    }\n",
        "\n",
        "    # Mots de contraste avec leurs variations\n",
        "    contrast_words = {\n",
        "        \"wlkn\": [\"wlkn\", \"walakine\", \"walkin\", \"walakin\", \"welakine\"],\n",
        "        \"mais\": [\"mais\", \"maya\", \"mayo\"],\n",
        "        \"lakin\": [\"lakin\", \"lakine\", \"laken\"]\n",
        "    }\n",
        "\n",
        "    # Intensificateurs qui modifient le score\n",
        "    intensifiers = {\n",
        "        \"bzf\": 1.5,    # très\n",
        "        \"bzf\": 1.5,      # très\n",
        "        \"bzaf\": 1.5,     # variante\n",
        "        \"bzaaf\": 1.5,    # variante\n",
        "        \"bzef\": 1.5,     # variante\n",
        "        \"bezaf\": 1.5,    # variante rare\n",
        "        \"bazaf\": 1.5,    # variante alternative\n",
        "        \"bzff\": 1.5   ,\n",
        "        \"ktir\": 1.3,      # beaucoup\n",
        "        \"chwiya\": 0.7,\n",
        "        \"chouia\": 0.7,\n",
        "        \"chwia\": 0.7,\n",
        "        \"choia\": 0.7,# un peu\n",
        "        \"chwiya\": 0.7,\n",
        "        \"kamel\": 1.4,     # complètement\n",
        "        \"bla9iyass\": 1.6,       # extrêmement\n",
        "        \"mout\": 1.8       # mort de\n",
        "    }\n",
        "\n",
        "    def normalize_text(text):\n",
        "        \"\"\"Normalise le texte en gérant les variations d'écriture.\"\"\"\n",
        "        # Conversion des chiffres arabes\n",
        "        number_map = {'3': '3', '7': '7', '9': '9', '2': '2', '5': '5', '8': '8'}\n",
        "        normalized = ''.join(number_map.get(c, c) for c in text)\n",
        "        return normalized.lower().strip()\n",
        "\n",
        "    def is_negated(word, text_words):\n",
        "        \"\"\"Vérifie si un mot est sous l'influence d'une négation.\"\"\"\n",
        "        word_index = text_words.index(word) if word in text_words else -1\n",
        "        if word_index == -1:\n",
        "            return False\n",
        "\n",
        "        # Vérifie les 3 mots précédents pour la négation\n",
        "        for i in range(max(0, word_index - 3), word_index + 1):\n",
        "            for neg_variations in negate_words.values():\n",
        "                if text_words[i] in neg_variations:\n",
        "                    return True\n",
        "        return False\n",
        "\n",
        "    def get_intensifier_multiplier(text_words):\n",
        "        \"\"\"Calcule le multiplicateur basé sur les intensificateurs présents.\"\"\"\n",
        "        multiplier = 1.0\n",
        "        for word in text_words:\n",
        "            if word in intensifiers:\n",
        "                multiplier *= intensifiers[word]\n",
        "        return multiplier\n",
        "\n",
        "    for text in l:\n",
        "        text = normalize_text(text)\n",
        "        words = text.split()\n",
        "\n",
        "        # Recherche des mots de contraste\n",
        "        contrast_index = -1\n",
        "        for i, word in enumerate(words):\n",
        "            for contrast_variations in contrast_words.values():\n",
        "                if word in contrast_variations:\n",
        "                    contrast_index = i\n",
        "                    break\n",
        "            if contrast_index != -1:\n",
        "                break\n",
        "\n",
        "        segments = []\n",
        "        if contrast_index != -1:\n",
        "            # Diviser le texte en segments avant/après le contraste\n",
        "            before_contrast = \" \".join(words[:contrast_index])\n",
        "            after_contrast = \" \".join(words[contrast_index + 1:])\n",
        "            segments = [before_contrast, after_contrast]\n",
        "        else:\n",
        "            segments = [text]\n",
        "\n",
        "        total_score = 0\n",
        "        for segment in segments:\n",
        "            segment_words = segment.split()\n",
        "            segment_score = 0\n",
        "\n",
        "            # Analyse des sentiments positifs\n",
        "            matchespossent = find_similar_brands(segment, list(sentimentpositif.keys()), threshold=0.7)\n",
        "            for match in matchespossent:\n",
        "                matched_word = match['matched_brand']\n",
        "                score = sentimentpositif.get(matched_word, 0)\n",
        "\n",
        "                if is_negated(matched_word, segment_words):\n",
        "                    score *= -1\n",
        "\n",
        "                multiplier = get_intensifier_multiplier(segment_words)\n",
        "                segment_score += score * multiplier\n",
        "\n",
        "            # Analyse des sentiments négatifs\n",
        "            matchesnegsent = find_similar_brands(segment, list(sentimentnegatif.keys()), threshold=0.7)\n",
        "            for match in matchesnegsent:\n",
        "                matched_word = match['matched_brand']\n",
        "                score = sentimentnegatif.get(matched_word, 0)\n",
        "\n",
        "                if is_negated(matched_word, segment_words):\n",
        "                    score *= -1\n",
        "\n",
        "                multiplier = get_intensifier_multiplier(segment_words)\n",
        "                segment_score += score * multiplier\n",
        "\n",
        "            # Si c'est le segment après un contraste, on lui donne plus de poids\n",
        "            if len(segments) > 1 and segment == segments[1]:\n",
        "                segment_score *= 1.2\n",
        "\n",
        "            total_score += segment_score\n",
        "\n",
        "        # Classification avec le contexte\n",
        "        result_tuple = (text, total_score)\n",
        "        if total_score > 0:\n",
        "            lq.append(result_tuple)\n",
        "        elif total_score < 0:\n",
        "            lp.append(result_tuple)\n",
        "        else:\n",
        "            lr.append(result_tuple)\n",
        "\n",
        "    # Tri des résultats par intensité du sentiment\n",
        "    lq.sort(key=lambda x: x[1], reverse=True)\n",
        "    lp.sort(key=lambda x: x[1])\n",
        "    lr.sort(key=lambda x: abs(x[1]))\n",
        "\n",
        "    return lq, lp, lr"
      ],
      "metadata": {
        "id": "LdoeVLrGRlug"
      },
      "execution_count": 87,
      "outputs": []
    },
    {
      "cell_type": "code",
      "source": [
        "def sentiment_analysis7(l, sentimentpositif, sentimentnegatif):\n",
        "    \"\"\"\n",
        "    Analyse les sentiments dans des textes darija avec gestion des inversions, fautes d'orthographe,\n",
        "    et intensificateurs.\n",
        "    \"\"\"\n",
        "    lq = []  # Liste pour les tweets positifs\n",
        "    lp = []  # Liste pour les tweets négatifs\n",
        "    lr = []  # Liste pour les tweets neutres\n",
        "\n",
        "    negate_words = [\"machi\", \"machy\", \"mchi\", \"mashi\", \"ma\", \"maxi\", \"makay\", \"la\", \"lay\", \"laa\"]\n",
        "\n",
        "    intensifiers = {\n",
        "        \"bzf\": 1.5, \"bzaf\": 1.5, \"bzaaf\": 1.5, \"bzef\": 1.5, \"bezaf\": 1.5,\n",
        "        \"bazaf\": 1.5, \"bzff\": 1.5, \"ktir\": 1.3, \"keteer\": 1.3,\n",
        "        \"chwiya\": 0.7, \"chwia\": 0.7, \"chouia\": 0.7, \"choia\": 0.7,\n",
        "        \"kamel\": 1.4, \"bla9iyass\": 1.6, \"bela9ias\": 1.6, \"mout\": 1.8, \"moot\": 1.8\n",
        "    }\n",
        "\n",
        "    def is_negated(word_index, words):\n",
        "        \"\"\"Vérifie si un mot est sous l'influence d'une négation.\"\"\"\n",
        "        for i in range(max(0, word_index - 3), word_index):\n",
        "            if words[i] in negate_words:\n",
        "                return True\n",
        "        return False\n",
        "\n",
        "    def get_intensifier_multiplier(word_index, words):\n",
        "        \"\"\"Calcule le multiplicateur d'intensité basé sur les intensificateurs présents.\"\"\"\n",
        "        multiplier = 1.0\n",
        "        for i in range(max(0, word_index - 2), word_index):\n",
        "            matches = find_similar_brands(words[i], list(intensifiers.keys()), threshold=0.7)\n",
        "            if matches:\n",
        "                matched_word = matches[0]['matched_brand']\n",
        "                multiplier *= intensifiers.get(matched_word, 1.0)\n",
        "        return multiplier\n",
        "\n",
        "    for text in l:\n",
        "        words = text.split()\n",
        "        score = 0\n",
        "\n",
        "        # Parcourir chaque mot pour détecter les sentiments et appliquer les intensificateurs\n",
        "        for word_index, word in enumerate(words):\n",
        "            # Recherche des sentiments positifs\n",
        "            matchespossent = find_similar_brands(word, list(sentimentpositif.keys()), threshold=0.7)\n",
        "            for match in matchespossent:\n",
        "                matched_word = match['matched_brand']\n",
        "                word_score = sentimentpositif.get(matched_word, 0)\n",
        "                multiplier = get_intensifier_multiplier(word_index, words)  # Appliquer l'intensificateur\n",
        "                if is_negated(word_index, words):  # Si le mot est précédé par un mot de négation\n",
        "                    word_score *= -1\n",
        "                score += word_score * multiplier  # Multiplier le score par l'intensificateur\n",
        "\n",
        "            # Recherche des sentiments négatifs\n",
        "            matchesnegsent = find_similar_brands(word, list(sentimentnegatif.keys()), threshold=0.8)\n",
        "            for match in matchesnegsent:\n",
        "                matched_word = match['matched_brand']\n",
        "                word_score = sentimentnegatif.get(matched_word, 0)\n",
        "                multiplier = get_intensifier_multiplier(word_index, words)  # Appliquer l'intensificateur\n",
        "                if is_negated(word_index, words):  # Si le mot est précédé par un mot de négation\n",
        "                    word_score *= -1\n",
        "                score += word_score * multiplier  # Multiplier le score par l'intensificateur\n",
        "\n",
        "        # Classification selon le score\n",
        "        if score > 0:\n",
        "            lq.append((text, score))\n",
        "        elif score < 0:\n",
        "            lp.append((text, score))\n",
        "        else:\n",
        "            lr.append((text, score))\n",
        "\n",
        "    return lq, lp, lr\n"
      ],
      "metadata": {
        "id": "MR2f_LraCEQD"
      },
      "execution_count": 192,
      "outputs": []
    },
    {
      "cell_type": "code",
      "source": [
        "def sentiment_analysis8(l, sentimentpositif, sentimentnegatif):\n",
        "    \"\"\"\n",
        "    Analyse les sentiments dans des textes darija avec gestion des inversions, fautes d'orthographe,\n",
        "    et intensificateurs.\n",
        "    \"\"\"\n",
        "    lq = []  # Liste pour les tweets positifs\n",
        "    lp = []  # Liste pour les tweets négatifs\n",
        "    lr = []  # Liste pour les tweets neutres\n",
        "\n",
        "    negate_words = [\"machi\", \"machy\", \"mchi\", \"mashi\", \"ma\", \"maxi\", \"makay\", \"la\", \"lay\", \"laa\"]\n",
        "\n",
        "    intensifiers = {\n",
        "        \"bzf\": 1.5, \"bzaf\": 1.5, \"bzaaf\": 1.5, \"bzef\": 1.5, \"bezaf\": 1.5,\n",
        "        \"bazaf\": 1.5, \"bzff\": 1.5, \"ktir\": 1.3, \"keteer\": 1.3,\n",
        "        \"chwiya\": 0.7, \"chwia\": 0.7, \"chouia\": 0.7, \"choia\": 0.7,\n",
        "        \"kamel\": 1.4, \"bla9iyass\": 1.6, \"bela9ias\": 1.6, \"mout\": 1.8, \"moot\": 1.8\n",
        "    }\n",
        "\n",
        "    def is_negated(word_index, words):\n",
        "        \"\"\"Vérifie si un mot est sous l'influence d'une négation.\"\"\"\n",
        "        for i in range(max(0, word_index - 3), word_index):\n",
        "            if words[i] in negate_words:\n",
        "                return True\n",
        "        return False\n",
        "\n",
        "    def get_intensifier_multiplier(words, sentiment_index):\n",
        "        \"\"\"\n",
        "        Calcule le multiplicateur d'intensité en cherchant les intensificateurs après le mot de sentiment.\n",
        "        \"\"\"\n",
        "        multiplier = 1.0\n",
        "        # Chercher dans les 2 mots suivant le mot de sentiment\n",
        "        for i in range(sentiment_index + 1, min(sentiment_index + 3, len(words))):\n",
        "            matches = find_similar_brands(words[i], list(intensifiers.keys()), threshold=0.7)\n",
        "            if matches:\n",
        "                matched_intensifier = matches[0]['matched_brand']\n",
        "                multiplier *= intensifiers[matched_intensifier]\n",
        "        return multiplier\n",
        "\n",
        "    for text in l:\n",
        "        if not text.strip():  # Ignorer les textes vides\n",
        "            continue\n",
        "\n",
        "        words = text.split()\n",
        "        score = 0\n",
        "\n",
        "        # Parcourir chaque mot\n",
        "        for word_index, word in enumerate(words):\n",
        "            # Vérifier la négation\n",
        "            is_neg = is_negated(word_index, words)\n",
        "\n",
        "            # Vérifier les sentiments positifs\n",
        "            matches_pos = find_similar_brands(word, list(sentimentpositif.keys()), threshold=0.7)\n",
        "            for match in matches_pos:\n",
        "                matched_word = match['matched_brand']\n",
        "                # Obtenir le multiplicateur en vérifiant les mots qui suivent\n",
        "                multiplier = get_intensifier_multiplier(words, word_index)\n",
        "                word_score = sentimentpositif[matched_word] * multiplier\n",
        "                score += -word_score if is_neg else word_score\n",
        "\n",
        "            # Vérifier les sentiments négatifs\n",
        "            matches_neg = find_similar_brands(word, list(sentimentnegatif.keys()), threshold=0.8)\n",
        "            for match in matches_neg:\n",
        "                matched_word = match['matched_brand']\n",
        "                # Obtenir le multiplicateur en vérifiant les mots qui suivent\n",
        "                multiplier = get_intensifier_multiplier(words, word_index)\n",
        "                word_score = sentimentnegatif[matched_word] * multiplier\n",
        "                score += -word_score if is_neg else word_score\n",
        "\n",
        "        # Classification selon le score\n",
        "        if score > 0:\n",
        "            lq.append((text, score))\n",
        "        elif score < 0:\n",
        "            lp.append((text, score))\n",
        "        else:\n",
        "            lr.append((text, score))\n",
        "\n",
        "    return lq, lp, lr"
      ],
      "metadata": {
        "id": "lPKbYiOyKXYK"
      },
      "execution_count": 268,
      "outputs": []
    },
    {
      "cell_type": "code",
      "source": [
        "l=[\"3jbni had lmntouj\",\"had lmntouj khaybe bzf\",\"had telephone ma7mltoch\",\"lpc machi khayb\",\"lferari machi khayba\", \"houa sara7a zwin wlkn lqualité khayba\",\"hoa ah l liphone zwin mais l ecran dialo khayba \",\"lp khayb bzf\"]"
      ],
      "metadata": {
        "id": "WDm2wLTLOFNq"
      },
      "execution_count": 66,
      "outputs": []
    },
    {
      "cell_type": "code",
      "source": [
        "l1=[\"mourad machi zine\", \"miaw, benkiran 7amed wlkn zina\", \"ana zwin\",\"ana zwin bezf\"]"
      ],
      "metadata": {
        "id": "m-6RS0YrSoBy"
      },
      "execution_count": 258,
      "outputs": []
    },
    {
      "cell_type": "code",
      "source": [
        "positif,negatif,rien=sentiment_analysis8(l1, sentiment_positif, sentiment_negatif)"
      ],
      "metadata": {
        "id": "qYGCDMj9OLuA"
      },
      "execution_count": 260,
      "outputs": []
    },
    {
      "cell_type": "code",
      "source": [
        "negatif"
      ],
      "metadata": {
        "colab": {
          "base_uri": "https://localhost:8080/"
        },
        "id": "UC4REZyNOPK4",
        "outputId": "0f6fc387-3f73-49e0-f78b-c5d790c21af7"
      },
      "execution_count": 261,
      "outputs": [
        {
          "output_type": "execute_result",
          "data": {
            "text/plain": [
              "[('mourad machi zine', -0.7)]"
            ]
          },
          "metadata": {},
          "execution_count": 261
        }
      ]
    },
    {
      "cell_type": "code",
      "source": [],
      "metadata": {
        "id": "ea_-yK_fGuQC"
      },
      "execution_count": null,
      "outputs": []
    },
    {
      "cell_type": "code",
      "source": [
        "find_similar_brands(\"\", sentiment_positif, threshold=0.7)"
      ],
      "metadata": {
        "id": "Ry7uFvL2R-SB",
        "colab": {
          "base_uri": "https://localhost:8080/"
        },
        "outputId": "31a24fbb-2b22-4f69-8082-b841df4726b0"
      },
      "execution_count": 157,
      "outputs": [
        {
          "output_type": "execute_result",
          "data": {
            "text/plain": [
              "[{'found_word': '7bitou',\n",
              "  'matched_brand': '7bit',\n",
              "  'composite_score': 0.756,\n",
              "  'details': {'levenshtein_score': 0.667,\n",
              "   'sequence_score': 0.8,\n",
              "   'phonetic_score': 0.8}}]"
            ]
          },
          "metadata": {},
          "execution_count": 157
        }
      ]
    },
    {
      "cell_type": "code",
      "source": [
        "sentiment_positif"
      ],
      "metadata": {
        "colab": {
          "base_uri": "https://localhost:8080/"
        },
        "id": "l5UFPU7JDy3m",
        "outputId": "d1969c10-139d-4c3a-ec83-6c83fd8f1e7d"
      },
      "execution_count": 116,
      "outputs": [
        {
          "output_type": "execute_result",
          "data": {
            "text/plain": [
              "{'3jbni': 0.7,\n",
              " '7bit': 0.9,\n",
              " '7ebit': 0.7,\n",
              " 'nadi': 0.8,\n",
              " 'zwin': 0.7,\n",
              " 'wa3r': 8.0,\n",
              " 'naadia': 0.7,\n",
              " 'mfrge3a': 8.0,\n",
              " 'ghzal': 1.0,\n",
              " 'makhaybch': 0.4,\n",
              " 'nadiya': 0.8,\n",
              " 'nadia': 0.8,\n",
              " 'mana9ssach': 0.4,\n",
              " 'matay7ach': 0.4}"
            ]
          },
          "metadata": {},
          "execution_count": 116
        }
      ]
    },
    {
      "cell_type": "code",
      "source": [
        "l1=[\"had lmntouj machy zwin wlkn zwin\",\"lpc zwin bezaf\",\"lpc zwin\",\"lpc zwin bzf\",\"tacos 3iyan\",\"l iphone zwin wlkn lqualité khayba\"]"
      ],
      "metadata": {
        "id": "mhidovq4N98h"
      },
      "execution_count": 262,
      "outputs": []
    },
    {
      "cell_type": "code",
      "source": [
        "positif,negatif,rien=sentiment_analysis8(l1, sentiment_positif, sentiment_negatif)"
      ],
      "metadata": {
        "id": "dVK1RMFXOTWj"
      },
      "execution_count": 266,
      "outputs": []
    },
    {
      "cell_type": "code",
      "source": [
        "negatif"
      ],
      "metadata": {
        "colab": {
          "base_uri": "https://localhost:8080/"
        },
        "id": "pxy4GnDzOW1I",
        "outputId": "9587e2a0-30df-4434-c36e-ffdbeeae805b"
      },
      "execution_count": 267,
      "outputs": [
        {
          "output_type": "execute_result",
          "data": {
            "text/plain": [
              "[('had lmntouj machy zwin wlkn zwin', -1.4),\n",
              " ('tacos 3iyan', -0.7),\n",
              " ('l iphone zwin wlkn lqualité khayba', -6.3)]"
            ]
          },
          "metadata": {},
          "execution_count": 267
        }
      ]
    },
    {
      "cell_type": "code",
      "source": [
        "find_similar_brands(\"3iyan\", sentiment_negatif, threshold=0.5)"
      ],
      "metadata": {
        "colab": {
          "base_uri": "https://localhost:8080/"
        },
        "id": "I0pvIsdcPJHJ",
        "outputId": "b6ae95b5-cec3-4515-9bcb-5ac977eca458"
      },
      "execution_count": 224,
      "outputs": [
        {
          "output_type": "execute_result",
          "data": {
            "text/plain": [
              "[]"
            ]
          },
          "metadata": {},
          "execution_count": 224
        }
      ]
    }
  ]
}